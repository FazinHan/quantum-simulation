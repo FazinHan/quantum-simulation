{
 "cells": [
  {
   "cell_type": "code",
   "execution_count": 1,
   "id": "b78bac56-92eb-4759-b43f-add58664aef8",
   "metadata": {},
   "outputs": [
    {
     "name": "stdout",
     "output_type": "stream",
     "text": [
      "Python 3.6.8\n"
     ]
    }
   ],
   "source": [
    "!python3 --version\n",
    "from qiskit.visualization import plot_histogram\n",
    "from qiskit import QuantumCircuit, Aer, execute\n",
    "from qiskit.algorithms.optimizers import TNC, CG\n",
    "from qiskit.opflow import X, Y, Z, I, PauliSumOp, PauliOp"
   ]
  },
  {
   "cell_type": "markdown",
   "id": "295be96e-32a1-4ffd-b4b5-da2e0d249097",
   "metadata": {},
   "source": [
    "The Fauseweh-Zhu paper [here](https://arxiv.org/pdf/2112.04276)."
   ]
  },
  {
   "cell_type": "markdown",
   "id": "18df3c2c-4d1b-42c5-8c06-bcb901944241",
   "metadata": {},
   "source": [
    "Optimization library in\n",
    "- [Julia](https://julianlsolvers.github.io/Optim.jl/stable/algo/linesearch/)\n",
    "- [Python](https://docs.scipy.org/doc/scipy/reference/optimize.minimize-bfgs.html) (BFGS)"
   ]
  },
  {
   "cell_type": "markdown",
   "id": "438725a5-c64e-4bcc-9ada-6abb52d3a5cb",
   "metadata": {},
   "source": [
    "- [TrotterQRTE](https://docs.quantum.ibm.com/api/qiskit/0.46/qiskit.algorithms.time_evolvers.trotterization.TrotterQRTE) for time evolution\n",
    "- Using [estimator](https://docs.quantum.ibm.com/api/qiskit/0.46/qiskit.primitives.Estimator) to measure expectation"
   ]
  },
  {
   "cell_type": "markdown",
   "id": "478de848-705e-4735-aba6-4f659e00ca8a",
   "metadata": {},
   "source": [
    "Optimise by (if not deprecated):\n",
    "- [Conjugate gradient](https://docs.quantum.ibm.com/api/qiskit/0.26/qiskit.algorithms.optimizers.CG)\n",
    "- [Truncated descent](https://docs.quantum.ibm.com/api/qiskit/0.26/qiskit.algorithms.optimizers.CG)"
   ]
  },
  {
   "cell_type": "code",
   "execution_count": 2,
   "id": "c35533f4-41c0-4aea-b447-b8c129b35499",
   "metadata": {},
   "outputs": [],
   "source": [
    "chain_length = 4\n",
    "\n",
    "num_layers = 1\n",
    "\n",
    "shots = 2000"
   ]
  },
  {
   "cell_type": "code",
   "execution_count": 3,
   "id": "b10acdbb-585e-4d58-ad82-73cc6cb7afb0",
   "metadata": {},
   "outputs": [],
   "source": [
    "parameter_space_size = 2 * chain_length + 3 * chain_length * num_layers\n",
    "\n",
    "param_space = [0]*parameter_space_size"
   ]
  },
  {
   "cell_type": "code",
   "execution_count": 12,
   "id": "93900ab8-fc57-4984-af32-73dd72a9b4e0",
   "metadata": {},
   "outputs": [],
   "source": [
    "def ansatz_circuit_0(qc, param_space):\n",
    "    # layer 0\n",
    "    param_counter = 0\n",
    "    for i in range(chain_length):\n",
    "        qc.rx(param_space[param_counter],i)\n",
    "        param_counter=param_counter+1\n",
    "        qc.rz(param_space[param_counter],i)\n",
    "        param_counter=param_counter+1\n",
    "    \n",
    "def ansatz_circuit_1(qc, param_space):\n",
    "    param_counter = 2 * chain_length\n",
    "    for i in range(chain_length-1):\n",
    "        qc.cx(i,i+1)\n",
    "    qc.cx(-1,0)\n",
    "    for i in range(chain_length):\n",
    "        qc.rz(param_space[param_counter],i)\n",
    "        param_counter=param_counter+1\n",
    "        qc.rx(param_space[param_counter],i)\n",
    "        param_counter=param_counter+1\n",
    "        qc.rz(param_space[param_counter],i)\n",
    "\n",
    "def create_ansatz_circuit(qc, num_layers=num_layers, param_space=param_space):\n",
    "    ansatz_circuit_0(qc, param_space)\n",
    "    for i in range(num_layers):\n",
    "        ansatz_circuit_1(qc, param_space)\n",
    "\n",
    "def ansatz_circuit_ladder(qc, param_space):\n",
    "    register_size = chain_length*2\n",
    "    # layer 0\n",
    "    param_counter = 0\n",
    "    for i in range(register_size):\n",
    "        qc.rx(param_space[param_counter],i)\n",
    "        param_counter=param_counter+1\n",
    "    for i in range(register_size):\n",
    "        qc.rz(param_space[param_counter],i)\n",
    "        param_counter=param_counter+1\n",
    "    for i in range(1,register_size//2):\n",
    "        place = 2 * i - 1\n",
    "        qc.cx(place,place+1)\n",
    "    # qc.cx(-1,0)\n",
    "\n",
    "def simulate(qc, shots=shots):\n",
    "    ## Run this cell to simulate 'qpe4' and to plot the histogram of the result\n",
    "    sim = Aer.get_backend('aer_simulator')\n",
    "    count_qpe4 = execute(qc, sim, shots=shots).result().get_counts()\n",
    "    # return plot_histogram(count_qpe4)#, figsize=(9,5))\n",
    "    return count_qpe4\n",
    "\n",
    "def hamiltonian(t, J=1, A=2, Ω=1):\n",
    "    creator = ['I']*chain_length\n",
    "    paulis = ['I','X','Y','Z']\n",
    "    ham = [] # [('X',1.0)]\n",
    "    for i in range(chain_length-1):\n",
    "        for j in range(1,4):\n",
    "            op = creator[:]\n",
    "            op[i] = paulis[j]\n",
    "            op[i+1] = paulis[j]\n",
    "            ham.append((''.join(op), -J/4))\n",
    "    for i in range(\n",
    "    print(ham)"
   ]
  },
  {
   "cell_type": "code",
   "execution_count": 13,
   "id": "84f2da46-7d7f-41ae-956a-29a3244f0ce4",
   "metadata": {},
   "outputs": [
    {
     "name": "stdout",
     "output_type": "stream",
     "text": [
      "[('XXII', -0.25), ('YYII', -0.25), ('ZZII', -0.25), ('IXXI', -0.25), ('IYYI', -0.25), ('IZZI', -0.25), ('IIXX', -0.25), ('IIYY', -0.25), ('IIZZ', -0.25)]\n"
     ]
    }
   ],
   "source": [
    "hamiltonian(0)"
   ]
  },
  {
   "cell_type": "code",
   "execution_count": 5,
   "id": "5c92481d-11ec-4e69-af11-54263afc8699",
   "metadata": {
    "collapsed": true,
    "jupyter": {
     "outputs_hidden": true
    },
    "tags": []
   },
   "outputs": [
    {
     "data": {
      "image/png": "[encoded data removed]",
      "text/plain": [
       "<Figure size 959.679x325.08 with 1 Axes>"
      ]
     },
     "execution_count": 5,
     "metadata": {},
     "output_type": "execute_result"
    }
   ],
   "source": [
    "qc = QuantumCircuit(chain_length)\n",
    "\n",
    "# qc.h(qc.qubits)\n",
    "\n",
    "create_ansatz_circuit(qc)\n",
    "\n",
    "qc.measure_all()\n",
    "\n",
    "qc.draw('mpl')"
   ]
  },
  {
   "cell_type": "code",
   "execution_count": 6,
   "id": "54a112a9-b0ef-4246-b011-90941ab71e67",
   "metadata": {
    "tags": []
   },
   "outputs": [
    {
     "name": "stdout",
     "output_type": "stream",
     "text": [
      "CPU times: user 163 ms, sys: 8.09 ms, total: 172 ms\n",
      "Wall time: 172 ms\n"
     ]
    },
    {
     "data": {
      "image/png": "[encoded data removed]",
      "text/plain": [
       "<Figure size 504x360 with 1 Axes>"
      ]
     },
     "execution_count": 6,
     "metadata": {},
     "output_type": "execute_result"
    }
   ],
   "source": [
    "%%time\n",
    "plot_histogram(simulate(qc))"
   ]
  },
  {
   "cell_type": "code",
   "execution_count": null,
   "id": "36c36f13-c049-4a68-a19a-ac0208e59040",
   "metadata": {},
   "outputs": [],
   "source": []
  }
 ],
 "metadata": {
  "kernelspec": {
   "display_name": "Python 3",
   "language": "python",
   "name": "python3"
  },
  "language_info": {
   "codemirror_mode": {
    "name": "ipython",
    "version": 3
   },
   "file_extension": ".py",
   "mimetype": "text/x-python",
   "name": "python",
   "nbconvert_exporter": "python",
   "pygments_lexer": "ipython3",
   "version": "3.6.8"
  }
 },
 "nbformat": 4,
 "nbformat_minor": 5
}
