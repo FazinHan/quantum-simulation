{
 "cells": [
  {
   "cell_type": "code",
   "execution_count": 1,
   "id": "b78bac56-92eb-4759-b43f-add58664aef8",
   "metadata": {},
   "outputs": [
    {
     "name": "stdout",
     "output_type": "stream",
     "text": [
      "Python 3.12.3\n",
      "qiskit==1.1.0\n",
      "qiskit-algorithms==0.3.0\n",
      "qiskit-nature==0.7.2\n"
     ]
    }
   ],
   "source": [
    "!python3 --version\n",
    "!pip freeze | grep qiskit\n",
    "from qiskit.visualization import plot_histogram\n",
    "from qiskit.circuit import QuantumCircuit, Parameter\n",
    "from qiskit.circuit.library import TwoLocal, UGate, PauliEvolutionGate\n",
    "from qiskit.quantum_info import Statevector, SparsePauliOp\n",
    "import numpy as np\n",
    "import matplotlib.pyplot as plt"
   ]
  },
  {
   "cell_type": "markdown",
   "id": "295be96e-32a1-4ffd-b4b5-da2e0d249097",
   "metadata": {},
   "source": [
    "The Fauseweh-Zhu paper [here](https://arxiv.org/pdf/2112.04276)."
   ]
  },
  {
   "cell_type": "markdown",
   "id": "772756bd-c6e2-4fb9-8c58-2edb1cec78f8",
   "metadata": {},
   "source": [
    "Variational Quantum Design Course from IBMQ Learning\n",
    "- [Ansatz](https://learning.quantum.ibm.com/course/variational-algorithm-design/ansatze-and-variational-forms) include the NLocal, we use TwoLocal (but i already wrote this)\n",
    "- [Optimisation](https://learning.quantum.ibm.com/course/variational-algorithm-design/ansatze-and-variational-forms) frameworks has also been discussed\n",
    "\n",
    "- Also check out [Quantum Approximate Optimization Algorithm](https://learning.quantum.ibm.com/tutorial/quantum-approximate-optimization-algorithm)"
   ]
  },
  {
   "cell_type": "code",
   "execution_count": 2,
   "id": "c35533f4-41c0-4aea-b447-b8c129b35499",
   "metadata": {},
   "outputs": [],
   "source": [
    "chain_length = 4\n",
    "\n",
    "num_layers = 1\n",
    "\n",
    "shots = 2000"
   ]
  },
  {
   "cell_type": "code",
   "execution_count": 3,
   "id": "c5bae491-985b-4f6b-8e2f-1ff33ad9046b",
   "metadata": {},
   "outputs": [],
   "source": [
    "parameter_space_size = 2 * chain_length + 3 * chain_length * num_layers\n",
    "\n",
    "# param_space = [Parameter(f'θ[{i}]') for i in range(parameter_space_size)]\n",
    "\n",
    "param_space = range(1,parameter_space_size+1)\n",
    "\n",
    "# param_space = [0]*parameter_space_size # initial guess"
   ]
  },
  {
   "cell_type": "code",
   "execution_count": 4,
   "id": "c56fbfb4-98b6-42a5-8eae-3a07bd2ef92a",
   "metadata": {},
   "outputs": [],
   "source": [
    "Ω = 2.5\n",
    "periods = 2*np.pi/Ω\n",
    "num_time_steps = 150\n",
    "dt = periods / num_time_steps\n",
    "A = 0"
   ]
  },
  {
   "cell_type": "code",
   "execution_count": 15,
   "id": "1d063b0e-b904-46bc-a5b1-5a4019fc1011",
   "metadata": {},
   "outputs": [],
   "source": [
    "def ansatz_circuit_0(qc, param_space):\n",
    "    print('Number of params:',parameter_space_size)\n",
    "    # layer 0\n",
    "    param_counter=0\n",
    "    for i in range(chain_length):\n",
    "        qc.rx(param_space[param_counter],i)\n",
    "        param_counter=param_counter+1\n",
    "        qc.rz(param_space[param_counter],i)\n",
    "        param_counter=param_counter+1\n",
    "    \n",
    "def ansatz_circuit_1(qc, param_space):\n",
    "    param_counter = 2 * chain_length\n",
    "    for i in range(chain_length-1):\n",
    "        qc.cx(i,i+1)\n",
    "    qc.cx(-1,0)\n",
    "    for i in range(chain_length):\n",
    "        qc.rz(param_space[param_counter],i)\n",
    "        param_counter=param_counter+1\n",
    "        qc.rx(param_space[param_counter],i)\n",
    "        param_counter=param_counter+1\n",
    "        qc.rz(param_space[param_counter],i)\n",
    "        param_counter=param_counter+1\n",
    "\n",
    "def create_ansatz_circuit(qc, num_layers=num_layers, param_space=param_space):\n",
    "    ansatz_circuit_0(qc, param_space)\n",
    "    for i in range(num_layers):\n",
    "        ansatz_circuit_1(qc, param_space)\n",
    "\n",
    "def ansatz_circuit_ladder(qc, param_space):\n",
    "    register_size = chain_length*2\n",
    "    # layer 0\n",
    "    param_counter = 0\n",
    "    for i in range(register_size):\n",
    "        qc.rx(param_space[param_counter],i)\n",
    "        param_counter=param_counter+1\n",
    "    for i in range(register_size):\n",
    "        qc.rz(param_space[param_counter],i)\n",
    "        param_counter=param_counter+1\n",
    "    for i in range(1,register_size//2):\n",
    "        place = 2 * i - 1\n",
    "        qc.cx(place,place+1)\n",
    "\n",
    "def hamiltonian(t, A=2, J=1, Ω=Ω):\n",
    "    creator = ['I']*chain_length\n",
    "    paulis = ['I','X','Y','Z']\n",
    "    ham = [] # [('X',1.0)]\n",
    "    for i in range(chain_length-1):\n",
    "        for j in range(1,4):\n",
    "            op = creator[:]\n",
    "            op[i] = paulis[j]\n",
    "            op[i+1] = paulis[j]\n",
    "            ham.append([''.join(op), -J/4])\n",
    "    for i in range(chain_length):\n",
    "        op1, op2 = creator[:], creator[:]\n",
    "        op1[i] = 'X'\n",
    "        op2[i] = 'Y'\n",
    "        ham.append([''.join(op1), A * np.cos(Ω*t)])\n",
    "        ham.append([''.join(op2), A * np.sin(Ω*t)])\n",
    "    ham = np.array(ham)\n",
    "    return SparsePauliOp(ham[:,0], ham[:,1])\n",
    "\n",
    "def unitary_time_evolution(ham, num_qbits=chain_length, time=num_time_steps*dt, dt=dt):#num_steps=num_time_steps):\n",
    "\n",
    "    circuit = QuantumCircuit(num_qbits)\n",
    "    \n",
    "    for i in range(1, num_time_steps+1):\n",
    "        circuit.append(PauliEvolutionGate(ham(i*dt), time=dt), range(num_qbits))\n",
    "\n",
    "    # print('Unitary Evolution Circuit')\n",
    "    # display(circuit.draw('mpl'))\n",
    "    \n",
    "    return circuit\n",
    "\n",
    "def overlap(circuit1, circuit2): # < circuit1 | circuit2 >\n",
    "    circuit_state1 = Statevector.from_instruction(circuit1)\n",
    "    circuit_state2 = Statevector.from_instruction(circuit2)\n",
    "    return circuit_state1.inner(circuit_state2)\n",
    "    \n",
    "def cost_function(circuit, unitary_time_evolution, computed_circuits: list, λ=5):\n",
    "    summation = np.sum( [np.abs(overlap(circuit, i))**2 for i in computed_circuits] )\n",
    "    evolved = circuit.compose(unitary_time_evolution)\n",
    "    return np.abs( overlap(circuit, evolved) )**2 - λ * summation\n",
    "\n",
    "def hamiltonian_linear(t, Δ=1, Ω=Ω):\n",
    "    ham = SparsePauliOp(['Z','X'] , [-Δ/2, A/2/Ω*np.cos(Ω*t)])\n",
    "    # plt.plot(t, A*np.cos(Ω*t)/2,'.')\n",
    "    return ham"
   ]
  },
  {
   "cell_type": "code",
   "execution_count": 6,
   "id": "84f2da46-7d7f-41ae-956a-29a3244f0ce4",
   "metadata": {},
   "outputs": [
    {
     "name": "stdout",
     "output_type": "stream",
     "text": [
      "SparsePauliOp(['Z', 'X'],\n",
      "              coeffs=[-1.+0.j,  0.+0.j])\n"
     ]
    }
   ],
   "source": [
    "print(hamiltonian_linear(0,2))"
   ]
  },
  {
   "cell_type": "code",
   "execution_count": 7,
   "id": "5c92481d-11ec-4e69-af11-54263afc8699",
   "metadata": {
    "tags": []
   },
   "outputs": [
    {
     "name": "stdout",
     "output_type": "stream",
     "text": [
      "Number of params: 20\n"
     ]
    }
   ],
   "source": [
    "qc = QuantumCircuit(chain_length)\n",
    "\n",
    "# qc.h(qc.qubits)\n",
    "\n",
    "create_ansatz_circuit(qc, 2)\n",
    "\n",
    "unitary = unitary_time_evolution(hamiltonian)\n",
    "\n",
    "qc.compose(unitary, inplace=True)\n",
    "\n",
    "# qc.measure_all()\n",
    "\n",
    "# qc.draw('mpl')\n",
    "\n",
    "# print(time_evolver(qc, hamiltonian(0)))"
   ]
  },
  {
   "cell_type": "code",
   "execution_count": 8,
   "id": "925cbf35-8b75-468c-9aed-2401a353ffc3",
   "metadata": {},
   "outputs": [
    {
     "data": {
      "text/plain": [
       "(0.3180792608703056+0.9453370697203398j)"
      ]
     },
     "execution_count": 8,
     "metadata": {},
     "output_type": "execute_result"
    }
   ],
   "source": [
    "def linear(*initial_guess):\n",
    "    test_qc = QuantumCircuit(1)\n",
    "    # params = [Parameter(f'θ[{i}]') for i in range(3)]\n",
    "    \n",
    "    test_qc.u(*initial_guess, 0)\n",
    "\n",
    "    unitary_timevo_circuit = unitary_time_evolution(hamiltonian_linear, 1)\n",
    "\n",
    "    evolved = test_qc.compose(unitary_timevo_circuit)\n",
    "\n",
    "    return overlap(test_qc, evolved)\n",
    "\n",
    "    # display(test_qc.draw('mpl'))\n",
    "\n",
    "A = 1\n",
    "\n",
    "linear(0,0,0)    "
   ]
  },
  {
   "cell_type": "code",
   "execution_count": 16,
   "id": "7fb58f40-a666-477c-92cf-feff9f7de972",
   "metadata": {},
   "outputs": [
    {
     "name": "stdout",
     "output_type": "stream",
     "text": [
      "Number of params: 20\n",
      "(-0.01730160281246523+0.1889759079819219j)\n"
     ]
    }
   ],
   "source": [
    "def main():\n",
    "    test_qc = QuantumCircuit(chain_length)\n",
    "    # params = [Parameter(f'θ[{i}]') for i in range(3)]\n",
    "\n",
    "    create_ansatz_circuit(test_qc)\n",
    "\n",
    "    # display(test_qc.draw('mpl'))\n",
    "\n",
    "    unitary_timevo_circuit = unitary_time_evolution(hamiltonian)\n",
    "\n",
    "    evolved = test_qc.compose(unitary_timevo_circuit)\n",
    "\n",
    "    print(overlap(test_qc, evolved))\n",
    "\n",
    "    # display(test_qc.draw('mpl'))\n",
    "\n",
    "main()    "
   ]
  },
  {
   "cell_type": "code",
   "execution_count": 10,
   "id": "efbbc215-1492-4af3-9b78-7928778c63a8",
   "metadata": {},
   "outputs": [
    {
     "data": {
      "text/plain": [
       "0.016755160819145562"
      ]
     },
     "execution_count": 10,
     "metadata": {},
     "output_type": "execute_result"
    }
   ],
   "source": [
    "dt"
   ]
  },
  {
   "cell_type": "code",
   "execution_count": null,
   "id": "0d6bc5c1-bb69-47a4-9c7e-95fd8e760893",
   "metadata": {},
   "outputs": [],
   "source": []
  }
 ],
 "metadata": {
  "kernelspec": {
   "display_name": "Python 3 (ipykernel)",
   "language": "python",
   "name": "python3"
  },
  "language_info": {
   "codemirror_mode": {
    "name": "ipython",
    "version": 3
   },
   "file_extension": ".py",
   "mimetype": "text/x-python",
   "name": "python",
   "nbconvert_exporter": "python",
   "pygments_lexer": "ipython3",
   "version": "3.12.3"
  }
 },
 "nbformat": 4,
 "nbformat_minor": 5
}
