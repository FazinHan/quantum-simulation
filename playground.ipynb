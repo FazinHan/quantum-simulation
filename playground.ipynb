{
 "cells": [
  {
   "cell_type": "markdown",
   "id": "f78684ef-6d2f-4fd1-8e42-922bb61aa5bc",
   "metadata": {},
   "source": [
    "### Notes"
   ]
  },
  {
   "cell_type": "markdown",
   "id": "32a629fe-32dd-454a-93f4-aa99f61db7bf",
   "metadata": {},
   "source": [
    "The Fauseweh-Zhu paper [here](https://arxiv.org/pdf/2112.04276)."
   ]
  },
  {
   "cell_type": "markdown",
   "id": "eb3ed139-ce08-4bcd-9538-b77600f90309",
   "metadata": {},
   "source": [
    "Variational Quantum Design Course from IBMQ Learning\n",
    "- [Ansatz](https://learning.quantum.ibm.com/course/variational-algorithm-design/ansatze-and-variational-forms) include the NLocal, we use TwoLocal (but i already wrote this)\n",
    "- [Optimisation](https://learning.quantum.ibm.com/course/variational-algorithm-design/optimization-loops) frameworks have also been discussed\n",
    "\n",
    "- Also check out [Quantum Approximate Optimization Algorithm](https://learning.quantum.ibm.com/tutorial/quantum-approximate-optimization-algorithm)"
   ]
  },
  {
   "cell_type": "markdown",
   "id": "1fb51b7d-d624-4ffa-819a-60678681bb28",
   "metadata": {},
   "source": [
    "## Imports"
   ]
  },
  {
   "cell_type": "code",
   "execution_count": 1,
   "id": "b78bac56-92eb-4759-b43f-add58664aef8",
   "metadata": {
    "scrolled": true
   },
   "outputs": [
    {
     "name": "stdout",
     "output_type": "stream",
     "text": [
      "Python 3.12.3\n",
      "qiskit==1.1.0\n",
      "qiskit-algorithms==0.3.0\n",
      "qiskit-nature==0.7.2\n"
     ]
    }
   ],
   "source": [
    "!python3 --version\n",
    "!pip freeze | grep qiskit\n",
    "from qiskit.visualization import plot_histogram\n",
    "from qiskit.circuit import QuantumCircuit, Parameter, ParameterVector\n",
    "from qiskit.circuit.library import TwoLocal, UGate, PauliEvolutionGate\n",
    "from qiskit.quantum_info import Statevector, SparsePauliOp\n",
    "import numpy as np\n",
    "import matplotlib.pyplot as plt\n",
    "from fractions import Fraction\n",
    "from scipy.optimize import minimize"
   ]
  },
  {
   "cell_type": "markdown",
   "id": "117c1647-a353-4b97-baea-c6423108aa1f",
   "metadata": {},
   "source": [
    "## Parameters"
   ]
  },
  {
   "cell_type": "code",
   "execution_count": 2,
   "id": "c35533f4-41c0-4aea-b447-b8c129b35499",
   "metadata": {},
   "outputs": [],
   "source": [
    "chain_length = 4\n",
    "\n",
    "Ω = 2.5\n",
    "\n",
    "omit_ratio = 0"
   ]
  },
  {
   "cell_type": "code",
   "execution_count": 3,
   "id": "c56fbfb4-98b6-42a5-8eae-3a07bd2ef92a",
   "metadata": {},
   "outputs": [],
   "source": [
    "num_layers = 2\n",
    "periods = 1\n",
    "num_time_steps = 150\n",
    "dt = periods / num_time_steps * 2*np.pi/Ω\n",
    "A = 0"
   ]
  },
  {
   "cell_type": "code",
   "execution_count": 4,
   "id": "c5bae491-985b-4f6b-8e2f-1ff33ad9046b",
   "metadata": {},
   "outputs": [],
   "source": [
    "cost_threshold = 1e-3\n",
    "\n",
    "parameter_space_size = 2 * chain_length + 3 * chain_length * num_layers\n",
    "param_space = ParameterVector('θ', parameter_space_size)\n",
    "\n",
    "parameter_space_size2 = 2 * chain_length * num_layers + (omit_ratio*chain_length)//2 + (((chain_length*(1-omit_ratio)))//2-1)\n",
    "param_space2 = ParameterVector('θ', parameter_space_size2)"
   ]
  },
  {
   "cell_type": "markdown",
   "id": "34b53b74-6748-4d9c-879d-4c11c2a9b811",
   "metadata": {},
   "source": [
    "## Functions"
   ]
  },
  {
   "cell_type": "markdown",
   "id": "79d03ac5-5d62-4aa4-a76e-7288b82baade",
   "metadata": {},
   "source": [
    "#### Ansatz creator for spin chain"
   ]
  },
  {
   "cell_type": "code",
   "execution_count": 5,
   "id": "6b13d7a1-d8ec-4a60-9030-bef13fe1101f",
   "metadata": {},
   "outputs": [],
   "source": [
    "def create_ansatz_circuit(qc, num_layers=num_layers, param_space=param_space):\n",
    "    param_counter = -1\n",
    "    def ansatz_circuit_0(qc, param_space, param_counter=0):\n",
    "        print('Number of params:',parameter_space_size)\n",
    "        # layer 0\n",
    "        # param_counter=0\n",
    "        for i in range(qc.num_qubits):\n",
    "            qc.rx(param_space[param_counter:=param_counter+1],i)\n",
    "            qc.rz(param_space[param_counter:=param_counter+1],i)\n",
    "        return param_counter\n",
    "    def ansatz_circuit_1(qc, param_space, param_counter=0):\n",
    "        # param_counter = 2 * chain_length\n",
    "        for i in range(qc.num_qubits-1):\n",
    "            qc.cx(i,i+1)\n",
    "        qc.cx(-1,0)\n",
    "        for i in range(qc.num_qubits):\n",
    "            qc.rz(param_space[param_counter:=param_counter+1],i)\n",
    "            qc.rx(param_space[param_counter:=param_counter+1],i)\n",
    "            qc.rz(param_space[param_counter:=param_counter+1],i)\n",
    "        return param_counter\n",
    "    param_counter = ansatz_circuit_0(qc, param_space, param_counter)\n",
    "    for i in range(num_layers):\n",
    "        param_counter = ansatz_circuit_1(qc, param_space, param_counter)\n",
    "    display(qc.draw('mpl'))"
   ]
  },
  {
   "cell_type": "markdown",
   "id": "0f5dfcc3-9e04-4db0-9c9f-f1cab443d8a1",
   "metadata": {},
   "source": [
    "#### Ansatz creator for spin ladder"
   ]
  },
  {
   "cell_type": "code",
   "execution_count": 6,
   "id": "2338ef7e-a78b-45c2-bff1-01b7fcdc2765",
   "metadata": {},
   "outputs": [],
   "source": [
    "def ansatz_circuit_ladder(qc, param_space=param_space2, omit_ratio=omit_ratio):\n",
    "    counter = -1\n",
    "    def layer(qc, params, param_counter):\n",
    "        for i in range(qc.num_qubits):\n",
    "            qc.rx(params[param_counter:=param_counter+1],i)\n",
    "            qc.rz(params[param_counter:=param_counter+1],i)\n",
    "        return param_counter\n",
    "    def entangle(qc, params, param_counter, double_entangle):\n",
    "        for i in range(qc.num_qubits//2):\n",
    "            qc.rzz(params[param_counter:=param_counter+1], 2*i, 2*i+1)\n",
    "        if double_entangle:\n",
    "            for i in range((qc.num_qubits-1)//2):\n",
    "                qc.rzz(params[param_counter:=param_counter+1], 2*i+1, 2*i+2)\n",
    "        return param_counter\n",
    "    fra = Fraction(omit_ratio).limit_denominator()\n",
    "    # print(fra)\n",
    "    for layer_count in range(num_layers):\n",
    "        counter = layer(qc, param_space, counter)\n",
    "        counter = entangle(qc, param_space, counter, double_entangle=(layer_count%fra.denominator<fra.numerator))\n",
    "        qc.barrier()\n",
    "    display(qc.draw('mpl'))"
   ]
  },
  {
   "cell_type": "markdown",
   "id": "67c48082-0eef-4ebc-b4c5-48ea7ee6152c",
   "metadata": {},
   "source": [
    "#### System Definitions"
   ]
  },
  {
   "cell_type": "code",
   "execution_count": 7,
   "id": "f99cb4b5-65d7-4658-b72e-d711d5de89ab",
   "metadata": {},
   "outputs": [],
   "source": [
    "def hamiltonian(t, A=2, J=1, Ω=Ω):\n",
    "    creator = ['I']*chain_length\n",
    "    paulis = ['I','X','Y','Z']\n",
    "    ham = [] # [('X',1.0)]\n",
    "    for i in range(chain_length-1):\n",
    "        for j in range(1,4):\n",
    "            op = creator[:]\n",
    "            op[i] = paulis[j]\n",
    "            op[i+1] = paulis[j]\n",
    "            ham.append([''.join(op), -J/4])\n",
    "    for i in range(chain_length):\n",
    "        op1, op2 = creator[:], creator[:]\n",
    "        op1[i] = 'X'\n",
    "        op2[i] = 'Y'\n",
    "        ham.append([''.join(op1), A * np.cos(Ω*t)])\n",
    "        ham.append([''.join(op2), A * np.sin(Ω*t)])\n",
    "    ham = np.array(ham)\n",
    "    # print(A * np.cos(Ω*t))\n",
    "    return SparsePauliOp(ham[:,0], ham[:,1])\n",
    "\n",
    "def hamiltonian_linear(t, A, Δ=1, Ω=Ω):\n",
    "    ham = SparsePauliOp(['Z','X'] , [-Δ/2, A/2/Ω*np.cos(Ω*t)])\n",
    "    # plt.plot(t, A*np.cos(Ω*t)/2,'.')\n",
    "    return ham\n",
    "\n",
    "def unitary_time_evolver(ham, *args, num_qbits=chain_length, time=num_time_steps*dt, dt=dt):#num_steps=num_time_steps):\n",
    "\n",
    "    circuit = QuantumCircuit(num_qbits)\n",
    "    \n",
    "    for i in range(1, num_time_steps+1):\n",
    "        circuit.append(PauliEvolutionGate(ham(i*dt, *args), time=dt), range(num_qbits))\n",
    "\n",
    "    # print('Unitary Evolution Circuit')\n",
    "    # display(circuit.draw('mpl'))\n",
    "    \n",
    "    return circuit"
   ]
  },
  {
   "cell_type": "markdown",
   "id": "487fa128-ea29-4390-bce1-bc38db294c59",
   "metadata": {},
   "source": [
    "#### Circuit Creation"
   ]
  },
  {
   "cell_type": "code",
   "execution_count": 8,
   "id": "20a98140-14e1-4841-83ad-e41e8df449ef",
   "metadata": {},
   "outputs": [],
   "source": [
    "def overlap(circuit1, circuit2): # < circuit1 | circuit2 >\n",
    "    circuit_state1 = Statevector.from_instruction(circuit1)\n",
    "    circuit_state2 = Statevector.from_instruction(circuit2)\n",
    "    return np.abs(circuit_state1.inner(circuit_state2))**2\n",
    "    \n",
    "def cost_function(params, circuit, unitary_time_evolution, computed_circuits=[], λ=5):\n",
    "    summation = 0\n",
    "    # parameter_values = {param_space[i]: params[i] for i in range(params_size)}\n",
    "    bc = circuit.assign_parameters(params)\n",
    "    if computed_circuits != []:\n",
    "        summation = np.sum( [overlap(i, bc) for i in computed_circuits] )\n",
    "    evolved = bc.compose(unitary_time_evolution)\n",
    "    cost = overlap(bc, evolved) - λ * summation\n",
    "    return cost\n",
    "\n",
    "def cost_function_new(bc, unitary_time_evolution):\n",
    "    evolved = bc.compose(unitary_time_evolution)\n",
    "    cost = overlap(bc, evolved) \n",
    "    return cost"
   ]
  },
  {
   "cell_type": "markdown",
   "id": "1c2c0772-bc52-4edc-929f-acfbd69fd9d8",
   "metadata": {},
   "source": [
    "#### Recursive optimiser"
   ]
  },
  {
   "cell_type": "code",
   "execution_count": 9,
   "id": "45f85e3f-08a1-4a80-9570-8c9637771952",
   "metadata": {},
   "outputs": [],
   "source": [
    "def optimise(params, circuit, unitary_time_evolution, computed_circuits=[], optim_steps=0): # returns: circuit, cost\n",
    "    def steps():\n",
    "        print('optim_steps:', optim_steps)\n",
    "    # parameter_values = {param_space[i]: params[i] for i in range(params_size)}\n",
    "    bc = circuit.assign_parameters(params)\n",
    "    cost = cost_function(params, circuit, unitary_time_evolution, computed_circuits)\n",
    "    # cost = cost_function_new(bc, unitary_time_evolution)\n",
    "\n",
    "    if optim_steps==10:\n",
    "        # raise RecursionError('Recursion limit reached!')\n",
    "        print('Recursion limit reached!')\n",
    "        return bc, cost\n",
    "    \n",
    "    if np.abs(cost-1) < cost_threshold:\n",
    "        steps()\n",
    "        # print('cost:',cost)\n",
    "        return bc, cost\n",
    "\n",
    "    ### optimiser \n",
    "    computed_circuits.append(bc)\n",
    "    result = minimize(cost_function, params, args=(bc, unitary_time_evolution, computed_circuits), method='BFGS')\n",
    "    \n",
    "    ###\n",
    "    # print(optim_steps)\n",
    "\n",
    "    return optimise(result.x, circuit, unitary_time_evolution, computed_circuits, optim_steps=optim_steps+1)"
   ]
  },
  {
   "cell_type": "markdown",
   "id": "660aa880-80bf-4a91-93ca-d2f8db201ed7",
   "metadata": {},
   "source": [
    "## Main"
   ]
  },
  {
   "cell_type": "markdown",
   "id": "fa54a7cc-1c26-4571-a653-a721bffdf124",
   "metadata": {},
   "source": [
    "### Linearly Driven"
   ]
  },
  {
   "cell_type": "code",
   "execution_count": 15,
   "id": "925cbf35-8b75-468c-9aed-2401a353ffc3",
   "metadata": {},
   "outputs": [
    {
     "ename": "ValueError",
     "evalue": "Mismatching number of values and parameters. For partial binding please pass a dictionary of {parameter: value} pairs.",
     "output_type": "error",
     "traceback": [
      "\u001b[0;31m---------------------------------------------------------------------------\u001b[0m",
      "\u001b[0;31mValueError\u001b[0m                                Traceback (most recent call last)",
      "Cell \u001b[0;32mIn[15], line 26\u001b[0m\n\u001b[1;32m     23\u001b[0m     \u001b[38;5;66;03m# display(test_qc.draw('mpl'))\u001b[39;00m\n\u001b[1;32m     25\u001b[0m angles \u001b[38;5;241m=\u001b[39m np\u001b[38;5;241m.\u001b[39mlinspace(\u001b[38;5;241m0\u001b[39m,np\u001b[38;5;241m.\u001b[39mpi\u001b[38;5;241m*\u001b[39m\u001b[38;5;241m2\u001b[39m,\u001b[38;5;241m5\u001b[39m)\n\u001b[0;32m---> 26\u001b[0m results \u001b[38;5;241m=\u001b[39m np\u001b[38;5;241m.\u001b[39marray([Linear(\u001b[38;5;241m1\u001b[39m,\u001b[38;5;241m1\u001b[39m,i) \u001b[38;5;28;01mfor\u001b[39;00m i \u001b[38;5;129;01min\u001b[39;00m angles])\n\u001b[1;32m     27\u001b[0m plt\u001b[38;5;241m.\u001b[39mplot(angles, [i\u001b[38;5;241m.\u001b[39mcost \u001b[38;5;28;01mfor\u001b[39;00m i \u001b[38;5;129;01min\u001b[39;00m results],\u001b[38;5;124m'\u001b[39m\u001b[38;5;124m.\u001b[39m\u001b[38;5;124m'\u001b[39m)\n\u001b[1;32m     28\u001b[0m plt\u001b[38;5;241m.\u001b[39mshow()\n",
      "Cell \u001b[0;32mIn[15], line 17\u001b[0m, in \u001b[0;36mLinear.__init__\u001b[0;34m(self, *initial_guess)\u001b[0m\n\u001b[1;32m     12\u001b[0m unitary_timevo_circuit \u001b[38;5;241m=\u001b[39m unitary_time_evolver(hamiltonian_linear, A, num_qbits\u001b[38;5;241m=\u001b[39m\u001b[38;5;241m1\u001b[39m)\n\u001b[1;32m     14\u001b[0m \u001b[38;5;66;03m# evolved = test_qc.compose(unitary_timevo_circuit)\u001b[39;00m\n\u001b[1;32m     15\u001b[0m \u001b[38;5;66;03m# print(len(initial_guess)==len(params))\u001b[39;00m\n\u001b[0;32m---> 17\u001b[0m result \u001b[38;5;241m=\u001b[39m optimise(initial_guess, test_qc, unitary_timevo_circuit)\n\u001b[1;32m     19\u001b[0m \u001b[38;5;28mself\u001b[39m\u001b[38;5;241m.\u001b[39mcircuit \u001b[38;5;241m=\u001b[39m result[\u001b[38;5;241m0\u001b[39m]\n\u001b[1;32m     20\u001b[0m \u001b[38;5;28mself\u001b[39m\u001b[38;5;241m.\u001b[39mcost \u001b[38;5;241m=\u001b[39m result[\u001b[38;5;241m1\u001b[39m]\n",
      "Cell \u001b[0;32mIn[9], line 21\u001b[0m, in \u001b[0;36moptimise\u001b[0;34m(params, circuit, unitary_time_evolution, computed_circuits, optim_steps)\u001b[0m\n\u001b[1;32m     19\u001b[0m \u001b[38;5;66;03m### optimiser \u001b[39;00m\n\u001b[1;32m     20\u001b[0m computed_circuits\u001b[38;5;241m.\u001b[39mappend(bc)\n\u001b[0;32m---> 21\u001b[0m result \u001b[38;5;241m=\u001b[39m minimize(cost_function, params, args\u001b[38;5;241m=\u001b[39m(bc, unitary_time_evolution, computed_circuits), method\u001b[38;5;241m=\u001b[39m\u001b[38;5;124m'\u001b[39m\u001b[38;5;124mBFGS\u001b[39m\u001b[38;5;124m'\u001b[39m)\n\u001b[1;32m     23\u001b[0m \u001b[38;5;66;03m###\u001b[39;00m\n\u001b[1;32m     24\u001b[0m \u001b[38;5;66;03m# print(optim_steps)\u001b[39;00m\n\u001b[1;32m     26\u001b[0m \u001b[38;5;28;01mreturn\u001b[39;00m optimise(result\u001b[38;5;241m.\u001b[39mx, circuit, unitary_time_evolution, computed_circuits, optim_steps\u001b[38;5;241m=\u001b[39moptim_steps\u001b[38;5;241m+\u001b[39m\u001b[38;5;241m1\u001b[39m)\n",
      "File \u001b[0;32m/data/khan/miniconda3/envs/qiskit/lib/python3.12/site-packages/scipy/optimize/_minimize.py:708\u001b[0m, in \u001b[0;36mminimize\u001b[0;34m(fun, x0, args, method, jac, hess, hessp, bounds, constraints, tol, callback, options)\u001b[0m\n\u001b[1;32m    706\u001b[0m     res \u001b[38;5;241m=\u001b[39m _minimize_cg(fun, x0, args, jac, callback, \u001b[38;5;241m*\u001b[39m\u001b[38;5;241m*\u001b[39moptions)\n\u001b[1;32m    707\u001b[0m \u001b[38;5;28;01melif\u001b[39;00m meth \u001b[38;5;241m==\u001b[39m \u001b[38;5;124m'\u001b[39m\u001b[38;5;124mbfgs\u001b[39m\u001b[38;5;124m'\u001b[39m:\n\u001b[0;32m--> 708\u001b[0m     res \u001b[38;5;241m=\u001b[39m _minimize_bfgs(fun, x0, args, jac, callback, \u001b[38;5;241m*\u001b[39m\u001b[38;5;241m*\u001b[39moptions)\n\u001b[1;32m    709\u001b[0m \u001b[38;5;28;01melif\u001b[39;00m meth \u001b[38;5;241m==\u001b[39m \u001b[38;5;124m'\u001b[39m\u001b[38;5;124mnewton-cg\u001b[39m\u001b[38;5;124m'\u001b[39m:\n\u001b[1;32m    710\u001b[0m     res \u001b[38;5;241m=\u001b[39m _minimize_newtoncg(fun, x0, args, jac, hess, hessp, callback,\n\u001b[1;32m    711\u001b[0m                              \u001b[38;5;241m*\u001b[39m\u001b[38;5;241m*\u001b[39moptions)\n",
      "File \u001b[0;32m/data/khan/miniconda3/envs/qiskit/lib/python3.12/site-packages/scipy/optimize/_optimize.py:1372\u001b[0m, in \u001b[0;36m_minimize_bfgs\u001b[0;34m(fun, x0, args, jac, callback, gtol, norm, eps, maxiter, disp, return_all, finite_diff_rel_step, xrtol, c1, c2, hess_inv0, **unknown_options)\u001b[0m\n\u001b[1;32m   1369\u001b[0m \u001b[38;5;28;01mif\u001b[39;00m maxiter \u001b[38;5;129;01mis\u001b[39;00m \u001b[38;5;28;01mNone\u001b[39;00m:\n\u001b[1;32m   1370\u001b[0m     maxiter \u001b[38;5;241m=\u001b[39m \u001b[38;5;28mlen\u001b[39m(x0) \u001b[38;5;241m*\u001b[39m \u001b[38;5;241m200\u001b[39m\n\u001b[0;32m-> 1372\u001b[0m sf \u001b[38;5;241m=\u001b[39m _prepare_scalar_function(fun, x0, jac, args\u001b[38;5;241m=\u001b[39margs, epsilon\u001b[38;5;241m=\u001b[39meps,\n\u001b[1;32m   1373\u001b[0m                               finite_diff_rel_step\u001b[38;5;241m=\u001b[39mfinite_diff_rel_step)\n\u001b[1;32m   1375\u001b[0m f \u001b[38;5;241m=\u001b[39m sf\u001b[38;5;241m.\u001b[39mfun\n\u001b[1;32m   1376\u001b[0m myfprime \u001b[38;5;241m=\u001b[39m sf\u001b[38;5;241m.\u001b[39mgrad\n",
      "File \u001b[0;32m/data/khan/miniconda3/envs/qiskit/lib/python3.12/site-packages/scipy/optimize/_optimize.py:288\u001b[0m, in \u001b[0;36m_prepare_scalar_function\u001b[0;34m(fun, x0, jac, args, bounds, epsilon, finite_diff_rel_step, hess)\u001b[0m\n\u001b[1;32m    284\u001b[0m     bounds \u001b[38;5;241m=\u001b[39m (\u001b[38;5;241m-\u001b[39mnp\u001b[38;5;241m.\u001b[39minf, np\u001b[38;5;241m.\u001b[39minf)\n\u001b[1;32m    286\u001b[0m \u001b[38;5;66;03m# ScalarFunction caches. Reuse of fun(x) during grad\u001b[39;00m\n\u001b[1;32m    287\u001b[0m \u001b[38;5;66;03m# calculation reduces overall function evaluations.\u001b[39;00m\n\u001b[0;32m--> 288\u001b[0m sf \u001b[38;5;241m=\u001b[39m ScalarFunction(fun, x0, args, grad, hess,\n\u001b[1;32m    289\u001b[0m                     finite_diff_rel_step, bounds, epsilon\u001b[38;5;241m=\u001b[39mepsilon)\n\u001b[1;32m    291\u001b[0m \u001b[38;5;28;01mreturn\u001b[39;00m sf\n",
      "File \u001b[0;32m/data/khan/miniconda3/envs/qiskit/lib/python3.12/site-packages/scipy/optimize/_differentiable_functions.py:166\u001b[0m, in \u001b[0;36mScalarFunction.__init__\u001b[0;34m(self, fun, x0, args, grad, hess, finite_diff_rel_step, finite_diff_bounds, epsilon)\u001b[0m\n\u001b[1;32m    163\u001b[0m     \u001b[38;5;28mself\u001b[39m\u001b[38;5;241m.\u001b[39mf \u001b[38;5;241m=\u001b[39m fun_wrapped(\u001b[38;5;28mself\u001b[39m\u001b[38;5;241m.\u001b[39mx)\n\u001b[1;32m    165\u001b[0m \u001b[38;5;28mself\u001b[39m\u001b[38;5;241m.\u001b[39m_update_fun_impl \u001b[38;5;241m=\u001b[39m update_fun\n\u001b[0;32m--> 166\u001b[0m \u001b[38;5;28mself\u001b[39m\u001b[38;5;241m.\u001b[39m_update_fun()\n\u001b[1;32m    168\u001b[0m \u001b[38;5;66;03m# Gradient evaluation\u001b[39;00m\n\u001b[1;32m    169\u001b[0m \u001b[38;5;28;01mif\u001b[39;00m \u001b[38;5;28mcallable\u001b[39m(grad):\n",
      "File \u001b[0;32m/data/khan/miniconda3/envs/qiskit/lib/python3.12/site-packages/scipy/optimize/_differentiable_functions.py:262\u001b[0m, in \u001b[0;36mScalarFunction._update_fun\u001b[0;34m(self)\u001b[0m\n\u001b[1;32m    260\u001b[0m \u001b[38;5;28;01mdef\u001b[39;00m \u001b[38;5;21m_update_fun\u001b[39m(\u001b[38;5;28mself\u001b[39m):\n\u001b[1;32m    261\u001b[0m     \u001b[38;5;28;01mif\u001b[39;00m \u001b[38;5;129;01mnot\u001b[39;00m \u001b[38;5;28mself\u001b[39m\u001b[38;5;241m.\u001b[39mf_updated:\n\u001b[0;32m--> 262\u001b[0m         \u001b[38;5;28mself\u001b[39m\u001b[38;5;241m.\u001b[39m_update_fun_impl()\n\u001b[1;32m    263\u001b[0m         \u001b[38;5;28mself\u001b[39m\u001b[38;5;241m.\u001b[39mf_updated \u001b[38;5;241m=\u001b[39m \u001b[38;5;28;01mTrue\u001b[39;00m\n",
      "File \u001b[0;32m/data/khan/miniconda3/envs/qiskit/lib/python3.12/site-packages/scipy/optimize/_differentiable_functions.py:163\u001b[0m, in \u001b[0;36mScalarFunction.__init__.<locals>.update_fun\u001b[0;34m()\u001b[0m\n\u001b[1;32m    162\u001b[0m \u001b[38;5;28;01mdef\u001b[39;00m \u001b[38;5;21mupdate_fun\u001b[39m():\n\u001b[0;32m--> 163\u001b[0m     \u001b[38;5;28mself\u001b[39m\u001b[38;5;241m.\u001b[39mf \u001b[38;5;241m=\u001b[39m fun_wrapped(\u001b[38;5;28mself\u001b[39m\u001b[38;5;241m.\u001b[39mx)\n",
      "File \u001b[0;32m/data/khan/miniconda3/envs/qiskit/lib/python3.12/site-packages/scipy/optimize/_differentiable_functions.py:145\u001b[0m, in \u001b[0;36mScalarFunction.__init__.<locals>.fun_wrapped\u001b[0;34m(x)\u001b[0m\n\u001b[1;32m    141\u001b[0m \u001b[38;5;28mself\u001b[39m\u001b[38;5;241m.\u001b[39mnfev \u001b[38;5;241m+\u001b[39m\u001b[38;5;241m=\u001b[39m \u001b[38;5;241m1\u001b[39m\n\u001b[1;32m    142\u001b[0m \u001b[38;5;66;03m# Send a copy because the user may overwrite it.\u001b[39;00m\n\u001b[1;32m    143\u001b[0m \u001b[38;5;66;03m# Overwriting results in undefined behaviour because\u001b[39;00m\n\u001b[1;32m    144\u001b[0m \u001b[38;5;66;03m# fun(self.x) will change self.x, with the two no longer linked.\u001b[39;00m\n\u001b[0;32m--> 145\u001b[0m fx \u001b[38;5;241m=\u001b[39m fun(np\u001b[38;5;241m.\u001b[39mcopy(x), \u001b[38;5;241m*\u001b[39margs)\n\u001b[1;32m    146\u001b[0m \u001b[38;5;66;03m# Make sure the function returns a true scalar\u001b[39;00m\n\u001b[1;32m    147\u001b[0m \u001b[38;5;28;01mif\u001b[39;00m \u001b[38;5;129;01mnot\u001b[39;00m np\u001b[38;5;241m.\u001b[39misscalar(fx):\n",
      "Cell \u001b[0;32mIn[8], line 9\u001b[0m, in \u001b[0;36mcost_function\u001b[0;34m(params, circuit, unitary_time_evolution, computed_circuits, λ)\u001b[0m\n\u001b[1;32m      7\u001b[0m summation \u001b[38;5;241m=\u001b[39m \u001b[38;5;241m0\u001b[39m\n\u001b[1;32m      8\u001b[0m \u001b[38;5;66;03m# parameter_values = {param_space[i]: params[i] for i in range(params_size)}\u001b[39;00m\n\u001b[0;32m----> 9\u001b[0m bc \u001b[38;5;241m=\u001b[39m circuit\u001b[38;5;241m.\u001b[39massign_parameters(params)\n\u001b[1;32m     10\u001b[0m \u001b[38;5;28;01mif\u001b[39;00m computed_circuits \u001b[38;5;241m!=\u001b[39m []:\n\u001b[1;32m     11\u001b[0m     summation \u001b[38;5;241m=\u001b[39m np\u001b[38;5;241m.\u001b[39msum( [overlap(i, bc) \u001b[38;5;28;01mfor\u001b[39;00m i \u001b[38;5;129;01min\u001b[39;00m computed_circuits] )\n",
      "File \u001b[0;32m/data/khan/miniconda3/envs/qiskit/lib/python3.12/site-packages/qiskit/circuit/quantumcircuit.py:4286\u001b[0m, in \u001b[0;36mQuantumCircuit.assign_parameters\u001b[0;34m(self, parameters, inplace, flat_input, strict)\u001b[0m\n\u001b[1;32m   4284\u001b[0m     our_parameters \u001b[38;5;241m=\u001b[39m \u001b[38;5;28mself\u001b[39m\u001b[38;5;241m.\u001b[39mparameters\n\u001b[1;32m   4285\u001b[0m     \u001b[38;5;28;01mif\u001b[39;00m \u001b[38;5;28mlen\u001b[39m(parameters) \u001b[38;5;241m!=\u001b[39m \u001b[38;5;28mlen\u001b[39m(our_parameters):\n\u001b[0;32m-> 4286\u001b[0m         \u001b[38;5;28;01mraise\u001b[39;00m \u001b[38;5;167;01mValueError\u001b[39;00m(\n\u001b[1;32m   4287\u001b[0m             \u001b[38;5;124m\"\u001b[39m\u001b[38;5;124mMismatching number of values and parameters. For partial binding \u001b[39m\u001b[38;5;124m\"\u001b[39m\n\u001b[1;32m   4288\u001b[0m             \u001b[38;5;124m\"\u001b[39m\u001b[38;5;124mplease pass a dictionary of \u001b[39m\u001b[38;5;124m{\u001b[39m\u001b[38;5;124mparameter: value} pairs.\u001b[39m\u001b[38;5;124m\"\u001b[39m\n\u001b[1;32m   4289\u001b[0m         )\n\u001b[1;32m   4290\u001b[0m     parameter_binds \u001b[38;5;241m=\u001b[39m _ParameterBindsSequence(our_parameters, parameters)\n\u001b[1;32m   4292\u001b[0m \u001b[38;5;66;03m# Clear out the parameter table for the relevant entries, since we'll be binding those.\u001b[39;00m\n\u001b[1;32m   4293\u001b[0m \u001b[38;5;66;03m# Any new references to parameters are reinserted as part of the bind.\u001b[39;00m\n",
      "\u001b[0;31mValueError\u001b[0m: Mismatching number of values and parameters. For partial binding please pass a dictionary of {parameter: value} pairs."
     ]
    }
   ],
   "source": [
    "class Linear:\n",
    "    def __init__(self, *initial_guess):\n",
    "        test_qc = QuantumCircuit(1)\n",
    "        params = ParameterVector('θ', len(initial_guess))\n",
    "\n",
    "        ### ansatz\n",
    "        test_qc.u(*params, 0)\n",
    "        ###\n",
    "\n",
    "        A = 1/Ω\n",
    "    \n",
    "        unitary_timevo_circuit = unitary_time_evolver(hamiltonian_linear, A, num_qbits=1)\n",
    "    \n",
    "        # evolved = test_qc.compose(unitary_timevo_circuit)\n",
    "        # print(len(initial_guess)==len(params))\n",
    "\n",
    "        result = optimise(initial_guess, test_qc, unitary_timevo_circuit)\n",
    "    \n",
    "        self.circuit = result[0]\n",
    "        self.cost = result[1]\n",
    "        print('final cost:',self.cost)\n",
    "\n",
    "    # display(test_qc.draw('mpl'))\n",
    "\n",
    "angles = np.linspace(0,np.pi*2,5)\n",
    "results = np.array([Linear(1,1,i) for i in angles])\n",
    "plt.plot(angles, [i.cost for i in results],'.')\n",
    "plt.show()"
   ]
  },
  {
   "cell_type": "code",
   "execution_count": null,
   "id": "8001e4e4-807e-43dd-8b2a-863b8e44c26d",
   "metadata": {},
   "outputs": [],
   "source": [
    "results[-1].circuit.draw()"
   ]
  },
  {
   "cell_type": "markdown",
   "id": "0187b76d-285f-4f0b-8d2a-438c447de856",
   "metadata": {},
   "source": [
    "### Spin chain"
   ]
  },
  {
   "cell_type": "code",
   "execution_count": null,
   "id": "84f2da46-7d7f-41ae-956a-29a3244f0ce4",
   "metadata": {},
   "outputs": [],
   "source": [
    "print(hamiltonian_linear(0,2))"
   ]
  },
  {
   "cell_type": "code",
   "execution_count": null,
   "id": "5c92481d-11ec-4e69-af11-54263afc8699",
   "metadata": {
    "tags": []
   },
   "outputs": [],
   "source": [
    "qc = QuantumCircuit(chain_length)\n",
    "\n",
    "# qc.h(qc.qubits)\n",
    "\n",
    "create_ansatz_circuit(qc)\n",
    "\n",
    "unitary = unitary_time_evolution(hamiltonian)\n",
    "\n",
    "qc.compose(unitary, inplace=True)\n",
    "\n",
    "# qc.measure_all()\n",
    "\n",
    "# qc.draw('mpl')\n",
    "\n",
    "# print(time_evolver(qc, hamiltonian(0)))"
   ]
  },
  {
   "cell_type": "code",
   "execution_count": null,
   "id": "efbbc215-1492-4af3-9b78-7928778c63a8",
   "metadata": {},
   "outputs": [],
   "source": [
    "dt"
   ]
  },
  {
   "cell_type": "markdown",
   "id": "104aa4a2-6580-4590-a938-dc2de0ad6044",
   "metadata": {},
   "source": [
    "### Spin ladder"
   ]
  },
  {
   "cell_type": "code",
   "execution_count": null,
   "id": "c54b7026-3e7d-41e1-bc4e-288de4b2397d",
   "metadata": {},
   "outputs": [],
   "source": [
    "qc = QuantumCircuit(chain_length)\n",
    "\n",
    "ansatz_circuit_ladder(qc, omit_ratio=1/3)"
   ]
  },
  {
   "cell_type": "code",
   "execution_count": null,
   "id": "35a1e010-d0a0-44a7-9748-ffe0f8d23c1a",
   "metadata": {},
   "outputs": [],
   "source": []
  }
 ],
 "metadata": {
  "kernelspec": {
   "display_name": "Python 3 (ipykernel)",
   "language": "python",
   "name": "python3"
  },
  "language_info": {
   "codemirror_mode": {
    "name": "ipython",
    "version": 3
   },
   "file_extension": ".py",
   "mimetype": "text/x-python",
   "name": "python",
   "nbconvert_exporter": "python",
   "pygments_lexer": "ipython3",
   "version": "3.12.3"
  }
 },
 "nbformat": 4,
 "nbformat_minor": 5
}
