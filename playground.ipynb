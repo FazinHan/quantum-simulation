{
 "cells": [
  {
   "cell_type": "code",
   "execution_count": 1,
   "id": "b78bac56-92eb-4759-b43f-add58664aef8",
   "metadata": {},
   "outputs": [
    {
     "name": "stdout",
     "output_type": "stream",
     "text": [
      "Python 3.12.3\n",
      "qiskit==1.1.0\n",
      "qiskit-algorithms==0.3.0\n",
      "qiskit-nature==0.7.2\n"
     ]
    }
   ],
   "source": [
    "!python3 --version\n",
    "!pip freeze | grep qiskit\n",
    "from qiskit.visualization import plot_histogram\n",
    "from qiskit import QuantumCircuit\n",
    "# from qiskit.algorithms.time_evolvers import TimeEvolutionProblem\n",
    "from qiskit_algorithms import TimeEvolutionProblem\n",
    "from qiskit.quantum_info import Statevector, SparsePauliOp\n",
    "from qiskit.primitives import Estimator\n",
    "import numpy as np"
   ]
  },
  {
   "cell_type": "markdown",
   "id": "295be96e-32a1-4ffd-b4b5-da2e0d249097",
   "metadata": {},
   "source": [
    "The Fauseweh-Zhu paper [here](https://arxiv.org/pdf/2112.04276)."
   ]
  },
  {
   "cell_type": "markdown",
   "id": "18df3c2c-4d1b-42c5-8c06-bcb901944241",
   "metadata": {},
   "source": [
    "Optimization library in\n",
    "- [Julia](https://julianlsolvers.github.io/Optim.jl/stable/algo/linesearch/)\n",
    "- [Python](https://docs.scipy.org/doc/scipy/reference/optimize.minimize-bfgs.html) (BFGS)"
   ]
  },
  {
   "cell_type": "markdown",
   "id": "438725a5-c64e-4bcc-9ada-6abb52d3a5cb",
   "metadata": {},
   "source": [
    "- [TrotterQRTE](https://docs.quantum.ibm.com/api/qiskit/0.46/qiskit.algorithms.time_evolvers.trotterization.TrotterQRTE) for time evolution - now in Qiskit Nature\n",
    "- Using [estimator](https://docs.quantum.ibm.com/api/qiskit/0.46/qiskit.primitives.Estimator) to measure expectation\n",
    "- Try [ground state solver](https://qiskit-community.github.io/qiskit-nature/tutorials/03_ground_state_solvers.html) from qiskit nature for optimisation."
   ]
  },
  {
   "cell_type": "markdown",
   "id": "478de848-705e-4735-aba6-4f659e00ca8a",
   "metadata": {},
   "source": [
    "Optimise by (if not deprecated):\n",
    "- [Conjugate gradient](https://docs.quantum.ibm.com/api/qiskit/0.26/qiskit.algorithms.optimizers.CG)\n",
    "- [Truncated descent](https://docs.quantum.ibm.com/api/qiskit/0.26/qiskit.algorithms.optimizers.CG)"
   ]
  },
  {
   "cell_type": "code",
   "execution_count": 2,
   "id": "c35533f4-41c0-4aea-b447-b8c129b35499",
   "metadata": {},
   "outputs": [],
   "source": [
    "chain_length = 4\n",
    "\n",
    "num_layers = 1\n",
    "\n",
    "shots = 2000"
   ]
  },
  {
   "cell_type": "code",
   "execution_count": 3,
   "id": "b10acdbb-585e-4d58-ad82-73cc6cb7afb0",
   "metadata": {},
   "outputs": [],
   "source": [
    "parameter_space_size = 2 * chain_length + 3 * chain_length * num_layers\n",
    "\n",
    "param_space = [0]*parameter_space_size"
   ]
  },
  {
   "cell_type": "code",
   "execution_count": 4,
   "id": "93900ab8-fc57-4984-af32-73dd72a9b4e0",
   "metadata": {},
   "outputs": [],
   "source": [
    "def ansatz_circuit_0(qc, param_space):\n",
    "    # layer 0\n",
    "    param_counter = 0\n",
    "    for i in range(chain_length):\n",
    "        qc.rx(param_space[param_counter],i)\n",
    "        param_counter=param_counter+1\n",
    "        qc.rz(param_space[param_counter],i)\n",
    "        param_counter=param_counter+1\n",
    "    \n",
    "def ansatz_circuit_1(qc, param_space):\n",
    "    param_counter = 2 * chain_length\n",
    "    for i in range(chain_length-1):\n",
    "        qc.cx(i,i+1)\n",
    "    qc.cx(-1,0)\n",
    "    for i in range(chain_length):\n",
    "        qc.rz(param_space[param_counter],i)\n",
    "        param_counter=param_counter+1\n",
    "        qc.rx(param_space[param_counter],i)\n",
    "        param_counter=param_counter+1\n",
    "        qc.rz(param_space[param_counter],i)\n",
    "\n",
    "def create_ansatz_circuit(qc, num_layers=num_layers, param_space=param_space):\n",
    "    ansatz_circuit_0(qc, param_space)\n",
    "    for i in range(num_layers):\n",
    "        ansatz_circuit_1(qc, param_space)\n",
    "\n",
    "def ansatz_circuit_ladder(qc, param_space):\n",
    "    register_size = chain_length*2\n",
    "    # layer 0\n",
    "    param_counter = 0\n",
    "    for i in range(register_size):\n",
    "        qc.rx(param_space[param_counter],i)\n",
    "        param_counter=param_counter+1\n",
    "    for i in range(register_size):\n",
    "        qc.rz(param_space[param_counter],i)\n",
    "        param_counter=param_counter+1\n",
    "    for i in range(1,register_size//2):\n",
    "        place = 2 * i - 1\n",
    "        qc.cx(place,place+1)\n",
    "    # qc.cx(-1,0)\n",
    "\n",
    "def simulate(qc, shots=shots):\n",
    "    ## Run this cell to simulate 'qpe4' and to plot the histogram of the result\n",
    "    sim = Aer.get_backend('aer_simulator')\n",
    "    count_qpe4 = execute(qc, sim, shots=shots).result().get_counts()\n",
    "    # return plot_histogram(count_qpe4)#, figsize=(9,5))\n",
    "    return count_qpe4\n",
    "\n",
    "def hamiltonian(t, J=1, A=2, Ω=2.5):\n",
    "    creator = ['I']*chain_length\n",
    "    paulis = ['I','X','Y','Z']\n",
    "    ham = [] # [('X',1.0)]\n",
    "    for i in range(chain_length-1):\n",
    "        for j in range(1,4):\n",
    "            op = creator[:]\n",
    "            op[i] = paulis[j]\n",
    "            op[i+1] = paulis[j]\n",
    "            ham.append([''.join(op), -J/4])\n",
    "    for i in range(chain_length):\n",
    "        op1, op2 = creator[:], creator[:]\n",
    "        op1[i] = 'X'\n",
    "        op2[i] = 'Y'\n",
    "        ham.append([''.join(op1), A * np.cos(Ω*t)])\n",
    "        ham.append([''.join(op2), A * np.sin(Ω*t)])\n",
    "    ham = np.array(ham)\n",
    "    return SparsePauliOp(ham[:,0], ham[:,1])\n",
    "\n",
    "def time_evolver(qc, ham, time=1):\n",
    "    initial_state = Statevector.from_instruction(qc)\n",
    "    return initial_state"
   ]
  },
  {
   "cell_type": "code",
   "execution_count": 5,
   "id": "84f2da46-7d7f-41ae-956a-29a3244f0ce4",
   "metadata": {},
   "outputs": [
    {
     "name": "stdout",
     "output_type": "stream",
     "text": [
      "SparsePauliOp(['XXII', 'YYII', 'ZZII', 'IXXI', 'IYYI', 'IZZI', 'IIXX', 'IIYY', 'IIZZ', 'XIII', 'YIII', 'IXII', 'IYII', 'IIXI', 'IIYI', 'IIIX', 'IIIY'],\n",
      "              coeffs=[-0.25+0.j, -0.25+0.j, -0.25+0.j, -0.25+0.j, -0.25+0.j, -0.25+0.j,\n",
      " -0.25+0.j, -0.25+0.j, -0.25+0.j,  2.  +0.j,  0.  +0.j,  2.  +0.j,\n",
      "  0.  +0.j,  2.  +0.j,  0.  +0.j,  2.  +0.j,  0.  +0.j])\n"
     ]
    }
   ],
   "source": [
    "print(hamiltonian(0))"
   ]
  },
  {
   "cell_type": "code",
   "execution_count": 6,
   "id": "5c92481d-11ec-4e69-af11-54263afc8699",
   "metadata": {
    "tags": []
   },
   "outputs": [
    {
     "ename": "MissingOptionalLibraryError",
     "evalue": "\"The 'pylatexenc' library is required to use 'MatplotlibDrawer'. You can install it with 'pip install pylatexenc'.\"",
     "output_type": "error",
     "traceback": [
      "\u001b[0;31m---------------------------------------------------------------------------\u001b[0m",
      "\u001b[0;31mMissingOptionalLibraryError\u001b[0m               Traceback (most recent call last)",
      "Cell \u001b[0;32mIn[6], line 9\u001b[0m\n\u001b[1;32m      5\u001b[0m create_ansatz_circuit(qc)\n\u001b[1;32m      7\u001b[0m \u001b[38;5;66;03m# qc.measure_all()\u001b[39;00m\n\u001b[0;32m----> 9\u001b[0m qc\u001b[38;5;241m.\u001b[39mdraw(\u001b[38;5;124m'\u001b[39m\u001b[38;5;124mmpl\u001b[39m\u001b[38;5;124m'\u001b[39m)\n\u001b[1;32m     11\u001b[0m \u001b[38;5;28mprint\u001b[39m(time_evolver(qc, hamiltonian(\u001b[38;5;241m0\u001b[39m)))\n",
      "File \u001b[0;32m/data/khan/miniconda3/envs/qiskit/lib/python3.12/site-packages/qiskit/circuit/quantumcircuit.py:3263\u001b[0m, in \u001b[0;36mQuantumCircuit.draw\u001b[0;34m(self, output, scale, filename, style, interactive, plot_barriers, reverse_bits, justify, vertical_compression, idle_wires, with_layout, fold, ax, initial_state, cregbundle, wire_order, expr_len)\u001b[0m\n\u001b[1;32m   3260\u001b[0m \u001b[38;5;66;03m# pylint: disable=cyclic-import\u001b[39;00m\n\u001b[1;32m   3261\u001b[0m \u001b[38;5;28;01mfrom\u001b[39;00m \u001b[38;5;21;01mqiskit\u001b[39;00m\u001b[38;5;21;01m.\u001b[39;00m\u001b[38;5;21;01mvisualization\u001b[39;00m \u001b[38;5;28;01mimport\u001b[39;00m circuit_drawer\n\u001b[0;32m-> 3263\u001b[0m \u001b[38;5;28;01mreturn\u001b[39;00m circuit_drawer(\n\u001b[1;32m   3264\u001b[0m     \u001b[38;5;28mself\u001b[39m,\n\u001b[1;32m   3265\u001b[0m     scale\u001b[38;5;241m=\u001b[39mscale,\n\u001b[1;32m   3266\u001b[0m     filename\u001b[38;5;241m=\u001b[39mfilename,\n\u001b[1;32m   3267\u001b[0m     style\u001b[38;5;241m=\u001b[39mstyle,\n\u001b[1;32m   3268\u001b[0m     output\u001b[38;5;241m=\u001b[39moutput,\n\u001b[1;32m   3269\u001b[0m     interactive\u001b[38;5;241m=\u001b[39minteractive,\n\u001b[1;32m   3270\u001b[0m     plot_barriers\u001b[38;5;241m=\u001b[39mplot_barriers,\n\u001b[1;32m   3271\u001b[0m     reverse_bits\u001b[38;5;241m=\u001b[39mreverse_bits,\n\u001b[1;32m   3272\u001b[0m     justify\u001b[38;5;241m=\u001b[39mjustify,\n\u001b[1;32m   3273\u001b[0m     vertical_compression\u001b[38;5;241m=\u001b[39mvertical_compression,\n\u001b[1;32m   3274\u001b[0m     idle_wires\u001b[38;5;241m=\u001b[39midle_wires,\n\u001b[1;32m   3275\u001b[0m     with_layout\u001b[38;5;241m=\u001b[39mwith_layout,\n\u001b[1;32m   3276\u001b[0m     fold\u001b[38;5;241m=\u001b[39mfold,\n\u001b[1;32m   3277\u001b[0m     ax\u001b[38;5;241m=\u001b[39max,\n\u001b[1;32m   3278\u001b[0m     initial_state\u001b[38;5;241m=\u001b[39minitial_state,\n\u001b[1;32m   3279\u001b[0m     cregbundle\u001b[38;5;241m=\u001b[39mcregbundle,\n\u001b[1;32m   3280\u001b[0m     wire_order\u001b[38;5;241m=\u001b[39mwire_order,\n\u001b[1;32m   3281\u001b[0m     expr_len\u001b[38;5;241m=\u001b[39mexpr_len,\n\u001b[1;32m   3282\u001b[0m )\n",
      "File \u001b[0;32m/data/khan/miniconda3/envs/qiskit/lib/python3.12/site-packages/qiskit/visualization/circuit/circuit_visualization.py:323\u001b[0m, in \u001b[0;36mcircuit_drawer\u001b[0;34m(circuit, scale, filename, style, output, interactive, plot_barriers, reverse_bits, justify, vertical_compression, idle_wires, with_layout, fold, ax, initial_state, cregbundle, wire_order, expr_len)\u001b[0m\n\u001b[1;32m    308\u001b[0m     \u001b[38;5;28;01mreturn\u001b[39;00m _generate_latex_source(\n\u001b[1;32m    309\u001b[0m         circuit,\n\u001b[1;32m    310\u001b[0m         filename\u001b[38;5;241m=\u001b[39mfilename,\n\u001b[0;32m   (...)\u001b[0m\n\u001b[1;32m    320\u001b[0m         wire_order\u001b[38;5;241m=\u001b[39mcomplete_wire_order,\n\u001b[1;32m    321\u001b[0m     )\n\u001b[1;32m    322\u001b[0m \u001b[38;5;28;01melif\u001b[39;00m output \u001b[38;5;241m==\u001b[39m \u001b[38;5;124m\"\u001b[39m\u001b[38;5;124mmpl\u001b[39m\u001b[38;5;124m\"\u001b[39m:\n\u001b[0;32m--> 323\u001b[0m     image \u001b[38;5;241m=\u001b[39m _matplotlib_circuit_drawer(\n\u001b[1;32m    324\u001b[0m         circuit,\n\u001b[1;32m    325\u001b[0m         scale\u001b[38;5;241m=\u001b[39mscale,\n\u001b[1;32m    326\u001b[0m         filename\u001b[38;5;241m=\u001b[39mfilename,\n\u001b[1;32m    327\u001b[0m         style\u001b[38;5;241m=\u001b[39mstyle,\n\u001b[1;32m    328\u001b[0m         plot_barriers\u001b[38;5;241m=\u001b[39mplot_barriers,\n\u001b[1;32m    329\u001b[0m         reverse_bits\u001b[38;5;241m=\u001b[39mreverse_bits,\n\u001b[1;32m    330\u001b[0m         justify\u001b[38;5;241m=\u001b[39mjustify,\n\u001b[1;32m    331\u001b[0m         idle_wires\u001b[38;5;241m=\u001b[39midle_wires,\n\u001b[1;32m    332\u001b[0m         with_layout\u001b[38;5;241m=\u001b[39mwith_layout,\n\u001b[1;32m    333\u001b[0m         fold\u001b[38;5;241m=\u001b[39mfold,\n\u001b[1;32m    334\u001b[0m         ax\u001b[38;5;241m=\u001b[39max,\n\u001b[1;32m    335\u001b[0m         initial_state\u001b[38;5;241m=\u001b[39minitial_state,\n\u001b[1;32m    336\u001b[0m         cregbundle\u001b[38;5;241m=\u001b[39mcregbundle,\n\u001b[1;32m    337\u001b[0m         wire_order\u001b[38;5;241m=\u001b[39mcomplete_wire_order,\n\u001b[1;32m    338\u001b[0m         expr_len\u001b[38;5;241m=\u001b[39mexpr_len,\n\u001b[1;32m    339\u001b[0m     )\n\u001b[1;32m    340\u001b[0m \u001b[38;5;28;01melse\u001b[39;00m:\n\u001b[1;32m    341\u001b[0m     \u001b[38;5;28;01mraise\u001b[39;00m VisualizationError(\n\u001b[1;32m    342\u001b[0m         \u001b[38;5;124m\"\u001b[39m\u001b[38;5;124mInvalid output type \u001b[39m\u001b[38;5;132;01m%s\u001b[39;00m\u001b[38;5;124m selected. The only valid choices \u001b[39m\u001b[38;5;124m\"\u001b[39m\n\u001b[1;32m    343\u001b[0m         \u001b[38;5;124m\"\u001b[39m\u001b[38;5;124mare text, latex, latex_source, and mpl\u001b[39m\u001b[38;5;124m\"\u001b[39m \u001b[38;5;241m%\u001b[39m output\n\u001b[1;32m    344\u001b[0m     )\n",
      "File \u001b[0;32m/data/khan/miniconda3/envs/qiskit/lib/python3.12/site-packages/qiskit/visualization/circuit/circuit_visualization.py:703\u001b[0m, in \u001b[0;36m_matplotlib_circuit_drawer\u001b[0;34m(circuit, scale, filename, style, plot_barriers, reverse_bits, justify, idle_wires, with_layout, fold, ax, initial_state, cregbundle, wire_order, expr_len)\u001b[0m\n\u001b[1;32m    700\u001b[0m \u001b[38;5;28;01mif\u001b[39;00m fold \u001b[38;5;129;01mis\u001b[39;00m \u001b[38;5;28;01mNone\u001b[39;00m:\n\u001b[1;32m    701\u001b[0m     fold \u001b[38;5;241m=\u001b[39m \u001b[38;5;241m25\u001b[39m\n\u001b[0;32m--> 703\u001b[0m qcd \u001b[38;5;241m=\u001b[39m _matplotlib\u001b[38;5;241m.\u001b[39mMatplotlibDrawer(\n\u001b[1;32m    704\u001b[0m     qubits,\n\u001b[1;32m    705\u001b[0m     clbits,\n\u001b[1;32m    706\u001b[0m     nodes,\n\u001b[1;32m    707\u001b[0m     circuit,\n\u001b[1;32m    708\u001b[0m     scale\u001b[38;5;241m=\u001b[39mscale,\n\u001b[1;32m    709\u001b[0m     style\u001b[38;5;241m=\u001b[39mstyle,\n\u001b[1;32m    710\u001b[0m     reverse_bits\u001b[38;5;241m=\u001b[39mreverse_bits,\n\u001b[1;32m    711\u001b[0m     plot_barriers\u001b[38;5;241m=\u001b[39mplot_barriers,\n\u001b[1;32m    712\u001b[0m     fold\u001b[38;5;241m=\u001b[39mfold,\n\u001b[1;32m    713\u001b[0m     ax\u001b[38;5;241m=\u001b[39max,\n\u001b[1;32m    714\u001b[0m     initial_state\u001b[38;5;241m=\u001b[39minitial_state,\n\u001b[1;32m    715\u001b[0m     cregbundle\u001b[38;5;241m=\u001b[39mcregbundle,\n\u001b[1;32m    716\u001b[0m     with_layout\u001b[38;5;241m=\u001b[39mwith_layout,\n\u001b[1;32m    717\u001b[0m     expr_len\u001b[38;5;241m=\u001b[39mexpr_len,\n\u001b[1;32m    718\u001b[0m )\n\u001b[1;32m    719\u001b[0m \u001b[38;5;28;01mreturn\u001b[39;00m qcd\u001b[38;5;241m.\u001b[39mdraw(filename)\n",
      "File \u001b[0;32m/data/khan/miniconda3/envs/qiskit/lib/python3.12/site-packages/qiskit/utils/classtools.py:111\u001b[0m, in \u001b[0;36m_WrappedMethod.__get__.<locals>.out\u001b[0;34m(*args, **kwargs)\u001b[0m\n\u001b[1;32m    108\u001b[0m \u001b[38;5;129m@functools\u001b[39m\u001b[38;5;241m.\u001b[39mwraps(method)\n\u001b[1;32m    109\u001b[0m \u001b[38;5;28;01mdef\u001b[39;00m \u001b[38;5;21mout\u001b[39m(\u001b[38;5;241m*\u001b[39margs, \u001b[38;5;241m*\u001b[39m\u001b[38;5;241m*\u001b[39mkwargs):\n\u001b[1;32m    110\u001b[0m     \u001b[38;5;28;01mfor\u001b[39;00m callback \u001b[38;5;129;01min\u001b[39;00m \u001b[38;5;28mself\u001b[39m\u001b[38;5;241m.\u001b[39m_before:\n\u001b[0;32m--> 111\u001b[0m         callback\u001b[38;5;241m.\u001b[39m\u001b[38;5;21m__get__\u001b[39m(obj, objtype)(\u001b[38;5;241m*\u001b[39margs, \u001b[38;5;241m*\u001b[39m\u001b[38;5;241m*\u001b[39mkwargs)\n\u001b[1;32m    112\u001b[0m     retval \u001b[38;5;241m=\u001b[39m method(\u001b[38;5;241m*\u001b[39margs, \u001b[38;5;241m*\u001b[39m\u001b[38;5;241m*\u001b[39mkwargs)\n\u001b[1;32m    113\u001b[0m     \u001b[38;5;28;01mfor\u001b[39;00m callback \u001b[38;5;129;01min\u001b[39;00m \u001b[38;5;28mself\u001b[39m\u001b[38;5;241m.\u001b[39m_after:\n",
      "File \u001b[0;32m/data/khan/miniconda3/envs/qiskit/lib/python3.12/site-packages/qiskit/utils/lazy_tester.py:41\u001b[0m, in \u001b[0;36m_RequireNow.__call__\u001b[0;34m(self, *_args, **_kwargs)\u001b[0m\n\u001b[1;32m     40\u001b[0m \u001b[38;5;28;01mdef\u001b[39;00m \u001b[38;5;21m__call__\u001b[39m(\u001b[38;5;28mself\u001b[39m, \u001b[38;5;241m*\u001b[39m_args, \u001b[38;5;241m*\u001b[39m\u001b[38;5;241m*\u001b[39m_kwargs):\n\u001b[0;32m---> 41\u001b[0m     \u001b[38;5;28mself\u001b[39m\u001b[38;5;241m.\u001b[39m_tester\u001b[38;5;241m.\u001b[39mrequire_now(\u001b[38;5;28mself\u001b[39m\u001b[38;5;241m.\u001b[39m_feature)\n",
      "File \u001b[0;32m/data/khan/miniconda3/envs/qiskit/lib/python3.12/site-packages/qiskit/utils/lazy_tester.py:221\u001b[0m, in \u001b[0;36mLazyDependencyManager.require_now\u001b[0;34m(self, feature)\u001b[0m\n\u001b[1;32m    219\u001b[0m \u001b[38;5;28;01mif\u001b[39;00m \u001b[38;5;28mself\u001b[39m:\n\u001b[1;32m    220\u001b[0m     \u001b[38;5;28;01mreturn\u001b[39;00m\n\u001b[0;32m--> 221\u001b[0m \u001b[38;5;28;01mraise\u001b[39;00m MissingOptionalLibraryError(\n\u001b[1;32m    222\u001b[0m     libname\u001b[38;5;241m=\u001b[39m\u001b[38;5;28mself\u001b[39m\u001b[38;5;241m.\u001b[39m_name, name\u001b[38;5;241m=\u001b[39mfeature, pip_install\u001b[38;5;241m=\u001b[39m\u001b[38;5;28mself\u001b[39m\u001b[38;5;241m.\u001b[39m_install, msg\u001b[38;5;241m=\u001b[39m\u001b[38;5;28mself\u001b[39m\u001b[38;5;241m.\u001b[39m_msg\n\u001b[1;32m    223\u001b[0m )\n",
      "\u001b[0;31mMissingOptionalLibraryError\u001b[0m: \"The 'pylatexenc' library is required to use 'MatplotlibDrawer'. You can install it with 'pip install pylatexenc'.\""
     ]
    }
   ],
   "source": [
    "qc = QuantumCircuit(chain_length)\n",
    "\n",
    "# qc.h(qc.qubits)\n",
    "\n",
    "create_ansatz_circuit(qc)\n",
    "\n",
    "# qc.measure_all()\n",
    "\n",
    "qc.draw('mpl')\n",
    "\n",
    "print(time_evolver(qc, hamiltonian(0)))"
   ]
  },
  {
   "cell_type": "code",
   "execution_count": null,
   "id": "54a112a9-b0ef-4246-b011-90941ab71e67",
   "metadata": {
    "tags": []
   },
   "outputs": [],
   "source": [
    "%%time\n",
    "plot_histogram(simulate(qc))"
   ]
  },
  {
   "cell_type": "code",
   "execution_count": null,
   "id": "36c36f13-c049-4a68-a19a-ac0208e59040",
   "metadata": {},
   "outputs": [],
   "source": []
  }
 ],
 "metadata": {
  "kernelspec": {
   "display_name": "Python 3 (ipykernel)",
   "language": "python",
   "name": "python3"
  },
  "language_info": {
   "codemirror_mode": {
    "name": "ipython",
    "version": 3
   },
   "file_extension": ".py",
   "mimetype": "text/x-python",
   "name": "python",
   "nbconvert_exporter": "python",
   "pygments_lexer": "ipython3",
   "version": "3.12.3"
  }
 },
 "nbformat": 4,
 "nbformat_minor": 5
}
