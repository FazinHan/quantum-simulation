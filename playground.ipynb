{
 "cells": [
  {
   "cell_type": "markdown",
   "id": "1fb51b7d-d624-4ffa-819a-60678681bb28",
   "metadata": {},
   "source": [
    "### Imports"
   ]
  },
  {
   "cell_type": "code",
   "execution_count": null,
   "id": "b78bac56-92eb-4759-b43f-add58664aef8",
   "metadata": {
    "scrolled": true
   },
   "outputs": [],
   "source": [
    "!python3 --version\n",
    "!pip freeze | grep qiskit\n",
    "from qiskit.visualization import plot_histogram\n",
    "from qiskit.circuit import QuantumCircuit, Parameter\n",
    "from qiskit.circuit.library import TwoLocal, UGate, PauliEvolutionGate\n",
    "from qiskit.quantum_info import Statevector, SparsePauliOp\n",
    "import numpy as np\n",
    "import matplotlib.pyplot as plt"
   ]
  },
  {
   "cell_type": "markdown",
   "id": "295be96e-32a1-4ffd-b4b5-da2e0d249097",
   "metadata": {},
   "source": [
    "The Fauseweh-Zhu paper [here](https://arxiv.org/pdf/2112.04276)."
   ]
  },
  {
   "cell_type": "markdown",
   "id": "772756bd-c6e2-4fb9-8c58-2edb1cec78f8",
   "metadata": {},
   "source": [
    "Variational Quantum Design Course from IBMQ Learning\n",
    "- [Ansatz](https://learning.quantum.ibm.com/course/variational-algorithm-design/ansatze-and-variational-forms) include the NLocal, we use TwoLocal (but i already wrote this)\n",
    "- [Optimisation](https://learning.quantum.ibm.com/course/variational-algorithm-design/ansatze-and-variational-forms) frameworks has also been discussed\n",
    "\n",
    "- Also check out [Quantum Approximate Optimization Algorithm](https://learning.quantum.ibm.com/tutorial/quantum-approximate-optimization-algorithm)"
   ]
  },
  {
   "cell_type": "markdown",
   "id": "117c1647-a353-4b97-baea-c6423108aa1f",
   "metadata": {},
   "source": [
    "### Parameters"
   ]
  },
  {
   "cell_type": "markdown",
   "id": "26bd510e-f7da-4551-8422-498c19cddd46",
   "metadata": {},
   "source": [
    "#### Physical"
   ]
  },
  {
   "cell_type": "code",
   "execution_count": null,
   "id": "c35533f4-41c0-4aea-b447-b8c129b35499",
   "metadata": {},
   "outputs": [],
   "source": [
    "chain_length = 4\n",
    "\n",
    "Ω = 2.5\n",
    "\n",
    "omit_entaglement_ratio = 0"
   ]
  },
  {
   "cell_type": "markdown",
   "id": "296caed3-a355-4054-b8e8-aa9fe0bf348c",
   "metadata": {},
   "source": [
    "#### Iterative"
   ]
  },
  {
   "cell_type": "code",
   "execution_count": null,
   "id": "c56fbfb4-98b6-42a5-8eae-3a07bd2ef92a",
   "metadata": {},
   "outputs": [],
   "source": [
    "num_layers = 2\n",
    "periods = 1\n",
    "num_time_steps = 150\n",
    "dt = periods / num_time_steps * 2*np.pi/Ω\n",
    "A = 0"
   ]
  },
  {
   "cell_type": "markdown",
   "id": "a3d7f64d-cfa3-41d3-ba57-796dcd175095",
   "metadata": {},
   "source": [
    "#### Optimising"
   ]
  },
  {
   "cell_type": "code",
   "execution_count": null,
   "id": "c5bae491-985b-4f6b-8e2f-1ff33ad9046b",
   "metadata": {},
   "outputs": [],
   "source": [
    "cost_threshold = 1e-3\n",
    "\n",
    "parameter_space_size = 2 * chain_length + 3 * chain_length * num_layers\n",
    "param_space = range(1,parameter_space_size+1)\n",
    "\n",
    "parameter_space_size2 = (2 * chain_length + 2 * chain_length) * num_layers\n",
    "param_space2 = range(1,parameter_space_size2+1)"
   ]
  },
  {
   "cell_type": "markdown",
   "id": "34b53b74-6748-4d9c-879d-4c11c2a9b811",
   "metadata": {},
   "source": [
    "### Functions"
   ]
  },
  {
   "cell_type": "markdown",
   "id": "79d03ac5-5d62-4aa4-a76e-7288b82baade",
   "metadata": {},
   "source": [
    "#### Ansatz creator for spin chain"
   ]
  },
  {
   "cell_type": "code",
   "execution_count": null,
   "id": "6b13d7a1-d8ec-4a60-9030-bef13fe1101f",
   "metadata": {},
   "outputs": [],
   "source": [
    "def create_ansatz_circuit(qc, num_layers=num_layers, param_space=param_space):\n",
    "    def ansatz_circuit_0(qc, param_space):\n",
    "        print('Number of params:',parameter_space_size)\n",
    "        # layer 0\n",
    "        param_counter=0\n",
    "        for i in range(chain_length):\n",
    "            qc.rx(param_space[param_counter],i)\n",
    "            qc.rz(param_space[param_counter:=param_counter+1],i)\n",
    "    def ansatz_circuit_1(qc, param_space):\n",
    "        param_counter = 2 * chain_length\n",
    "        for i in range(chain_length-1):\n",
    "            qc.cx(i,i+1)\n",
    "        qc.cx(-1,0)\n",
    "        for i in range(chain_length):\n",
    "            qc.rz(param_space[param_counter],i)\n",
    "            qc.rx(param_space[param_counter:=param_counter+1],i)\n",
    "            qc.rz(param_space[param_counter:=param_counter+1],i)\n",
    "    ansatz_circuit_0(qc, param_space)\n",
    "    for i in range(num_layers):\n",
    "        ansatz_circuit_1(qc, param_space)\n",
    "    display(qc.draw('mpl'))"
   ]
  },
  {
   "cell_type": "markdown",
   "id": "0f5dfcc3-9e04-4db0-9c9f-f1cab443d8a1",
   "metadata": {},
   "source": [
    "#### Ansatz creator for spin ladder"
   ]
  },
  {
   "cell_type": "code",
   "execution_count": null,
   "id": "2338ef7e-a78b-45c2-bff1-01b7fcdc2765",
   "metadata": {},
   "outputs": [],
   "source": [
    "def ansatz_circuit_ladder(qc, layers=num_layers, param_space=param_space2, omit_ratio=omit_entaglement_ratio):\n",
    "    counter = 0\n",
    "    def layer(qc, params, param_counter):\n",
    "        for i in range(qc.num_qubits):\n",
    "            qc.rx(params[param_counter],i)\n",
    "            qc.rz(params[param_counter:=param_counter+1],i)\n",
    "    def entagle(qc, params, param_counter, double_entangle):\n",
    "        for i in range(qc.num_qubits//2):\n",
    "            qc.rzz(params[param_counter:=param_counter+1], 2*i, 2*i+1)\n",
    "        if double_entangle:\n",
    "            for i in range((qc.num_qubits-1)//2):\n",
    "                qc.rzz(params[param_counter:=param_counter+1], 2*i+1, 2*i+2)\n",
    "    fra = Fraction(omit_ratio).limit_denominator()\n",
    "    for layer_count in range(num_layers):\n",
    "        layer(qc, param_space, counter)\n",
    "        entangle(qc, param_space, counter, double_entangle= (layer_count%fra.denominator<=fra.numerator) )\n",
    "    qc.draw('mpl')\n",
    "    return qc"
   ]
  },
  {
   "cell_type": "markdown",
   "id": "67c48082-0eef-4ebc-b4c5-48ea7ee6152c",
   "metadata": {},
   "source": [
    "#### System Definitions"
   ]
  },
  {
   "cell_type": "code",
   "execution_count": null,
   "id": "f99cb4b5-65d7-4658-b72e-d711d5de89ab",
   "metadata": {},
   "outputs": [],
   "source": [
    "def hamiltonian(t, A=2, J=1, Ω=Ω):\n",
    "    creator = ['I']*chain_length\n",
    "    paulis = ['I','X','Y','Z']\n",
    "    ham = [] # [('X',1.0)]\n",
    "    for i in range(chain_length-1):\n",
    "        for j in range(1,4):\n",
    "            op = creator[:]\n",
    "            op[i] = paulis[j]\n",
    "            op[i+1] = paulis[j]\n",
    "            ham.append([''.join(op), -J/4])\n",
    "    for i in range(chain_length):\n",
    "        op1, op2 = creator[:], creator[:]\n",
    "        op1[i] = 'X'\n",
    "        op2[i] = 'Y'\n",
    "        ham.append([''.join(op1), A * np.cos(Ω*t)])\n",
    "        ham.append([''.join(op2), A * np.sin(Ω*t)])\n",
    "    ham = np.array(ham)\n",
    "    # print(A * np.cos(Ω*t))\n",
    "    return SparsePauliOp(ham[:,0], ham[:,1])\n",
    "\n",
    "def hamiltonian_linear(t, Δ=1, Ω=Ω):\n",
    "    ham = SparsePauliOp(['Z','X'] , [-Δ/2, A/2/Ω*np.cos(Ω*t)])\n",
    "    # plt.plot(t, A*np.cos(Ω*t)/2,'.')\n",
    "    return ham\n",
    "\n",
    "def unitary_time_evolution(ham, num_qbits=chain_length, time=num_time_steps*dt, dt=dt):#num_steps=num_time_steps):\n",
    "\n",
    "    circuit = QuantumCircuit(num_qbits)\n",
    "    \n",
    "    for i in range(1, num_time_steps+1):\n",
    "        circuit.append(PauliEvolutionGate(ham(i*dt), time=dt), range(num_qbits))\n",
    "\n",
    "    # print('Unitary Evolution Circuit')\n",
    "    # display(circuit.draw('mpl'))\n",
    "    \n",
    "    return circuit"
   ]
  },
  {
   "cell_type": "markdown",
   "id": "487fa128-ea29-4390-bce1-bc38db294c59",
   "metadata": {},
   "source": [
    "#### Circuit Discovery"
   ]
  },
  {
   "cell_type": "code",
   "execution_count": null,
   "id": "20a98140-14e1-4841-83ad-e41e8df449ef",
   "metadata": {},
   "outputs": [],
   "source": [
    "def overlap(circuit1, circuit2): # < circuit1 | circuit2 >\n",
    "    circuit_state1 = Statevector.from_instruction(circuit1)\n",
    "    circuit_state2 = Statevector.from_instruction(circuit2)\n",
    "    return np.abs(circuit_state1.inner(circuit_state2))**2\n",
    "    \n",
    "def cost_function(circuit, unitary_time_evolution, computed_circuits: list, λ=5):\n",
    "    summation = 0\n",
    "    if computed_circuits != []:\n",
    "        summation = np.sum( [overlap(circuit, i) for i in computed_circuits] )\n",
    "    evolved = circuit.compose(unitary_time_evolution)\n",
    "    return overlap(circuit, evolved) - λ * summation"
   ]
  },
  {
   "cell_type": "markdown",
   "id": "1c2c0772-bc52-4edc-929f-acfbd69fd9d8",
   "metadata": {},
   "source": [
    "#### Recursive optimiser"
   ]
  },
  {
   "cell_type": "code",
   "execution_count": null,
   "id": "45f85e3f-08a1-4a80-9570-8c9637771952",
   "metadata": {},
   "outputs": [],
   "source": [
    "def optimise(circuit, unitary_time_evolution, computed_circuits=[]):\n",
    "    cost = cost_function(circuit, unitary_time_evolution, computed_circuits)\n",
    "    if np.abs(cost-1) < cost_threshold:\n",
    "        return circuit\n",
    "\n",
    "    ### optimiser returns a circuit here\n",
    "    optim_step_circuit = None\n",
    "    computed_circuits.append(circuit)\n",
    "    ###\n",
    "\n",
    "    return optimise(optim_step_circuit, unitary_time_evolution, computed_circuits)"
   ]
  },
  {
   "cell_type": "markdown",
   "id": "660aa880-80bf-4a91-93ca-d2f8db201ed7",
   "metadata": {},
   "source": [
    "### Main"
   ]
  },
  {
   "cell_type": "code",
   "execution_count": null,
   "id": "84f2da46-7d7f-41ae-956a-29a3244f0ce4",
   "metadata": {},
   "outputs": [],
   "source": [
    "print(hamiltonian_linear(0,2))"
   ]
  },
  {
   "cell_type": "code",
   "execution_count": null,
   "id": "5c92481d-11ec-4e69-af11-54263afc8699",
   "metadata": {
    "tags": []
   },
   "outputs": [],
   "source": [
    "qc = QuantumCircuit(chain_length)\n",
    "\n",
    "# qc.h(qc.qubits)\n",
    "\n",
    "create_ansatz_circuit(qc)\n",
    "\n",
    "unitary = unitary_time_evolution(hamiltonian)\n",
    "\n",
    "qc.compose(unitary, inplace=True)\n",
    "\n",
    "# qc.measure_all()\n",
    "\n",
    "# qc.draw('mpl')\n",
    "\n",
    "# print(time_evolver(qc, hamiltonian(0)))"
   ]
  },
  {
   "cell_type": "markdown",
   "id": "9f9b7903-e8bf-4036-b180-630ac7dd32d6",
   "metadata": {},
   "source": [
    "#### Linearly Driven"
   ]
  },
  {
   "cell_type": "code",
   "execution_count": null,
   "id": "925cbf35-8b75-468c-9aed-2401a353ffc3",
   "metadata": {},
   "outputs": [],
   "source": [
    "def linear(*initial_guess):\n",
    "    test_qc = QuantumCircuit(1)\n",
    "    # params = [Parameter(f'θ[{i}]') for i in range(3)]\n",
    "    \n",
    "    test_qc.u(*initial_guess, 0)\n",
    "\n",
    "    unitary_timevo_circuit = unitary_time_evolution(hamiltonian_linear, 1)\n",
    "\n",
    "    evolved = test_qc.compose(unitary_timevo_circuit)\n",
    "\n",
    "    return optimise(test_qc, evolved)\n",
    "\n",
    "    # display(test_qc.draw('mpl'))\n",
    "\n",
    "A = 1/Ω\n",
    "\n",
    "linear(0,0,0)    "
   ]
  },
  {
   "cell_type": "markdown",
   "id": "da8491fb-3030-4248-bec8-89476d339c99",
   "metadata": {},
   "source": [
    "#### Circularly Driven"
   ]
  },
  {
   "cell_type": "code",
   "execution_count": null,
   "id": "7fb58f40-a666-477c-92cf-feff9f7de972",
   "metadata": {},
   "outputs": [],
   "source": [
    "def main():\n",
    "    test_qc = QuantumCircuit(chain_length)\n",
    "    # params = [Parameter(f'θ[{i}]') for i in range(3)]\n",
    "\n",
    "    create_ansatz_circuit(test_qc)\n",
    "\n",
    "    # display(test_qc.draw('mpl'))\n",
    "\n",
    "    unitary_timevo_circuit = unitary_time_evolution(hamiltonian)\n",
    "\n",
    "    evolved = test_qc.compose(unitary_timevo_circuit)\n",
    "\n",
    "    print(overlap(test_qc, evolved))\n",
    "\n",
    "    # display(test_qc.draw('mpl'))\n",
    "\n",
    "main()    "
   ]
  },
  {
   "cell_type": "code",
   "execution_count": null,
   "id": "efbbc215-1492-4af3-9b78-7928778c63a8",
   "metadata": {},
   "outputs": [],
   "source": [
    "dt"
   ]
  },
  {
   "cell_type": "code",
   "execution_count": null,
   "id": "0d6bc5c1-bb69-47a4-9c7e-95fd8e760893",
   "metadata": {},
   "outputs": [],
   "source": []
  }
 ],
 "metadata": {
  "kernelspec": {
   "display_name": "Python 3 (ipykernel)",
   "language": "python",
   "name": "python3"
  },
  "language_info": {
   "codemirror_mode": {
    "name": "ipython",
    "version": 3
   },
   "file_extension": ".py",
   "mimetype": "text/x-python",
   "name": "python",
   "nbconvert_exporter": "python",
   "pygments_lexer": "ipython3",
   "version": "3.12.3"
  }
 },
 "nbformat": 4,
 "nbformat_minor": 5
}
