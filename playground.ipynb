{
 "cells": [
  {
   "cell_type": "code",
   "execution_count": 33,
   "id": "b78bac56-92eb-4759-b43f-add58664aef8",
   "metadata": {},
   "outputs": [
    {
     "name": "stdout",
     "output_type": "stream",
     "text": [
      "Python 3.12.3\n",
      "qiskit==1.1.0\n",
      "qiskit-algorithms==0.3.0\n",
      "qiskit-nature==0.7.2\n"
     ]
    }
   ],
   "source": [
    "!python3 --version\n",
    "!pip freeze | grep qiskit\n",
    "from qiskit.visualization import plot_histogram\n",
    "from qiskit.circuit import QuantumCircuit, Parameter\n",
    "from qiskit.circuit.library import TwoLocal\n",
    "from qiskit_algorithms import TimeEvolutionProblem, TrotterQRTE\n",
    "from qiskit.quantum_info import Statevector, SparsePauliOp\n",
    "from qiskit.primitives import Estimator\n",
    "import numpy as np"
   ]
  },
  {
   "cell_type": "markdown",
   "id": "295be96e-32a1-4ffd-b4b5-da2e0d249097",
   "metadata": {},
   "source": [
    "The Fauseweh-Zhu paper [here](https://arxiv.org/pdf/2112.04276)."
   ]
  },
  {
   "cell_type": "markdown",
   "id": "18df3c2c-4d1b-42c5-8c06-bcb901944241",
   "metadata": {},
   "source": [
    "Optimization library in\n",
    "- [Julia](https://julianlsolvers.github.io/Optim.jl/stable/algo/linesearch/)\n",
    "- [Python](https://docs.scipy.org/doc/scipy/reference/optimize.minimize-bfgs.html) (BFGS)"
   ]
  },
  {
   "cell_type": "markdown",
   "id": "438725a5-c64e-4bcc-9ada-6abb52d3a5cb",
   "metadata": {},
   "source": [
    "- [TrotterQRTE](https://docs.quantum.ibm.com/api/qiskit/0.46/qiskit.algorithms.time_evolvers.trotterization.TrotterQRTE) for time evolution - now in Qiskit Nature\n",
    "- Using [estimator](https://docs.quantum.ibm.com/api/qiskit/0.46/qiskit.primitives.Estimator) to measure expectation\n",
    "- Try [ground state solver](https://qiskit-community.github.io/qiskit-nature/tutorials/03_ground_state_solvers.html) from qiskit nature for optimisation."
   ]
  },
  {
   "cell_type": "markdown",
   "id": "478de848-705e-4735-aba6-4f659e00ca8a",
   "metadata": {},
   "source": [
    "Optimise by (if not deprecated):\n",
    "- [Conjugate gradient](https://docs.quantum.ibm.com/api/qiskit/0.26/qiskit.algorithms.optimizers.CG)\n",
    "- [Truncated descent](https://docs.quantum.ibm.com/api/qiskit/0.26/qiskit.algorithms.optimizers.CG)"
   ]
  },
  {
   "cell_type": "code",
   "execution_count": 26,
   "id": "c35533f4-41c0-4aea-b447-b8c129b35499",
   "metadata": {},
   "outputs": [],
   "source": [
    "chain_length = 4\n",
    "\n",
    "num_layers = 1\n",
    "\n",
    "shots = 2000\n",
    "num_time_steps = 10"
   ]
  },
  {
   "cell_type": "code",
   "execution_count": null,
   "id": "c5bae491-985b-4f6b-8e2f-1ff33ad9046b",
   "metadata": {},
   "outputs": [],
   "source": [
    "parameter_space_size = 2 * chain_length + 3 * chain_length * num_layers\n",
    "\n",
    "param_space = [0]*parameter_space_size\n",
    "\n",
    "theta = Parameter('θ')"
   ]
  },
  {
   "cell_type": "code",
   "execution_count": null,
   "id": "1d063b0e-b904-46bc-a5b1-5a4019fc1011",
   "metadata": {},
   "outputs": [],
   "source": [
    "def ansatz_circuit_0(qc, param_space):\n",
    "    # layer 0\n",
    "    for i in range(chain_length):\n",
    "        qc.rx(param_space[param_counter],i)\n",
    "        param_counter=param_counter+1\n",
    "        qc.rz(param_space[param_counter],i)\n",
    "        param_counter=param_counter+1\n",
    "    \n",
    "def ansatz_circuit_1(qc, param_space):\n",
    "    param_counter = 2 * chain_length\n",
    "    for i in range(chain_length-1):\n",
    "        qc.cx(i,i+1)\n",
    "    qc.cx(-1,0)\n",
    "    for i in range(chain_length):\n",
    "        qc.rz(param_space[param_counter],i)\n",
    "        param_counter=param_counter+1\n",
    "        qc.rx(param_space[param_counter],i)\n",
    "        param_counter=param_counter+1\n",
    "        qc.rz(param_space[param_counter],i)\n",
    "\n",
    "def create_ansatz_circuit(qc, num_layers=num_layers, param_space=param_space):\n",
    "    ansatz_circuit_0(qc, param_space)\n",
    "    for i in range(num_layers):\n",
    "        ansatz_circuit_1(qc, param_space)\n",
    "\n",
    "def ansatz_circuit_ladder(qc, param_space):\n",
    "    register_size = chain_length*2\n",
    "    # layer 0\n",
    "    param_counter = 0\n",
    "    for i in range(register_size):\n",
    "        qc.rx(param_space[param_counter],i)\n",
    "        param_counter=param_counter+1\n",
    "    for i in range(register_size):\n",
    "        qc.rz(param_space[param_counter],i)\n",
    "        param_counter=param_counter+1\n",
    "    for i in range(1,register_size//2):\n",
    "        place = 2 * i - 1\n",
    "        qc.cx(place,place+1)\n",
    "    # qc.cx(-1,0)\n",
    "\n",
    "def simulate(qc, shots=shots):\n",
    "    initial_state = Statevector.from_instruction(qc)\n",
    "    display(initial_state.draw())\n",
    "    ham = hamiltonian(0)\n",
    "    evolved_state = evolve(ham,qc)\n",
    "\n",
    "def evolve(ham, initial_state, num_time_steps=num_time_steps):\n",
    "    time=1\n",
    "    evolution = TrotterQRTE(num_timesteps=num_time_steps)\n",
    "    evolution_problem = TimeEvolutionProblem(ham, initial_state, time)\n",
    "    evolution_result = evolution.evolve(evolution_problem)\n",
    "    return evolution_result.evolved_state\n",
    "\n",
    "def hamiltonian(t, J=1, A=2, Ω=2.5):\n",
    "    creator = ['I']*chain_length\n",
    "    paulis = ['I','X','Y','Z']\n",
    "    ham = [] # [('X',1.0)]\n",
    "    for i in range(chain_length-1):\n",
    "        for j in range(1,4):\n",
    "            op = creator[:]\n",
    "            op[i] = paulis[j]\n",
    "            op[i+1] = paulis[j]\n",
    "            ham.append([''.join(op), -J/4])\n",
    "    for i in range(chain_length):\n",
    "        op1, op2 = creator[:], creator[:]\n",
    "        op1[i] = 'X'\n",
    "        op2[i] = 'Y'\n",
    "        ham.append([''.join(op1), A * np.cos(Ω*t)])\n",
    "        ham.append([''.join(op2), A * np.sin(Ω*t)])\n",
    "    ham = np.array(ham)\n",
    "    return SparsePauliOp(ham[:,0], ham[:,1])\n",
    "\n",
    "def time_evolver(qc, ham, time=1):\n",
    "    initial_state = Statevector.from_instruction(qc)\n",
    "    return initial_state"
   ]
  },
  {
   "cell_type": "code",
   "execution_count": 29,
   "id": "84f2da46-7d7f-41ae-956a-29a3244f0ce4",
   "metadata": {},
   "outputs": [
    {
     "name": "stdout",
     "output_type": "stream",
     "text": [
      "SparsePauliOp(['XXII', 'YYII', 'ZZII', 'IXXI', 'IYYI', 'IZZI', 'IIXX', 'IIYY', 'IIZZ', 'XIII', 'YIII', 'IXII', 'IYII', 'IIXI', 'IIYI', 'IIIX', 'IIIY'],\n",
      "              coeffs=[-0.25+0.j, -0.25+0.j, -0.25+0.j, -0.25+0.j, -0.25+0.j, -0.25+0.j,\n",
      " -0.25+0.j, -0.25+0.j, -0.25+0.j,  2.  +0.j,  0.  +0.j,  2.  +0.j,\n",
      "  0.  +0.j,  2.  +0.j,  0.  +0.j,  2.  +0.j,  0.  +0.j])\n"
     ]
    }
   ],
   "source": [
    "print(hamiltonian(0))"
   ]
  },
  {
   "cell_type": "code",
   "execution_count": 30,
   "id": "5c92481d-11ec-4e69-af11-54263afc8699",
   "metadata": {
    "tags": []
   },
   "outputs": [
    {
     "data": {
      "image/png": "[encoded data removed]",
      "text/plain": [
       "<Figure size 872.774x367.889 with 1 Axes>"
      ]
     },
     "execution_count": 30,
     "metadata": {},
     "output_type": "execute_result"
    }
   ],
   "source": [
    "qc = QuantumCircuit(chain_length)\n",
    "\n",
    "# qc.h(qc.qubits)\n",
    "\n",
    "create_ansatz_circuit(qc)\n",
    "\n",
    "# qc.measure_all()\n",
    "\n",
    "qc.draw('mpl')\n",
    "\n",
    "# print(time_evolver(qc, hamiltonian(0)))"
   ]
  },
  {
   "cell_type": "code",
   "execution_count": 31,
   "id": "925cbf35-8b75-468c-9aed-2401a353ffc3",
   "metadata": {},
   "outputs": [
    {
     "ename": "TypeError",
     "evalue": "ParameterExpression with unbound parameters (dict_keys([Parameter(θ)])) cannot be cast to a float.",
     "output_type": "error",
     "traceback": [
      "\u001b[0;31m---------------------------------------------------------------------------\u001b[0m",
      "\u001b[0;31mTypeError\u001b[0m                                 Traceback (most recent call last)",
      "Cell \u001b[0;32mIn[31], line 1\u001b[0m\n\u001b[0;32m----> 1\u001b[0m simulate(qc)\n",
      "Cell \u001b[0;32mIn[28], line 43\u001b[0m, in \u001b[0;36msimulate\u001b[0;34m(qc, shots)\u001b[0m\n\u001b[1;32m     42\u001b[0m \u001b[38;5;28;01mdef\u001b[39;00m \u001b[38;5;21msimulate\u001b[39m(qc, shots\u001b[38;5;241m=\u001b[39mshots):\n\u001b[0;32m---> 43\u001b[0m     initial_state \u001b[38;5;241m=\u001b[39m Statevector\u001b[38;5;241m.\u001b[39mfrom_instruction(qc)\n\u001b[1;32m     44\u001b[0m     \u001b[38;5;28mprint\u001b[39m(initial_state\u001b[38;5;241m.\u001b[39mdraw())\n\u001b[1;32m     45\u001b[0m     ham \u001b[38;5;241m=\u001b[39m hamiltonian(\u001b[38;5;241m0\u001b[39m)\n",
      "File \u001b[0;32m/data/khan/miniconda3/envs/qiskit/lib/python3.12/site-packages/qiskit/quantum_info/states/statevector.py:769\u001b[0m, in \u001b[0;36mStatevector.from_instruction\u001b[0;34m(cls, instruction)\u001b[0m\n\u001b[1;32m    767\u001b[0m init[\u001b[38;5;241m0\u001b[39m] \u001b[38;5;241m=\u001b[39m \u001b[38;5;241m1.0\u001b[39m\n\u001b[1;32m    768\u001b[0m vec \u001b[38;5;241m=\u001b[39m Statevector(init, dims\u001b[38;5;241m=\u001b[39minstruction\u001b[38;5;241m.\u001b[39mnum_qubits \u001b[38;5;241m*\u001b[39m (\u001b[38;5;241m2\u001b[39m,))\n\u001b[0;32m--> 769\u001b[0m \u001b[38;5;28;01mreturn\u001b[39;00m Statevector\u001b[38;5;241m.\u001b[39m_evolve_instruction(vec, instruction)\n",
      "File \u001b[0;32m/data/khan/miniconda3/envs/qiskit/lib/python3.12/site-packages/qiskit/quantum_info/states/statevector.py:961\u001b[0m, in \u001b[0;36mStatevector._evolve_instruction\u001b[0;34m(statevec, obj, qargs)\u001b[0m\n\u001b[1;32m    959\u001b[0m     \u001b[38;5;28;01melse\u001b[39;00m:\n\u001b[1;32m    960\u001b[0m         new_qargs \u001b[38;5;241m=\u001b[39m [qargs[qubits[tup]] \u001b[38;5;28;01mfor\u001b[39;00m tup \u001b[38;5;129;01min\u001b[39;00m instruction\u001b[38;5;241m.\u001b[39mqubits]\n\u001b[0;32m--> 961\u001b[0m     Statevector\u001b[38;5;241m.\u001b[39m_evolve_instruction(statevec, instruction\u001b[38;5;241m.\u001b[39moperation, qargs\u001b[38;5;241m=\u001b[39mnew_qargs)\n\u001b[1;32m    962\u001b[0m \u001b[38;5;28;01mreturn\u001b[39;00m statevec\n",
      "File \u001b[0;32m/data/khan/miniconda3/envs/qiskit/lib/python3.12/site-packages/qiskit/quantum_info/states/statevector.py:897\u001b[0m, in \u001b[0;36mStatevector._evolve_instruction\u001b[0;34m(statevec, obj, qargs)\u001b[0m\n\u001b[1;32m    891\u001b[0m \u001b[38;5;66;03m# pylint complains about a cyclic import since the following Initialize file\u001b[39;00m\n\u001b[1;32m    892\u001b[0m \u001b[38;5;66;03m# imports the StatePreparation, which again requires the Statevector (this file),\u001b[39;00m\n\u001b[1;32m    893\u001b[0m \u001b[38;5;66;03m# but as this is a local import, it's not actually an issue and can be ignored\u001b[39;00m\n\u001b[1;32m    894\u001b[0m \u001b[38;5;66;03m# pylint: disable=cyclic-import\u001b[39;00m\n\u001b[1;32m    895\u001b[0m \u001b[38;5;28;01mfrom\u001b[39;00m \u001b[38;5;21;01mqiskit\u001b[39;00m\u001b[38;5;21;01m.\u001b[39;00m\u001b[38;5;21;01mcircuit\u001b[39;00m\u001b[38;5;21;01m.\u001b[39;00m\u001b[38;5;21;01mlibrary\u001b[39;00m\u001b[38;5;21;01m.\u001b[39;00m\u001b[38;5;21;01mdata_preparation\u001b[39;00m\u001b[38;5;21;01m.\u001b[39;00m\u001b[38;5;21;01minitializer\u001b[39;00m \u001b[38;5;28;01mimport\u001b[39;00m Initialize\n\u001b[0;32m--> 897\u001b[0m mat \u001b[38;5;241m=\u001b[39m Operator\u001b[38;5;241m.\u001b[39m_instruction_to_matrix(obj)\n\u001b[1;32m    898\u001b[0m \u001b[38;5;28;01mif\u001b[39;00m mat \u001b[38;5;129;01mis\u001b[39;00m \u001b[38;5;129;01mnot\u001b[39;00m \u001b[38;5;28;01mNone\u001b[39;00m:\n\u001b[1;32m    899\u001b[0m     \u001b[38;5;66;03m# Perform the composition and inplace update the current state\u001b[39;00m\n\u001b[1;32m    900\u001b[0m     \u001b[38;5;66;03m# of the operator\u001b[39;00m\n\u001b[1;32m    901\u001b[0m     \u001b[38;5;28;01mreturn\u001b[39;00m Statevector\u001b[38;5;241m.\u001b[39m_evolve_operator(statevec, Operator(mat), qargs\u001b[38;5;241m=\u001b[39mqargs)\n",
      "File \u001b[0;32m/data/khan/miniconda3/envs/qiskit/lib/python3.12/site-packages/qiskit/quantum_info/operators/operator.py:742\u001b[0m, in \u001b[0;36mOperator._instruction_to_matrix\u001b[0;34m(cls, obj)\u001b[0m\n\u001b[1;32m    738\u001b[0m \u001b[38;5;28;01mif\u001b[39;00m \u001b[38;5;28mhasattr\u001b[39m(obj, \u001b[38;5;124m\"\u001b[39m\u001b[38;5;124mto_matrix\u001b[39m\u001b[38;5;124m\"\u001b[39m):\n\u001b[1;32m    739\u001b[0m     \u001b[38;5;66;03m# If instruction is a gate first we see if it has a\u001b[39;00m\n\u001b[1;32m    740\u001b[0m     \u001b[38;5;66;03m# `to_matrix` definition and if so use that.\u001b[39;00m\n\u001b[1;32m    741\u001b[0m     \u001b[38;5;28;01mtry\u001b[39;00m:\n\u001b[0;32m--> 742\u001b[0m         mat \u001b[38;5;241m=\u001b[39m obj\u001b[38;5;241m.\u001b[39mto_matrix()\n\u001b[1;32m    743\u001b[0m     \u001b[38;5;28;01mexcept\u001b[39;00m QiskitError:\n\u001b[1;32m    744\u001b[0m         \u001b[38;5;28;01mpass\u001b[39;00m\n",
      "File \u001b[0;32m/data/khan/miniconda3/envs/qiskit/lib/python3.12/site-packages/qiskit/circuit/gate.py:62\u001b[0m, in \u001b[0;36mGate.to_matrix\u001b[0;34m(self)\u001b[0m\n\u001b[1;32m     52\u001b[0m \u001b[38;5;250m\u001b[39m\u001b[38;5;124;03m\"\"\"Return a Numpy.array for the gate unitary matrix.\u001b[39;00m\n\u001b[1;32m     53\u001b[0m \n\u001b[1;32m     54\u001b[0m \u001b[38;5;124;03mReturns:\u001b[39;00m\n\u001b[0;32m   (...)\u001b[0m\n\u001b[1;32m     59\u001b[0m \u001b[38;5;124;03m        exception will be raised when this base class method is called.\u001b[39;00m\n\u001b[1;32m     60\u001b[0m \u001b[38;5;124;03m\"\"\"\u001b[39;00m\n\u001b[1;32m     61\u001b[0m \u001b[38;5;28;01mif\u001b[39;00m \u001b[38;5;28mhasattr\u001b[39m(\u001b[38;5;28mself\u001b[39m, \u001b[38;5;124m\"\u001b[39m\u001b[38;5;124m__array__\u001b[39m\u001b[38;5;124m\"\u001b[39m):\n\u001b[0;32m---> 62\u001b[0m     \u001b[38;5;28;01mreturn\u001b[39;00m \u001b[38;5;28mself\u001b[39m\u001b[38;5;241m.\u001b[39m__array__(dtype\u001b[38;5;241m=\u001b[39m\u001b[38;5;28mcomplex\u001b[39m)\n\u001b[1;32m     63\u001b[0m \u001b[38;5;28;01mraise\u001b[39;00m CircuitError(\u001b[38;5;124mf\u001b[39m\u001b[38;5;124m\"\u001b[39m\u001b[38;5;124mto_matrix not defined for this \u001b[39m\u001b[38;5;132;01m{\u001b[39;00m\u001b[38;5;28mtype\u001b[39m(\u001b[38;5;28mself\u001b[39m)\u001b[38;5;132;01m}\u001b[39;00m\u001b[38;5;124m\"\u001b[39m)\n",
      "File \u001b[0;32m/data/khan/miniconda3/envs/qiskit/lib/python3.12/site-packages/qiskit/circuit/library/standard_gates/rx.py:127\u001b[0m, in \u001b[0;36mRXGate.__array__\u001b[0;34m(self, dtype, copy)\u001b[0m\n\u001b[1;32m    125\u001b[0m \u001b[38;5;28;01mif\u001b[39;00m copy \u001b[38;5;129;01mis\u001b[39;00m \u001b[38;5;28;01mFalse\u001b[39;00m:\n\u001b[1;32m    126\u001b[0m     \u001b[38;5;28;01mraise\u001b[39;00m \u001b[38;5;167;01mValueError\u001b[39;00m(\u001b[38;5;124m\"\u001b[39m\u001b[38;5;124munable to avoid copy while creating an array as requested\u001b[39m\u001b[38;5;124m\"\u001b[39m)\n\u001b[0;32m--> 127\u001b[0m cos \u001b[38;5;241m=\u001b[39m math\u001b[38;5;241m.\u001b[39mcos(\u001b[38;5;28mself\u001b[39m\u001b[38;5;241m.\u001b[39mparams[\u001b[38;5;241m0\u001b[39m] \u001b[38;5;241m/\u001b[39m \u001b[38;5;241m2\u001b[39m)\n\u001b[1;32m    128\u001b[0m sin \u001b[38;5;241m=\u001b[39m math\u001b[38;5;241m.\u001b[39msin(\u001b[38;5;28mself\u001b[39m\u001b[38;5;241m.\u001b[39mparams[\u001b[38;5;241m0\u001b[39m] \u001b[38;5;241m/\u001b[39m \u001b[38;5;241m2\u001b[39m)\n\u001b[1;32m    129\u001b[0m \u001b[38;5;28;01mreturn\u001b[39;00m numpy\u001b[38;5;241m.\u001b[39marray([[cos, \u001b[38;5;241m-\u001b[39m\u001b[38;5;241m1\u001b[39mj \u001b[38;5;241m*\u001b[39m sin], [\u001b[38;5;241m-\u001b[39m\u001b[38;5;241m1\u001b[39mj \u001b[38;5;241m*\u001b[39m sin, cos]], dtype\u001b[38;5;241m=\u001b[39mdtype)\n",
      "File \u001b[0;32m/data/khan/miniconda3/envs/qiskit/lib/python3.12/site-packages/qiskit/circuit/parameterexpression.py:415\u001b[0m, in \u001b[0;36mParameterExpression.__float__\u001b[0;34m(self)\u001b[0m\n\u001b[1;32m    413\u001b[0m \u001b[38;5;28;01mexcept\u001b[39;00m (\u001b[38;5;167;01mTypeError\u001b[39;00m, \u001b[38;5;167;01mRuntimeError\u001b[39;00m) \u001b[38;5;28;01mas\u001b[39;00m exc:\n\u001b[1;32m    414\u001b[0m     \u001b[38;5;28;01mif\u001b[39;00m \u001b[38;5;28mself\u001b[39m\u001b[38;5;241m.\u001b[39mparameters:\n\u001b[0;32m--> 415\u001b[0m         \u001b[38;5;28;01mraise\u001b[39;00m \u001b[38;5;167;01mTypeError\u001b[39;00m(\n\u001b[1;32m    416\u001b[0m             \u001b[38;5;124m\"\u001b[39m\u001b[38;5;124mParameterExpression with unbound parameters (\u001b[39m\u001b[38;5;132;01m{}\u001b[39;00m\u001b[38;5;124m) \u001b[39m\u001b[38;5;124m\"\u001b[39m\n\u001b[1;32m    417\u001b[0m             \u001b[38;5;124m\"\u001b[39m\u001b[38;5;124mcannot be cast to a float.\u001b[39m\u001b[38;5;124m\"\u001b[39m\u001b[38;5;241m.\u001b[39mformat(\u001b[38;5;28mself\u001b[39m\u001b[38;5;241m.\u001b[39mparameters)\n\u001b[1;32m    418\u001b[0m         ) \u001b[38;5;28;01mfrom\u001b[39;00m \u001b[38;5;28;01mNone\u001b[39;00m\n\u001b[1;32m    419\u001b[0m     \u001b[38;5;66;03m# In symengine, if an expression was complex at any time, its type is likely to have\u001b[39;00m\n\u001b[1;32m    420\u001b[0m     \u001b[38;5;66;03m# stayed \"complex\" even when the imaginary part symbolically (i.e. exactly)\u001b[39;00m\n\u001b[1;32m    421\u001b[0m     \u001b[38;5;66;03m# cancelled out.  Sympy tends to more aggressively recognise these as symbolically\u001b[39;00m\n\u001b[1;32m    422\u001b[0m     \u001b[38;5;66;03m# real.  This second attempt at a cast is a way of unifying the behaviour to the\u001b[39;00m\n\u001b[1;32m    423\u001b[0m     \u001b[38;5;66;03m# more expected form for our users.\u001b[39;00m\n\u001b[1;32m    424\u001b[0m     cval \u001b[38;5;241m=\u001b[39m \u001b[38;5;28mcomplex\u001b[39m(\u001b[38;5;28mself\u001b[39m)\n",
      "\u001b[0;31mTypeError\u001b[0m: ParameterExpression with unbound parameters (dict_keys([Parameter(θ)])) cannot be cast to a float."
     ]
    }
   ],
   "source": [
    "simulate(qc)"
   ]
  },
  {
   "cell_type": "code",
   "execution_count": null,
   "id": "efbbc215-1492-4af3-9b78-7928778c63a8",
   "metadata": {},
   "outputs": [],
   "source": []
  }
 ],
 "metadata": {
  "kernelspec": {
   "display_name": "Python 3 (ipykernel)",
   "language": "python",
   "name": "python3"
  },
  "language_info": {
   "codemirror_mode": {
    "name": "ipython",
    "version": 3
   },
   "file_extension": ".py",
   "mimetype": "text/x-python",
   "name": "python",
   "nbconvert_exporter": "python",
   "pygments_lexer": "ipython3",
   "version": "3.12.3"
  }
 },
 "nbformat": 4,
 "nbformat_minor": 5
}
