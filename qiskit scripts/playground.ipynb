{
 "cells": [
  {
   "cell_type": "markdown",
   "id": "f78684ef-6d2f-4fd1-8e42-922bb61aa5bc",
   "metadata": {},
   "source": [
    "### Notes"
   ]
  },
  {
   "cell_type": "markdown",
   "id": "32a629fe-32dd-454a-93f4-aa99f61db7bf",
   "metadata": {},
   "source": [
    "The Fauseweh-Zhu paper [here](https://arxiv.org/pdf/2112.04276)."
   ]
  },
  {
   "cell_type": "markdown",
   "id": "eb3ed139-ce08-4bcd-9538-b77600f90309",
   "metadata": {},
   "source": [
    "Variational Quantum Design Course from IBMQ Learning\n",
    "- [Ansatz](https://learning.quantum.ibm.com/course/variational-algorithm-design/ansatze-and-variational-forms) include the NLocal, we use TwoLocal (but i already wrote this)\n",
    "- [Optimisation](https://learning.quantum.ibm.com/course/variational-algorithm-design/optimization-loops) frameworks have also been discussed\n",
    "- Also check out [Quantum Approximate Optimization Algorithm](https://learning.quantum.ibm.com/tutorial/quantum-approximate-optimization-algorithm)\n",
    "- Relevant (exactly) is [VQD](https://learning.quantum.ibm.com/course/variational-algorithm-design/instances-and-extensions#vqds-implementation)"
   ]
  },
  {
   "cell_type": "markdown",
   "id": "cfbdf4de-2ac9-49c2-87e4-56e0086d9da6",
   "metadata": {},
   "source": [
    "Hamiltonian in [equation 33](http://arxiv.org/pdf/1707.03722)."
   ]
  },
  {
   "cell_type": "markdown",
   "id": "1fb51b7d-d624-4ffa-819a-60678681bb28",
   "metadata": {},
   "source": [
    "## Imports"
   ]
  },
  {
   "cell_type": "code",
   "execution_count": 1,
   "id": "b78bac56-92eb-4759-b43f-add58664aef8",
   "metadata": {
    "scrolled": true
   },
   "outputs": [
    {
     "name": "stdout",
     "output_type": "stream",
     "text": [
      "Python 3.12.3\n",
      "qiskit==1.1.0\n",
      "qiskit-algorithms==0.3.0\n",
      "qiskit-ibm-runtime==0.23.0\n",
      "qiskit-nature==0.7.2\n"
     ]
    }
   ],
   "source": [
    "!python3 --version\n",
    "!pip freeze | grep qiskit\n",
    "from qiskit.visualization import plot_histogram\n",
    "from qiskit.circuit import QuantumCircuit, Parameter, ParameterVector\n",
    "from qiskit.circuit.library import TwoLocal, UGate, PauliEvolutionGate\n",
    "from qiskit.quantum_info import Statevector, SparsePauliOp\n",
    "import numpy as np\n",
    "import matplotlib.pyplot as plt\n",
    "from fractions import Fraction\n",
    "from scipy.optimize import minimize"
   ]
  },
  {
   "cell_type": "markdown",
   "id": "117c1647-a353-4b97-baea-c6423108aa1f",
   "metadata": {},
   "source": [
    "## Parameters"
   ]
  },
  {
   "cell_type": "code",
   "execution_count": 2,
   "id": "c35533f4-41c0-4aea-b447-b8c129b35499",
   "metadata": {},
   "outputs": [],
   "source": [
    "chain_length = 4\n",
    "\n",
    "Ω = 2.5\n",
    "\n",
    "omit_ratio = 0"
   ]
  },
  {
   "cell_type": "code",
   "execution_count": 3,
   "id": "c56fbfb4-98b6-42a5-8eae-3a07bd2ef92a",
   "metadata": {},
   "outputs": [],
   "source": [
    "num_layers = 2\n",
    "periods = 1\n",
    "num_time_steps = 150\n",
    "dt = periods / num_time_steps * 2*np.pi/Ω\n",
    "A = 0"
   ]
  },
  {
   "cell_type": "code",
   "execution_count": 4,
   "id": "c5bae491-985b-4f6b-8e2f-1ff33ad9046b",
   "metadata": {},
   "outputs": [],
   "source": [
    "cost_threshold = 1e-3\n",
    "\n",
    "parameter_space_size = 2 * chain_length + 3 * chain_length * num_layers\n",
    "param_space = ParameterVector('θ', parameter_space_size)\n",
    "\n",
    "parameter_space_size2 = 2 * chain_length * num_layers + (omit_ratio*chain_length)//2 + (((chain_length*(1-omit_ratio)))//2-1)\n",
    "param_space2 = ParameterVector('θ', parameter_space_size2)"
   ]
  },
  {
   "cell_type": "markdown",
   "id": "34b53b74-6748-4d9c-879d-4c11c2a9b811",
   "metadata": {},
   "source": [
    "## Functions"
   ]
  },
  {
   "cell_type": "markdown",
   "id": "79d03ac5-5d62-4aa4-a76e-7288b82baade",
   "metadata": {},
   "source": [
    "#### Ansatz creator for spin chain"
   ]
  },
  {
   "cell_type": "code",
   "execution_count": 5,
   "id": "6b13d7a1-d8ec-4a60-9030-bef13fe1101f",
   "metadata": {},
   "outputs": [],
   "source": [
    "def create_ansatz_circuit(qc, num_layers=num_layers, param_space=param_space):\n",
    "    param_counter = -1\n",
    "    def ansatz_circuit_0(qc, param_space, param_counter=0):\n",
    "        print('Number of params:',parameter_space_size)\n",
    "        # layer 0\n",
    "        # param_counter=0\n",
    "        for i in range(qc.num_qubits):\n",
    "            qc.rx(param_space[param_counter:=param_counter+1],i)\n",
    "            qc.rz(param_space[param_counter:=param_counter+1],i)\n",
    "        return param_counter\n",
    "    def ansatz_circuit_1(qc, param_space, param_counter=0):\n",
    "        # param_counter = 2 * chain_length\n",
    "        for i in range(qc.num_qubits-1):\n",
    "            qc.cx(i,i+1)\n",
    "        qc.cx(-1,0)\n",
    "        for i in range(qc.num_qubits):\n",
    "            qc.rz(param_space[param_counter:=param_counter+1],i)\n",
    "            qc.rx(param_space[param_counter:=param_counter+1],i)\n",
    "            qc.rz(param_space[param_counter:=param_counter+1],i)\n",
    "        return param_counter\n",
    "    param_counter = ansatz_circuit_0(qc, param_space, param_counter)\n",
    "    for i in range(num_layers):\n",
    "        param_counter = ansatz_circuit_1(qc, param_space, param_counter)\n",
    "    display(qc.draw('mpl'))"
   ]
  },
  {
   "cell_type": "markdown",
   "id": "0f5dfcc3-9e04-4db0-9c9f-f1cab443d8a1",
   "metadata": {},
   "source": [
    "#### Ansatz creator for spin ladder"
   ]
  },
  {
   "cell_type": "code",
   "execution_count": 6,
   "id": "2338ef7e-a78b-45c2-bff1-01b7fcdc2765",
   "metadata": {},
   "outputs": [],
   "source": [
    "def ansatz_circuit_ladder(qc, param_space=param_space2, omit_ratio=omit_ratio):\n",
    "    counter = -1\n",
    "    def layer(qc, params, param_counter):\n",
    "        for i in range(qc.num_qubits):\n",
    "            qc.rx(params[param_counter:=param_counter+1],i)\n",
    "            qc.rz(params[param_counter:=param_counter+1],i)\n",
    "        return param_counter\n",
    "    def entangle(qc, params, param_counter, double_entangle):\n",
    "        for i in range(qc.num_qubits//2):\n",
    "            qc.rzz(params[param_counter:=param_counter+1], 2*i, 2*i+1)\n",
    "        if double_entangle:\n",
    "            for i in range((qc.num_qubits-1)//2):\n",
    "                qc.rzz(params[param_counter:=param_counter+1], 2*i+1, 2*i+2)\n",
    "        return param_counter\n",
    "    fra = Fraction(omit_ratio).limit_denominator()\n",
    "    # print(fra)\n",
    "    for layer_count in range(num_layers):\n",
    "        counter = layer(qc, param_space, counter)\n",
    "        counter = entangle(qc, param_space, counter, double_entangle=(layer_count%fra.denominator<fra.numerator))\n",
    "        qc.barrier()\n",
    "    display(qc.draw('mpl'))"
   ]
  },
  {
   "cell_type": "markdown",
   "id": "67c48082-0eef-4ebc-b4c5-48ea7ee6152c",
   "metadata": {},
   "source": [
    "#### System Definitions"
   ]
  },
  {
   "cell_type": "code",
   "execution_count": 7,
   "id": "f99cb4b5-65d7-4658-b72e-d711d5de89ab",
   "metadata": {},
   "outputs": [],
   "source": [
    "def hamiltonian(t, A=2, J=1, Ω=Ω):\n",
    "    creator = ['I']*chain_length\n",
    "    paulis = ['I','X','Y','Z']\n",
    "    ham = [] # [('X',1.0)]\n",
    "    for i in range(chain_length-1):\n",
    "        for j in range(1,4):\n",
    "            op = creator[:]\n",
    "            op[i] = paulis[j]\n",
    "            op[i+1] = paulis[j]\n",
    "            ham.append([''.join(op), -J/4])\n",
    "    for i in range(chain_length):\n",
    "        op1, op2 = creator[:], creator[:]\n",
    "        op1[i] = 'X'\n",
    "        op2[i] = 'Y'\n",
    "        ham.append([''.join(op1), A * np.cos(Ω*t)])\n",
    "        ham.append([''.join(op2), A * np.sin(Ω*t)])\n",
    "    ham = np.array(ham)\n",
    "    # print(A * np.cos(Ω*t))\n",
    "    return SparsePauliOp(ham[:,0], ham[:,1])\n",
    "\n",
    "def hamiltonian_linear(t, A, Δ=1, Ω=Ω):\n",
    "    ham = SparsePauliOp(['Z','X'] , [-Δ/2, A/2/Ω*np.cos(Ω*t)])\n",
    "    # plt.plot(t, A*np.cos(Ω*t)/2,'.')\n",
    "    return ham\n",
    "\n",
    "def unitary_time_evolver(ham, *args, num_qbits=chain_length, time=num_time_steps*dt, dt=dt):#num_steps=num_time_steps):\n",
    "\n",
    "    circuit = QuantumCircuit(num_qbits)\n",
    "    \n",
    "    for i in range(1, num_time_steps+1):\n",
    "        circuit.append(PauliEvolutionGate(ham(i*dt, *args), time=dt), range(num_qbits))\n",
    "\n",
    "    # print('Unitary Evolution Circuit')\n",
    "    # display(circuit.draw('mpl'))\n",
    "    \n",
    "    return circuit"
   ]
  },
  {
   "cell_type": "markdown",
   "id": "487fa128-ea29-4390-bce1-bc38db294c59",
   "metadata": {},
   "source": [
    "#### Overlap"
   ]
  },
  {
   "cell_type": "code",
   "execution_count": 8,
   "id": "3e8705e7-1a6d-4f02-91b2-bbd53e75bcf8",
   "metadata": {},
   "outputs": [],
   "source": [
    "def overlap(circuit1, circuit2): # < circuit1 | circuit2 >\n",
    "    circuit_state1 = Statevector.from_instruction(circuit1)\n",
    "    circuit_state2 = Statevector.from_instruction(circuit2)\n",
    "    return np.abs(circuit_state1.inner(circuit_state2))**2"
   ]
  },
  {
   "cell_type": "markdown",
   "id": "50398707-9dcd-44f2-83f5-2b2d66b7bb73",
   "metadata": {},
   "source": [
    "#### Cost function"
   ]
  },
  {
   "cell_type": "code",
   "execution_count": 9,
   "id": "e2e04300-17ea-48a0-8590-aa983e139823",
   "metadata": {},
   "outputs": [
    {
     "ename": "SyntaxError",
     "evalue": "arguments cannot follow var-keyword argument (4178336930.py, line 15)",
     "output_type": "error",
     "traceback": [
      "\u001b[0;36m  Cell \u001b[0;32mIn[9], line 15\u001b[0;36m\u001b[0m\n\u001b[0;31m    def cost_func_vqe(params, ansatz, hamiltonian, estimator, **kwargs, computed_circuits=[], λ=5):\u001b[0m\n\u001b[0m                                                                        ^\u001b[0m\n\u001b[0;31mSyntaxError\u001b[0m\u001b[0;31m:\u001b[0m arguments cannot follow var-keyword argument\n"
     ]
    }
   ],
   "source": [
    "def cost_function(params, circuit, unitary_time_evolution, computed_circuits=[], λ=5):\n",
    "    summation = 0\n",
    "    # parameter_values = {param_space[i]: params[i] for i in range(params_size)}\n",
    "    try:\n",
    "        bc = circuit.assign_parameters(params)\n",
    "    except Exception as e:\n",
    "        print(e, 'in cost_function()')\n",
    "        return 1\n",
    "    if computed_circuits != []:\n",
    "        summation = np.sum( [overlap(i, bc) for i in computed_circuits] )\n",
    "    evolved = bc.compose(unitary_time_evolution)\n",
    "    cost = overlap(bc, evolved) - λ * summation\n",
    "    return (cost - 1)**2\n",
    "\n",
    "def cost_func_vqe(params, ansatz, hamiltonian, estimator, **kwargs, computed_circuits=[], λ=5):\n",
    "    \"\"\"Return estimate of energy from estimator\n",
    "\n",
    "    Parameters:\n",
    "        params (ndarray): Array of ansatz parameters\n",
    "        ansatz (QuantumCircuit): Parameterized ansatz circuit\n",
    "        hamiltonian (SparsePauliOp): Operator representation of Hamiltonian\n",
    "        estimator (Estimator): Estimator primitive instance\n",
    "\n",
    "    Returns:\n",
    "        float: Energy estimate\n",
    "    \"\"\"\n",
    "    \n",
    "    cost = estimator.run(ansatz, hamiltonian, parameter_values=params).result().values[0]\n",
    "    return cost"
   ]
  },
  {
   "cell_type": "markdown",
   "id": "1c2c0772-bc52-4edc-929f-acfbd69fd9d8",
   "metadata": {},
   "source": [
    "#### Recursive optimiser (fatal)"
   ]
  },
  {
   "cell_type": "code",
   "execution_count": null,
   "id": "45f85e3f-08a1-4a80-9570-8c9637771952",
   "metadata": {},
   "outputs": [],
   "source": [
    "def optimise(params, circuit, unitary_time_evolution, computed_circuits=[], optim_steps=0): # returns: circuit, cost\n",
    "    def steps():\n",
    "        print('optim_steps:', optim_steps)\n",
    "    try:\n",
    "        bc = circuit.assign_parameters(params)\n",
    "    except Exception as e:\n",
    "        print(e, 'in optimise()')\n",
    "        return circuit, 0\n",
    "    cost = cost_function(params, circuit, unitary_time_evolution, computed_circuits)\n",
    "\n",
    "    if optim_steps==10:\n",
    "        # raise RecursionError('Recursion limit reached!')\n",
    "        print('Recursion limit reached!')\n",
    "        return bc, cost\n",
    "    \n",
    "    if np.abs(cost-1) < cost_threshold:\n",
    "        steps()\n",
    "        # print('cost:',cost)\n",
    "        return bc, cost\n",
    "\n",
    "    ### optimiser \n",
    "    computed_circuits.append(bc)\n",
    "    result = minimize(cost_function, params, args=(bc, unitary_time_evolution, computed_circuits), method='BFGS')\n",
    "    print(result)\n",
    "    \n",
    "    ###\n",
    "    # print(optim_steps)\n",
    "\n",
    "    return optimise(result.x, circuit, unitary_time_evolution, computed_circuits, optim_steps=optim_steps+1)"
   ]
  },
  {
   "cell_type": "markdown",
   "id": "660aa880-80bf-4a91-93ca-d2f8db201ed7",
   "metadata": {},
   "source": [
    "## Main"
   ]
  },
  {
   "cell_type": "markdown",
   "id": "fa54a7cc-1c26-4571-a653-a721bffdf124",
   "metadata": {},
   "source": [
    "### Linearly Driven"
   ]
  },
  {
   "cell_type": "code",
   "execution_count": null,
   "id": "925cbf35-8b75-468c-9aed-2401a353ffc3",
   "metadata": {},
   "outputs": [],
   "source": [
    "initial_guess = [1,1,1]\n",
    "\n",
    "test_qc = QuantumCircuit(1)\n",
    "params = ParameterVector('θ', len(initial_guess))\n",
    "# print(*params)\n",
    "\n",
    "### ansatz\n",
    "test_qc.u(*params, 0)\n",
    "display(test_qc.draw())\n",
    "###\n",
    "\n",
    "A = 1/Ω\n",
    "\n",
    "unitary_timevo_circuit = unitary_time_evolver(hamiltonian_linear, A, num_qbits=1)\n",
    "\n",
    "# evolved = test_qc.compose(unitary_timevo_circuit)\n",
    "# print(len(initial_guess)==len(params))\n",
    "\n",
    "result = minimize(cost_func_vqe, initial_guess, args=(test_qc, hamiltonian_linear), method='BFGS')"
   ]
  },
  {
   "cell_type": "code",
   "execution_count": null,
   "id": "8001e4e4-807e-43dd-8b2a-863b8e44c26d",
   "metadata": {},
   "outputs": [],
   "source": [
    "result"
   ]
  },
  {
   "cell_type": "code",
   "execution_count": null,
   "id": "1678fcaf-a8ba-470f-b29a-b2f2622b30ea",
   "metadata": {},
   "outputs": [],
   "source": [
    "test_qc.assign_parameters(result.x).compose(unitary_timevo_circuit).draw('mpl')"
   ]
  },
  {
   "cell_type": "markdown",
   "id": "0187b76d-285f-4f0b-8d2a-438c447de856",
   "metadata": {},
   "source": [
    "### Spin chain"
   ]
  },
  {
   "cell_type": "code",
   "execution_count": null,
   "id": "84f2da46-7d7f-41ae-956a-29a3244f0ce4",
   "metadata": {},
   "outputs": [],
   "source": [
    "print(hamiltonian_linear(0,2))"
   ]
  },
  {
   "cell_type": "code",
   "execution_count": null,
   "id": "5c92481d-11ec-4e69-af11-54263afc8699",
   "metadata": {
    "tags": []
   },
   "outputs": [],
   "source": [
    "qc = QuantumCircuit(chain_length)\n",
    "\n",
    "# qc.h(qc.qubits)\n",
    "\n",
    "create_ansatz_circuit(qc)\n",
    "\n",
    "unitary = unitary_time_evolution(hamiltonian)\n",
    "\n",
    "qc.compose(unitary, inplace=True)\n",
    "\n",
    "# qc.measure_all()\n",
    "\n",
    "# qc.draw('mpl')\n",
    "\n",
    "# print(time_evolver(qc, hamiltonian(0)))"
   ]
  },
  {
   "cell_type": "code",
   "execution_count": null,
   "id": "efbbc215-1492-4af3-9b78-7928778c63a8",
   "metadata": {},
   "outputs": [],
   "source": [
    "dt"
   ]
  },
  {
   "cell_type": "markdown",
   "id": "104aa4a2-6580-4590-a938-dc2de0ad6044",
   "metadata": {},
   "source": [
    "### Spin ladder"
   ]
  },
  {
   "cell_type": "code",
   "execution_count": null,
   "id": "c54b7026-3e7d-41e1-bc4e-288de4b2397d",
   "metadata": {},
   "outputs": [],
   "source": [
    "qc = QuantumCircuit(chain_length)\n",
    "\n",
    "ansatz_circuit_ladder(qc, omit_ratio=1/3)"
   ]
  },
  {
   "cell_type": "code",
   "execution_count": null,
   "id": "35a1e010-d0a0-44a7-9748-ffe0f8d23c1a",
   "metadata": {},
   "outputs": [],
   "source": []
  }
 ],
 "metadata": {
  "kernelspec": {
   "display_name": "Python 3 (ipykernel)",
   "language": "python",
   "name": "python3"
  },
  "language_info": {
   "codemirror_mode": {
    "name": "ipython",
    "version": 3
   },
   "file_extension": ".py",
   "mimetype": "text/x-python",
   "name": "python",
   "nbconvert_exporter": "python",
   "pygments_lexer": "ipython3",
   "version": "3.12.4"
  }
 },
 "nbformat": 4,
 "nbformat_minor": 5
}
