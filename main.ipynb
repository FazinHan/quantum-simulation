{
 "cells": [
  {
   "cell_type": "markdown",
   "id": "cc1de3d6-4a62-46c2-a940-f002a9bc3aa6",
   "metadata": {},
   "source": [
    "### Parameters"
   ]
  },
  {
   "cell_type": "code",
   "execution_count": 1,
   "id": "8953167e-4e0e-4629-84f9-94fbf605b7ac",
   "metadata": {},
   "outputs": [],
   "source": [
    "chain_length = 4\n",
    "\n",
    "Ω = 2.5\n",
    "\n",
    "omit_ratio = 0"
   ]
  },
  {
   "cell_type": "code",
   "execution_count": 2,
   "id": "633fc5f3-a597-4646-92c2-e4d0c3e9f441",
   "metadata": {},
   "outputs": [],
   "source": [
    "import numpy as np\n",
    "\n",
    "num_layers = 2\n",
    "periods = 1\n",
    "num_time_steps = 100\n",
    "dt = periods / num_time_steps * 2*np.pi/Ω"
   ]
  },
  {
   "cell_type": "code",
   "execution_count": 3,
   "id": "915acddf-4e18-41de-a6a4-6b31e03e878f",
   "metadata": {},
   "outputs": [],
   "source": [
    "from qiskit.circuit import ParameterVector, Parameter\n",
    "\n",
    "cost_threshold = 1e-3\n",
    "\n",
    "parameter_space_size = 2 * chain_length + 3 * chain_length * num_layers\n",
    "param_space = ParameterVector('θ', parameter_space_size)\n",
    "\n",
    "parameter_space_size2 = 2 * chain_length * num_layers + (omit_ratio*chain_length)//2 + (((chain_length*(1-omit_ratio)))//2-1)\n",
    "param_space2 = ParameterVector('θ', parameter_space_size2)"
   ]
  },
  {
   "cell_type": "markdown",
   "id": "d056b113-fda4-4e3c-be55-39311cca20db",
   "metadata": {},
   "source": [
    "### Functions"
   ]
  },
  {
   "cell_type": "markdown",
   "id": "5cbf1ef4-5f96-489a-8c2b-6750dada1aee",
   "metadata": {},
   "source": [
    "#### QFT and QFT$^\\dagger$"
   ]
  },
  {
   "cell_type": "code",
   "execution_count": 4,
   "id": "08620553-2ab5-4218-9a7a-bef7d4ed5fe6",
   "metadata": {
    "tags": []
   },
   "outputs": [],
   "source": [
    "#QFT Circuit\n",
    "def qft(n):\n",
    "    \"\"\"Creates an n-qubit QFT circuit\"\"\"\n",
    "    circuit = QuantumCircuit(n)\n",
    "    def swap_registers(circuit, n):\n",
    "        for qubit in range(n//2):\n",
    "            circuit.swap(qubit, n-qubit-1)\n",
    "        return circuit\n",
    "    def qft_rotations(circuit, n):\n",
    "        \"\"\"Performs qft on the first n qubits in circuit (without swaps)\"\"\"\n",
    "        if n == 0:\n",
    "            return circuit\n",
    "        n -= 1\n",
    "        circuit.h(n)\n",
    "        for qubit in range(n):\n",
    "            circuit.cp(np.pi/2**(n-qubit), qubit, n)\n",
    "        qft_rotations(circuit, n)\n",
    "    \n",
    "    qft_rotations(circuit, n)\n",
    "    swap_registers(circuit, n)\n",
    "    return circuit\n",
    "\n",
    "#Inverse Quantum Fourier Transform\n",
    "def qft_dagger(qc, n):\n",
    "    \"\"\"n-qubit QFTdagger the first n qubits in circ\"\"\"\n",
    "    # Don't forget the Swaps!\n",
    "    for qubit in range(n//2):\n",
    "        qc.swap(qubit, n-qubit-1)\n",
    "    for j in range(n):\n",
    "        for m in range(j):\n",
    "            qc.cp(-np.pi/float(2**(j-m)), m, j)\n",
    "        qc.h(j)\n",
    "    return qc"
   ]
  },
  {
   "cell_type": "markdown",
   "id": "ad56633d-d588-4b8d-a830-781b9d9c0094",
   "metadata": {},
   "source": [
    "#### Ansatz creator for spin chain"
   ]
  },
  {
   "cell_type": "code",
   "execution_count": 5,
   "id": "f8a95b43-7c2d-4533-9136-1100e25a9b62",
   "metadata": {},
   "outputs": [],
   "source": [
    "def create_ansatz_circuit(qc, num_layers=num_layers, param_space=param_space):\n",
    "    param_counter = -1\n",
    "    def ansatz_circuit_0(qc, param_space, param_counter=0):\n",
    "        print('Number of params:',parameter_space_size)\n",
    "        # layer 0\n",
    "        # param_counter=0\n",
    "        for i in range(qc.num_qubits):\n",
    "            qc.rx(param_space[param_counter:=param_counter+1],i)\n",
    "            qc.rz(param_space[param_counter:=param_counter+1],i)\n",
    "        return param_counter\n",
    "    def ansatz_circuit_1(qc, param_space, param_counter=0):\n",
    "        # param_counter = 2 * chain_length\n",
    "        for i in range(qc.num_qubits-1):\n",
    "            qc.cx(i,i+1)\n",
    "        qc.cx(-1,0)\n",
    "        for i in range(qc.num_qubits):\n",
    "            qc.rz(param_space[param_counter:=param_counter+1],i)\n",
    "            qc.rx(param_space[param_counter:=param_counter+1],i)\n",
    "            qc.rz(param_space[param_counter:=param_counter+1],i)\n",
    "        return param_counter\n",
    "    param_counter = ansatz_circuit_0(qc, param_space, param_counter)\n",
    "    for i in range(num_layers):\n",
    "        param_counter = ansatz_circuit_1(qc, param_space, param_counter)\n",
    "    display(qc.draw('mpl'))"
   ]
  },
  {
   "cell_type": "markdown",
   "id": "d9411e77-6e25-41a0-92d5-d5a85eb82c91",
   "metadata": {},
   "source": [
    "#### Ansatz creator for spin ladder"
   ]
  },
  {
   "cell_type": "code",
   "execution_count": 6,
   "id": "6107a459-9336-40a2-8bfb-4c30ed2a8389",
   "metadata": {},
   "outputs": [],
   "source": [
    "def ansatz_circuit_ladder(qc, param_space=param_space2, omit_ratio=omit_ratio):\n",
    "    counter = -1\n",
    "    def layer(qc, params, param_counter):\n",
    "        for i in range(qc.num_qubits):\n",
    "            qc.rx(params[param_counter:=param_counter+1],i)\n",
    "            qc.rz(params[param_counter:=param_counter+1],i)\n",
    "        return param_counter\n",
    "    def entangle(qc, params, param_counter, double_entangle):\n",
    "        for i in range(qc.num_qubits//2):\n",
    "            qc.rzz(params[param_counter:=param_counter+1], 2*i, 2*i+1)\n",
    "        if double_entangle:\n",
    "            for i in range((qc.num_qubits-1)//2):\n",
    "                qc.rzz(params[param_counter:=param_counter+1], 2*i+1, 2*i+2)\n",
    "        return param_counter\n",
    "    fra = Fraction(omit_ratio).limit_denominator()\n",
    "    # print(fra)\n",
    "    for layer_count in range(num_layers):\n",
    "        counter = layer(qc, param_space, counter)\n",
    "        counter = entangle(qc, param_space, counter, double_entangle=(layer_count%fra.denominator<fra.numerator))\n",
    "        qc.barrier()\n",
    "    display(qc.draw('mpl'))"
   ]
  },
  {
   "cell_type": "markdown",
   "id": "12a6a7e9-ea14-4b64-a237-7bb793801ce6",
   "metadata": {},
   "source": [
    "#### Hamiltonians"
   ]
  },
  {
   "cell_type": "code",
   "execution_count": 7,
   "id": "86d009ab-fb10-462b-acae-24434c34ee8d",
   "metadata": {},
   "outputs": [],
   "source": [
    "def hamiltonian(t, A=2, J=1, Ω=Ω):\n",
    "    creator = ['I']*chain_length\n",
    "    paulis = ['I','X','Y','Z']\n",
    "    ham = [] # [('X',1.0)]\n",
    "    for i in range(chain_length-1):\n",
    "        for j in range(1,4):\n",
    "            op = creator[:]\n",
    "            op[i] = paulis[j]\n",
    "            op[i+1] = paulis[j]\n",
    "            ham.append([''.join(op), -J/4])\n",
    "    for i in range(chain_length):\n",
    "        op1, op2 = creator[:], creator[:]\n",
    "        op1[i] = 'X'\n",
    "        op2[i] = 'Y'\n",
    "        ham.append([''.join(op1), A * np.cos(Ω*t)])\n",
    "        ham.append([''.join(op2), A * np.sin(Ω*t)])\n",
    "    ham = np.array(ham)\n",
    "    # print(A * np.cos(Ω*t))\n",
    "    return SparsePauliOp(ham[:,0], ham[:,1])\n",
    "\n",
    "def hamiltonian_linear(t, A, Δ=1, Ω=Ω):\n",
    "    ham = SparsePauliOp(['Z','X'] , [-Δ/2, A/2/Ω*np.cos(Ω*t)])\n",
    "    # plt.plot(t, A*np.cos(Ω*t)/2,'.')\n",
    "    return ham"
   ]
  },
  {
   "cell_type": "markdown",
   "id": "343c38dd-1d8a-4047-b5f3-9593a73e61f1",
   "metadata": {},
   "source": [
    "#### Unitary time evolution"
   ]
  },
  {
   "cell_type": "code",
   "execution_count": 8,
   "id": "735eb1fa-5606-49e5-b628-70288b39f3bf",
   "metadata": {},
   "outputs": [],
   "source": [
    "def unitary_time_evolver(ham, *args, num_qbits=chain_length, time=num_time_steps*dt, dt=dt):#num_steps=num_time_steps):\n",
    "\n",
    "    circuit = QuantumCircuit(num_qbits)\n",
    "    \n",
    "    for i in range(1, int(time/dt)+1):\n",
    "        circuit.compose(HamiltonianGate(ham(i*dt, *args), time=dt), inplace=True)\n",
    "    \n",
    "    return circuit"
   ]
  },
  {
   "cell_type": "markdown",
   "id": "54b177b9-dba0-4160-becb-1a9794c19fbd",
   "metadata": {},
   "source": [
    "### From qiskit docs"
   ]
  },
  {
   "cell_type": "markdown",
   "id": "23505198-0b83-474b-ae7f-5b7ddaf23ee0",
   "metadata": {},
   "source": [
    "First, we'll setup a function that calculates the state fidelity -- a percentage of overlap between two states that we'll use as a penalty for VQD:\n",
    "\n",
    "wtf is this"
   ]
  },
  {
   "cell_type": "code",
   "execution_count": 9,
   "id": "fbea4eaf-ec36-44f5-b086-eceee666853b",
   "metadata": {},
   "outputs": [],
   "source": [
    "def calculate_overlap(circuits_1, circuits_2, parameters, backend):\n",
    "    \n",
    "    def get_global_fidelity(probability_distribution):\n",
    "        \"\"\"Process the probability distribution of a measurement to determine the\n",
    "        global fidelity.\n",
    "        \"\"\"\n",
    "        return probability_distribution.get(0, 0)\n",
    "    \n",
    "    def create_fidelity_circuit(circuit_1, circuit_2):\n",
    "        if len(circuit_1.clbits) > 0:\n",
    "            circuit_1.remove_final_measurements()\n",
    "        if len(circuit_2.clbits) > 0:\n",
    "            circuit_2.remove_final_measurements()\n",
    "\n",
    "        circuit = circuit_1.compose(circuit_2.inverse())\n",
    "        circuit.measure_all()\n",
    "        return circuit\n",
    "    \n",
    "    def construct_fidelity_circuits(circuits_1, circuits_2):\n",
    "        \"\"\"\n",
    "        Constructs the list of fidelity circuits to be evaluated.\n",
    "        These circuits represent the state overlap between pairs of input circuits,\n",
    "        and their construction depends on the fidelity method implementations.\n",
    "        \"\"\"\n",
    "        circuits = []\n",
    "        for (circuit_1, circuit_2) in zip(circuits_1, circuits_2):\n",
    "            # re-parametrize input circuits\n",
    "            parameters_1 = ParameterVector(\"x\", circuit_1.num_parameters)\n",
    "            parametrized_circuit_1 = circuit_1.assign_parameters(parameters_1)\n",
    "            parameters_2 = ParameterVector(\"y\", circuit_2.num_parameters)\n",
    "            parametrized_circuit_2 = circuit_2.assign_parameters(parameters_2)\n",
    "\n",
    "            circuit = create_fidelity_circuit(\n",
    "                parametrized_circuit_1, parametrized_circuit_2\n",
    "            )\n",
    "            circuits.append(circuit)\n",
    "\n",
    "        return circuits\n",
    "\n",
    "    circuits = construct_fidelity_circuits(circuits_1, circuits_2)\n",
    "\n",
    "    job = backend.run(circuits=circuits, parameter_values=parameters)\n",
    "    result = job.result()\n",
    "\n",
    "    raw_fidelities = [\n",
    "        get_global_fidelity(prob_dist) for prob_dist in result.quasi_dists\n",
    "    ]\n",
    "\n",
    "    return raw_fidelities"
   ]
  },
  {
   "cell_type": "markdown",
   "id": "456b9e0e-3d70-4e77-ab64-d1d9b484a37a",
   "metadata": {},
   "source": [
    "It's time to write VQD's cost function:"
   ]
  },
  {
   "cell_type": "markdown",
   "id": "0a2c7a1c-815f-45b4-b137-e400ba9e4579",
   "metadata": {},
   "source": [
    "#### Cost function"
   ]
  },
  {
   "cell_type": "code",
   "execution_count": 10,
   "id": "87a5a6aa-a37d-4d07-9dd9-1eaac67a3ae5",
   "metadata": {},
   "outputs": [],
   "source": [
    "import numpy as np\n",
    "\n",
    "def cost_func_vqd(parameters, ansatz, prev_states, step, betas, estimator, sampler, hamiltonian):\n",
    "    \n",
    "    if len(parameters.shape) == 1:\n",
    "        parameters = np.reshape(parameters, (-1, ansatz.num_parameters))\n",
    "\n",
    "    batch_size = len(parameters)\n",
    "\n",
    "    estimator_job = estimator.run(\n",
    "        batch_size * [ansatz], batch_size * [hamiltonian], parameters\n",
    "    )\n",
    "\n",
    "    total_cost = np.zeros(batch_size)\n",
    "\n",
    "    if step > 1:\n",
    "        # compute overlap cost\n",
    "        batched_prev_states = [state for state in prev_states for _ in range(batch_size)]\n",
    "        costs = calculate_overlap(\n",
    "            batch_size * [ansatz] * (step - 1),\n",
    "            batched_prev_states,\n",
    "            np.tile(parameters, (step - 1, 1)),\n",
    "            sampler\n",
    "        )\n",
    "\n",
    "        costs = np.reshape(costs, (step - 1, -1))\n",
    "        # print('costs',costs)\n",
    "        for state, cost in enumerate(costs):\n",
    "            total_cost += np.real(betas[state] * cost)\n",
    "\n",
    "    estimator_result = estimator_job.result()\n",
    "\n",
    "    values = estimator_result.values - total_cost\n",
    "    # print('values',values)\n",
    "    \n",
    "    return ((values if len(values) > 1 else values[0])-1)**2"
   ]
  },
  {
   "cell_type": "markdown",
   "id": "9b66e9ab-38c4-4667-a085-57b63d11f5ce",
   "metadata": {},
   "source": [
    "### Linear Driver code"
   ]
  },
  {
   "cell_type": "code",
   "execution_count": 11,
   "id": "8f963b71-9b98-4ea7-b2e3-66c82b891f30",
   "metadata": {},
   "outputs": [],
   "source": [
    "from qiskit.primitives import Estimator\n",
    "from qiskit.primitives import Sampler\n",
    "\n",
    "sampler = Sampler()\n",
    "estimator = Estimator()"
   ]
  },
  {
   "cell_type": "code",
   "execution_count": 12,
   "id": "6cb98d88-3650-480d-8c8e-5a7404cf2f0d",
   "metadata": {},
   "outputs": [
    {
     "name": "stdout",
     "output_type": "stream",
     "text": [
      "time taken: 106.26 s\n",
      "[3.2723243231069193e-09, 2.8914868250145034e-08, 2.2228770241462947e-08, 1.6674363967291728e-08, 1.9564963967346946e-07, 8.140597397204049e-09, 1.2409188426703685e-07, 4.595860694689864e-09]\n",
      "[0.7337410649282728, 0.7139365897519522, 0.7206681125445906, 0.729981940736903, 0.701544554210514, 0.7573539850973494, 0.7339063069158753, 0.7940751198693106]\n"
     ]
    }
   ],
   "source": [
    "from qiskit.quantum_info import SparsePauliOp, Statevector, Operator, Pauli\n",
    "from qiskit import QuantumCircuit\n",
    "from qiskit.circuit.library import HamiltonianGate, UGate\n",
    "from scipy.optimize import minimize\n",
    "import time\n",
    "\n",
    "# j = 1\n",
    "\n",
    "k = 2**1\n",
    "betas = [5]*k\n",
    "x0 = np.ones(3)\n",
    "\n",
    "A_Array = np.linspace(0,4/Ω,8)\n",
    "\n",
    "def evolver_gen():\n",
    "    for i in A_Array:\n",
    "        yield unitary_time_evolver(hamiltonian_linear, i, num_qbits=1)\n",
    "\n",
    "time_evo_circuits = evolver_gen()\n",
    "\n",
    "matrix = np.array([[1,0],[0,0]])\n",
    "observable = SparsePauliOp.from_operator(matrix)\n",
    "ground_states = []\n",
    "excited_states = [] \n",
    "\n",
    "t0 = time.perf_counter()\n",
    "for r in time_evo_circuits:\n",
    "\n",
    "    ansatz = QuantumCircuit(1)\n",
    "    theta = ParameterVector('θ',3)\n",
    "    ansatz.u(*theta,0)\n",
    "    ansatz.compose(r, inplace=True)\n",
    "    ansatz.compose(UGate(*theta).inverse(),inplace=True)\n",
    "    # if j:\n",
    "    #     display(ansatz.draw())\n",
    "    #     j = 0\n",
    "    \n",
    "    prev_states = []\n",
    "    prev_opt_parameters = []\n",
    "    eigenvalues = []\n",
    "\n",
    "\n",
    "# try:\n",
    "    for step in range(1, k + 1):\n",
    "        \n",
    "        if step > 1:\n",
    "            prev_states.append(ansatz.assign_parameters(prev_opt_parameters))\n",
    "        \n",
    "        result = minimize(cost_func_vqd, x0, args=(ansatz, prev_states, step, betas, estimator, sampler, observable), method=\"cg\")\n",
    "        # while result.fun >= cost_threshold:\n",
    "        #     result = minimize(cost_func_vqd, x0, args=(ansatz, prev_states, step, betas, estimator, sampler, observable), method=\"cg\")\n",
    "        #     x0 = result.x\n",
    "            # print(result.fun)\n",
    "            \n",
    "        # print(result)\n",
    "    \n",
    "        prev_opt_parameters = result.x\n",
    "        eigenvalues.append(result.fun)\n",
    "        # if result.fun >= .1:\n",
    "        #     # print(np.linalg.det(result.hess_inv))\n",
    "        #     print(result.fun)\n",
    "    \n",
    "    eigenvalues = np.array(eigenvalues)\n",
    "    ground_states.append(eigenvalues[0]/Ω)\n",
    "    excited_states.append(eigenvalues[1]/Ω)\n",
    "\n",
    "# except Exception as e:\n",
    "#     print(e)\n",
    "t1 = time.perf_counter()\n",
    "\n",
    "print('time taken: %.2f s'%(t1-t0))\n",
    "print(ground_states)\n",
    "print(excited_states)"
   ]
  },
  {
   "cell_type": "markdown",
   "id": "384cc08b-1778-4c9d-8c36-d1d4cac1be47",
   "metadata": {},
   "source": [
    "#### Plotter"
   ]
  },
  {
   "cell_type": "code",
   "execution_count": 15,
   "id": "0d5f59d8-7711-4c4c-b9b3-ba7923f3a09a",
   "metadata": {},
   "outputs": [
    {
     "data": {
      "image/png": "[encoded data removed]",
      "text/plain": [
       "<Figure size 640x480 with 1 Axes>"
      ]
     },
     "metadata": {},
     "output_type": "display_data"
    }
   ],
   "source": [
    "import matplotlib.pyplot as plt\n",
    "import os\n",
    "num = 1\n",
    "while os.path.isfile(f'.//outputs//figure{num}.png'):\n",
    "    num += 1\n",
    "\n",
    "plt.plot(A_Array*Ω, ground_states,'b.')\n",
    "# plt.plot(A_Array*Ω, excited_states,'r.')\n",
    "plt.grid()\n",
    "plt.xlabel('A/$\\\\Omega$')\n",
    "plt.ylabel('$\\\\epsilon/\\\\Omega$')\n",
    "plt.savefig(f'.//outputs//figure{num}.png')"
   ]
  },
  {
   "cell_type": "code",
   "execution_count": null,
   "id": "4a27bd3a-5553-4043-85fe-8499711a936f",
   "metadata": {},
   "outputs": [],
   "source": []
  }
 ],
 "metadata": {
  "kernelspec": {
   "display_name": "Python 3 (ipykernel)",
   "language": "python",
   "name": "python3"
  },
  "language_info": {
   "codemirror_mode": {
    "name": "ipython",
    "version": 3
   },
   "file_extension": ".py",
   "mimetype": "text/x-python",
   "name": "python",
   "nbconvert_exporter": "python",
   "pygments_lexer": "ipython3",
   "version": "3.12.3"
  }
 },
 "nbformat": 4,
 "nbformat_minor": 5
}
