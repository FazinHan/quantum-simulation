{
 "cells": [
  {
   "cell_type": "markdown",
   "id": "cc1de3d6-4a62-46c2-a940-f002a9bc3aa6",
   "metadata": {},
   "source": [
    "### Parameters"
   ]
  },
  {
   "cell_type": "code",
   "execution_count": 1,
   "id": "8953167e-4e0e-4629-84f9-94fbf605b7ac",
   "metadata": {},
   "outputs": [],
   "source": [
    "chain_length = 4\n",
    "\n",
    "Ω = 2.5\n",
    "\n",
    "omit_ratio = 0\n",
    "\n",
    "h_cut = 1"
   ]
  },
  {
   "cell_type": "code",
   "execution_count": 2,
   "id": "633fc5f3-a597-4646-92c2-e4d0c3e9f441",
   "metadata": {},
   "outputs": [],
   "source": [
    "import numpy as np\n",
    "\n",
    "num_layers = 2\n",
    "num_periods = 1\n",
    "num_time_steps = 100\n",
    "T = num_periods * 2*np.pi/Ω\n",
    "dt = T / num_time_steps"
   ]
  },
  {
   "cell_type": "code",
   "execution_count": 3,
   "id": "915acddf-4e18-41de-a6a4-6b31e03e878f",
   "metadata": {},
   "outputs": [],
   "source": [
    "from qiskit.circuit import ParameterVector, Parameter\n",
    "\n",
    "cost_threshold = 1e-3\n",
    "\n",
    "parameter_space_size2 = 2 * chain_length * num_layers + (omit_ratio*chain_length)//2 + (((chain_length*(1-omit_ratio)))//2-1)\n",
    "param_space2 = ParameterVector('θ', parameter_space_size2)"
   ]
  },
  {
   "cell_type": "markdown",
   "id": "d056b113-fda4-4e3c-be55-39311cca20db",
   "metadata": {},
   "source": [
    "### Functions"
   ]
  },
  {
   "cell_type": "markdown",
   "id": "5cbf1ef4-5f96-489a-8c2b-6750dada1aee",
   "metadata": {
    "jp-MarkdownHeadingCollapsed": true
   },
   "source": [
    "#### QFT and QFT$^\\dagger$"
   ]
  },
  {
   "cell_type": "code",
   "execution_count": 4,
   "id": "08620553-2ab5-4218-9a7a-bef7d4ed5fe6",
   "metadata": {
    "tags": []
   },
   "outputs": [],
   "source": [
    "#QFT Circuit\n",
    "def qft(n):\n",
    "    \"\"\"Creates an n-qubit QFT circuit\"\"\"\n",
    "    circuit = QuantumCircuit(n)\n",
    "    def swap_registers(circuit, n):\n",
    "        for qubit in range(n//2):\n",
    "            circuit.swap(qubit, n-qubit-1)\n",
    "        return circuit\n",
    "    def qft_rotations(circuit, n):\n",
    "        \"\"\"Performs qft on the first n qubits in circuit (without swaps)\"\"\"\n",
    "        if n == 0:\n",
    "            return circuit\n",
    "        n -= 1\n",
    "        circuit.h(n)\n",
    "        for qubit in range(n):\n",
    "            circuit.cp(np.pi/2**(n-qubit), qubit, n)\n",
    "        qft_rotations(circuit, n)\n",
    "    \n",
    "    qft_rotations(circuit, n)\n",
    "    swap_registers(circuit, n)\n",
    "    return circuit\n",
    "\n",
    "#Inverse Quantum Fourier Transform\n",
    "def qft_dagger(qc, n):\n",
    "    \"\"\"n-qubit QFTdagger the first n qubits in circ\"\"\"\n",
    "    # Don't forget the Swaps!\n",
    "    for qubit in range(n//2):\n",
    "        qc.swap(qubit, n-qubit-1)\n",
    "    for j in range(n):\n",
    "        for m in range(j):\n",
    "            qc.cp(-np.pi/float(2**(j-m)), m, j)\n",
    "        qc.h(j)\n",
    "    return qc"
   ]
  },
  {
   "cell_type": "markdown",
   "id": "ad56633d-d588-4b8d-a830-781b9d9c0094",
   "metadata": {},
   "source": [
    "#### Ansatz creator for spin chain"
   ]
  },
  {
   "cell_type": "code",
   "execution_count": 5,
   "id": "f8a95b43-7c2d-4533-9136-1100e25a9b62",
   "metadata": {},
   "outputs": [],
   "source": [
    "def create_ansatz_circuit(qc, num_layers, param_space):\n",
    "    param_counter = -1\n",
    "    def ansatz_circuit_0(qc, param_space, param_counter=0):\n",
    "        print('Number of params:',parameter_space_size)\n",
    "        # layer 0\n",
    "        # param_counter=0\n",
    "        for i in range(qc.num_qubits):\n",
    "            qc.rx(param_space[param_counter:=param_counter+1],i)\n",
    "            qc.rz(param_space[param_counter:=param_counter+1],i)\n",
    "        return param_counter\n",
    "    def ansatz_circuit_1(qc, param_space, param_counter=0):\n",
    "        # param_counter = 2 * chain_length\n",
    "        for i in range(qc.num_qubits-1):\n",
    "            qc.cx(i,i+1)\n",
    "        qc.cx(-1,0)\n",
    "        for i in range(qc.num_qubits):\n",
    "            qc.rz(param_space[param_counter:=param_counter+1],i)\n",
    "            qc.rx(param_space[param_counter:=param_counter+1],i)\n",
    "            qc.rz(param_space[param_counter:=param_counter+1],i)\n",
    "        return param_counter\n",
    "    param_counter = ansatz_circuit_0(qc, param_space, param_counter)\n",
    "    for i in range(num_layers):\n",
    "        param_counter = ansatz_circuit_1(qc, param_space, param_counter)\n",
    "    # display(qc.draw('mpl'))"
   ]
  },
  {
   "cell_type": "markdown",
   "id": "d9411e77-6e25-41a0-92d5-d5a85eb82c91",
   "metadata": {},
   "source": [
    "#### Ansatz creator for spin ladder"
   ]
  },
  {
   "cell_type": "code",
   "execution_count": 6,
   "id": "6107a459-9336-40a2-8bfb-4c30ed2a8389",
   "metadata": {},
   "outputs": [],
   "source": [
    "def ansatz_circuit_ladder(qc, param_space=param_space2, omit_ratio=omit_ratio):\n",
    "    counter = -1\n",
    "    def layer(qc, params, param_counter):\n",
    "        for i in range(qc.num_qubits):\n",
    "            qc.rx(params[param_counter:=param_counter+1],i)\n",
    "            qc.rz(params[param_counter:=param_counter+1],i)\n",
    "        return param_counter\n",
    "    def entangle(qc, params, param_counter, double_entangle):\n",
    "        for i in range(qc.num_qubits//2):\n",
    "            qc.rzz(params[param_counter:=param_counter+1], 2*i, 2*i+1)\n",
    "        if double_entangle:\n",
    "            for i in range((qc.num_qubits-1)//2):\n",
    "                qc.rzz(params[param_counter:=param_counter+1], 2*i+1, 2*i+2)\n",
    "        return param_counter\n",
    "    fra = Fraction(omit_ratio).limit_denominator()\n",
    "    # print(fra)\n",
    "    for layer_count in range(num_layers):\n",
    "        counter = layer(qc, param_space, counter)\n",
    "        counter = entangle(qc, param_space, counter, double_entangle=(layer_count%fra.denominator<fra.numerator))\n",
    "        qc.barrier()\n",
    "    display(qc.draw('mpl'))"
   ]
  },
  {
   "cell_type": "markdown",
   "id": "12a6a7e9-ea14-4b64-a237-7bb793801ce6",
   "metadata": {},
   "source": [
    "#### Hamiltonians"
   ]
  },
  {
   "cell_type": "code",
   "execution_count": 7,
   "id": "86d009ab-fb10-462b-acae-24434c34ee8d",
   "metadata": {},
   "outputs": [],
   "source": [
    "def hamiltonian_circular(t, A=2, J=1, omega=Ω):\n",
    "    creator = ['I']*chain_length\n",
    "    paulis = ['I','X','Y','Z']\n",
    "    ham = [] # [('X',1.0)]\n",
    "    for i in range(chain_length-1):\n",
    "        for j in range(1,4):\n",
    "            op = creator[:]\n",
    "            op[i] = paulis[j]\n",
    "            op[i+1] = paulis[j]\n",
    "            ham.append([''.join(op), -J/4])\n",
    "    for i in range(chain_length):\n",
    "        op1, op2 = creator[:], creator[:]\n",
    "        op1[i] = 'X'\n",
    "        op2[i] = 'Y'\n",
    "        ham.append([''.join(op1), A * np.cos(omega*t)])\n",
    "        ham.append([''.join(op2), A * np.sin(omega*t)])\n",
    "    ham = np.array(ham)\n",
    "    # print(A * np.cos(Ω*t))\n",
    "    return SparsePauliOp(ham[:,0], ham[:,1])\n",
    "\n",
    "def hamiltonian_linear(t, A, Δ=1, omega=Ω):\n",
    "    ham = SparsePauliOp(['Z','X'] , [-Δ/2, A/2*np.cos(omega*t)])\n",
    "    # plt.plot(t, A*np.cos(Ω*t)/2,'.')\n",
    "    return ham\n",
    "\n",
    "def hamiltonian():\n",
    "    pass"
   ]
  },
  {
   "cell_type": "markdown",
   "id": "343c38dd-1d8a-4047-b5f3-9593a73e61f1",
   "metadata": {},
   "source": [
    "#### Unitary time evolution"
   ]
  },
  {
   "cell_type": "code",
   "execution_count": 8,
   "id": "735eb1fa-5606-49e5-b628-70288b39f3bf",
   "metadata": {},
   "outputs": [],
   "source": [
    "def unitary_time_evolver(ham, *args, num_qbits=chain_length, time=T, dt=dt):#num_steps=num_time_steps):\n",
    "\n",
    "    circuit = QuantumCircuit(num_qbits)\n",
    "    \n",
    "    for i in range(1, int(time/dt)+1):\n",
    "        circuit.compose(HamiltonianGate(ham(i*dt, *args), time=dt), inplace=True)\n",
    "        # print(Operator(HamiltonianGate(ham(i*dt, *args), time=dt)).is_unitary())\n",
    "    \n",
    "    return circuit"
   ]
  },
  {
   "cell_type": "markdown",
   "id": "54b177b9-dba0-4160-becb-1a9794c19fbd",
   "metadata": {},
   "source": [
    "### From qiskit docs"
   ]
  },
  {
   "cell_type": "markdown",
   "id": "23505198-0b83-474b-ae7f-5b7ddaf23ee0",
   "metadata": {},
   "source": [
    "First, we'll setup a function that calculates the state fidelity -- a percentage of overlap between two states that we'll use as a penalty for VQD:\n",
    "\n",
    "wtf is this"
   ]
  },
  {
   "cell_type": "code",
   "execution_count": 9,
   "id": "fbea4eaf-ec36-44f5-b086-eceee666853b",
   "metadata": {},
   "outputs": [],
   "source": [
    "import numpy as np\n",
    "\n",
    "def calculate_overlaps(ansatz, prev_circuits, parameters, estimator):\n",
    "\n",
    "    def create_fidelity_circuit(circuit_1, circuit_2):\n",
    "\n",
    "        \"\"\"\n",
    "        Constructs the list of fidelity circuits to be evaluated.\n",
    "        These circuits represent the state overlap between pairs of input circuits,\n",
    "        and their construction depends on the fidelity method implementations.\n",
    "        \"\"\"\n",
    "                \n",
    "        if len(circuit_1.clbits) > 0:\n",
    "            circuit_1.remove_final_measurements()\n",
    "        if len(circuit_2.clbits) > 0:\n",
    "            circuit_2.remove_final_measurements()\n",
    "\n",
    "        circuit = circuit_1.compose(circuit_2.inverse())\n",
    "        # circuit.measure_all()\n",
    "        return circuit\n",
    "    overlaps = []\n",
    "\n",
    "    matrix = np.zeros((2**ansatz.num_qubits,2**ansatz.num_qubits))\n",
    "    matrix[0,0] = 1\n",
    "    observable = SparsePauliOp.from_operator(matrix)\n",
    "\n",
    "    for prev_circuit in prev_circuits:\n",
    "        fidelity_circuit = create_fidelity_circuit(ansatz, prev_circuit)\n",
    "        estimator_job = estimator.run([(fidelity_circuit, observable, [parameters])])\n",
    "        estimator_result = estimator_job.result()[0]\n",
    "        value = estimator_result.data.evs[0]\n",
    "        \n",
    "        overlaps.append(value)\n",
    "    \n",
    "    return np.array(overlaps)"
   ]
  },
  {
   "cell_type": "markdown",
   "id": "456b9e0e-3d70-4e77-ab64-d1d9b484a37a",
   "metadata": {},
   "source": [
    "It's time to write VQD's cost function:"
   ]
  },
  {
   "cell_type": "markdown",
   "id": "0a2c7a1c-815f-45b4-b137-e400ba9e4579",
   "metadata": {},
   "source": [
    "#### Cost function"
   ]
  },
  {
   "cell_type": "code",
   "execution_count": 10,
   "id": "87a5a6aa-a37d-4d07-9dd9-1eaac67a3ae5",
   "metadata": {},
   "outputs": [],
   "source": [
    "import numpy as np\n",
    "\n",
    "def cost_func_vqd(parameters, U_T, ansatz, prev_states, step, betas, estimator, hamiltonian, sign=-1):\n",
    "\n",
    "    '''\n",
    "    Estimates <ψ|H|ψ> - λ Σ |<0|(U_θβ†)(U_θ)|0>|²\n",
    "\n",
    "    Where:\n",
    "    H = observable\n",
    "    |ψ> = (U_θ†)(U_T)(U_θ)|0>\n",
    "    '''\n",
    "\n",
    "    circuit = ansatz.compose(U_T)\n",
    "    circuit.compose(ansatz.inverse(),inplace=True)\n",
    "    estimator_job = estimator.run([(circuit, hamiltonian, [parameters])])\n",
    "\n",
    "    total_cost = 0\n",
    "\n",
    "    if step > 1:\n",
    "        overlaps = calculate_overlaps(ansatz, prev_states, parameters, estimator)\n",
    "        total_cost = np.sum([np.real(betas[state] * overlap**2) for state, overlap in enumerate(overlaps)])\n",
    "\n",
    "    estimator_result = estimator_job.result()[0]\n",
    "\n",
    "    value = estimator_result.data.evs[0] - total_cost\n",
    "\n",
    "    return value*sign"
   ]
  },
  {
   "cell_type": "markdown",
   "id": "9b66e9ab-38c4-4667-a085-57b63d11f5ce",
   "metadata": {},
   "source": [
    "### Linear Driver code (suppressed)"
   ]
  },
  {
   "cell_type": "code",
   "execution_count": 11,
   "id": "8f963b71-9b98-4ea7-b2e3-66c82b891f30",
   "metadata": {},
   "outputs": [],
   "source": [
    "from qiskit.primitives import StatevectorSampler as Sampler\n",
    "from qiskit.primitives import StatevectorEstimator as Estimator\n",
    "estimator = Estimator()"
   ]
  },
  {
   "cell_type": "code",
   "execution_count": 12,
   "id": "f3cf34fa-9cf2-445e-a129-bb0c18af3f05",
   "metadata": {},
   "outputs": [],
   "source": [
    "# from qiskit.quantum_info import SparsePauliOp, Statevector, Operator, Pauli\n",
    "# from qiskit import QuantumCircuit\n",
    "# from qiskit.circuit.library import HamiltonianGate, UGate\n",
    "# from scipy.optimize import minimize\n",
    "# import time\n",
    "\n",
    "# # j = 1\n",
    "\n",
    "# k = 2**1\n",
    "# betas = [5]*k\n",
    "# x0 = np.random.uniform(-np.pi, np.pi, size=3)\n",
    "\n",
    "# A_Array = np.linspace(0,4,8)\n",
    "\n",
    "# def evolver_gen():\n",
    "#     for A in A_Array:\n",
    "#         yield unitary_time_evolver(hamiltonian_linear, A*Ω, num_qbits=1)\n",
    "\n",
    "# matrix = np.array([[1,0],[0,0]])\n",
    "# observable = SparsePauliOp.from_operator(matrix)\n",
    "# ground_states = []\n",
    "# excited_states = [] \n",
    "# costs = []\n",
    "\n",
    "# t0 = time.perf_counter()\n",
    "# for U_T in evolver_gen():\n",
    "\n",
    "#     ansatz = QuantumCircuit(1)\n",
    "#     theta = ParameterVector('θ',3)\n",
    "#     ansatz.u(*theta,0)\n",
    "    \n",
    "    \n",
    "#     prev_states = []\n",
    "#     prev_opt_parameters = []\n",
    "#     eigenvalues = []\n",
    "\n",
    "\n",
    "# # try:\n",
    "#     for step in range(1, k + 1):\n",
    "        \n",
    "#         result = minimize(cost_func_vqd, x0, args=(U_T, ansatz, prev_states, step, betas, estimator, observable), method=\"bfgs\")\n",
    "        \n",
    "        \n",
    "#         prev_opt_parameters = result.x\n",
    "        \n",
    "#         ### Computes expectation value of optimised circuit\n",
    "\n",
    "#         floquet_mode = Statevector.from_instruction(ansatz.assign_parameters(prev_opt_parameters))\n",
    "        \n",
    "#         eigenvalues.append(-np.angle(floquet_mode.expectation_value(U_T))/T)\n",
    "        \n",
    "#         prev_states.append(ansatz.assign_parameters(prev_opt_parameters))\n",
    "\n",
    "#         costs.append(-result.fun)\n",
    "    \n",
    "#     eigenvalues = np.array(eigenvalues)/Ω\n",
    "#     eigenvalues.sort()\n",
    "#     # print(eigenvalues.shape)\n",
    "#     ground_states.append(eigenvalues[0])\n",
    "#     excited_states.append(eigenvalues[1])\n",
    "\n",
    "# # except Exception as e:\n",
    "# #     print(e)\n",
    "# costs = np.array(costs).reshape(8,2)\n",
    "\n",
    "# t1 = time.perf_counter()"
   ]
  },
  {
   "cell_type": "code",
   "execution_count": 13,
   "id": "8c303848-0997-47f3-b4e4-835290ed7b7a",
   "metadata": {},
   "outputs": [],
   "source": [
    "# # print(eigenvalues)\n",
    "\n",
    "# print('time taken: %.2f s'%(t1-t0))\n",
    "# ground_states=np.array(ground_states)\n",
    "# excited_states=np.array(excited_states)\n",
    "# # print(excited_states[0])"
   ]
  },
  {
   "cell_type": "markdown",
   "id": "384cc08b-1778-4c9d-8c36-d1d4cac1be47",
   "metadata": {},
   "source": [
    "#### Plotter"
   ]
  },
  {
   "cell_type": "code",
   "execution_count": 14,
   "id": "0d5f59d8-7711-4c4c-b9b3-ba7923f3a09a",
   "metadata": {},
   "outputs": [],
   "source": [
    "# import matplotlib.pyplot as plt\n",
    "# import os\n",
    "# num = 1\n",
    "# while os.path.isfile(f'.//outputs//figure{num}.png'):\n",
    "#     num += 1\n",
    "\n",
    "# plt.plot(A_Array, ground_states.real,'b.')\n",
    "# plt.plot(A_Array, excited_states.real,'r.')\n",
    "# plt.grid()\n",
    "# plt.xlabel('$A/\\\\Omega$')\n",
    "# plt.ylabel('$\\\\epsilon/\\\\Omega$')\n",
    "# plt.title('Initial guess: {}'.format(x0))\n",
    "# # plt.savefig(f'.//outputs//figure{num}.png')"
   ]
  },
  {
   "cell_type": "markdown",
   "id": "2784be1f-3a53-4be4-ab04-97828bde3265",
   "metadata": {},
   "source": [
    "#### Plotting the cost function"
   ]
  },
  {
   "cell_type": "code",
   "execution_count": 15,
   "id": "afab895a-149b-4b25-b9b7-4e5a9959d3d5",
   "metadata": {},
   "outputs": [],
   "source": [
    "# plt.plot(A_Array, costs[:,0],'x',label='ground states')\n",
    "# plt.plot(A_Array, costs[:,1],'.',label='excited states')\n",
    "# plt.legend()\n",
    "# plt.ylim(0,1.3)\n",
    "# plt.ylabel('$\\\\mathcal{L}(\\\\theta)$')\n",
    "# plt.xlabel('$A/\\\\Omega$')\n",
    "# plt.grid()\n",
    "# num = 1\n",
    "# while os.path.isfile(f'.//outputs//figure{num}.png'):\n",
    "#     num += 1\n",
    "# # plt.savefig(f'.//outputs//figure{num}.png')"
   ]
  },
  {
   "cell_type": "markdown",
   "id": "54485940-9dcc-4de9-a965-21a6b8e1d86b",
   "metadata": {},
   "source": [
    "### Circular Driving"
   ]
  },
  {
   "cell_type": "markdown",
   "id": "bbad957a-7c16-40d1-8692-441ccd17bd61",
   "metadata": {},
   "source": [
    "#### Convergence function"
   ]
  },
  {
   "cell_type": "code",
   "execution_count": 16,
   "id": "62071bd0-bcb1-4f71-b52a-53b854492189",
   "metadata": {},
   "outputs": [],
   "source": [
    "def convergence_parameter(ansatz, parameters, U_T, observable, estimator):\n",
    "    circuit = ansatz.compose(U_T)\n",
    "    circuit.compose(ansatz.inverse(),inplace=True)\n",
    "    display(circuit.draw())\n",
    "    estimator_job = estimator.run([(circuit, observable, [parameters])])\n",
    "    estimator_result = estimator_job.result()[0]\n",
    "    value = estimator_result.data.evs[0]\n",
    "    return (1 - np.abs(value))**2"
   ]
  },
  {
   "cell_type": "markdown",
   "id": "565b06dc-77f5-46d2-a268-d311a792f978",
   "metadata": {},
   "source": [
    "#### Driver code"
   ]
  },
  {
   "cell_type": "code",
   "execution_count": 17,
   "id": "5898a7ef-c118-447a-a7e1-a54470819592",
   "metadata": {},
   "outputs": [
    {
     "name": "stdout",
     "output_type": "stream",
     "text": [
      "Number of params: 20\n"
     ]
    },
    {
     "name": "stderr",
     "output_type": "stream",
     "text": [
      "/tmp/ipykernel_11674/4039978787.py:65: RuntimeWarning: invalid value encountered in scalar power\n",
      "  costs.append(ϵ2**.5)\n"
     ]
    },
    {
     "name": "stdout",
     "output_type": "stream",
     "text": [
      "Number of params: 32\n"
     ]
    },
    {
     "ename": "KeyboardInterrupt",
     "evalue": "",
     "output_type": "error",
     "traceback": [
      "\u001b[0;31m---------------------------------------------------------------------------\u001b[0m",
      "\u001b[0;31mKeyboardInterrupt\u001b[0m                         Traceback (most recent call last)",
      "Cell \u001b[0;32mIn[17], line 50\u001b[0m\n\u001b[1;32m     47\u001b[0m \u001b[38;5;66;03m# try:\u001b[39;00m\n\u001b[1;32m     48\u001b[0m     \u001b[38;5;28;01mfor\u001b[39;00m step \u001b[38;5;129;01min\u001b[39;00m \u001b[38;5;28mrange\u001b[39m(\u001b[38;5;241m1\u001b[39m, k \u001b[38;5;241m+\u001b[39m \u001b[38;5;241m1\u001b[39m):\n\u001b[0;32m---> 50\u001b[0m         result \u001b[38;5;241m=\u001b[39m minimize(cost_func_vqd, x0, args\u001b[38;5;241m=\u001b[39m(U_T, ansatz, prev_states, step, betas, estimator, observable), method\u001b[38;5;241m=\u001b[39m\u001b[38;5;124m\"\u001b[39m\u001b[38;5;124mbfgs\u001b[39m\u001b[38;5;124m\"\u001b[39m)\n\u001b[1;32m     53\u001b[0m         prev_opt_parameters \u001b[38;5;241m=\u001b[39m result\u001b[38;5;241m.\u001b[39mx\n\u001b[1;32m     56\u001b[0m         \u001b[38;5;66;03m# floquet_mode = Statevector.from_instruction(ansatz.assign_parameters(prev_opt_parameters))\u001b[39;00m\n\u001b[1;32m     57\u001b[0m         \n\u001b[1;32m     58\u001b[0m         \u001b[38;5;66;03m# eigenvalues.append(-np.angle(floquet_mode.expectation_value(U_T))/T)\u001b[39;00m\n\u001b[0;32m   (...)\u001b[0m\n\u001b[1;32m     61\u001b[0m \n\u001b[1;32m     62\u001b[0m         \u001b[38;5;66;03m# costs.append(-result.fun)\u001b[39;00m\n",
      "File \u001b[0;32m/data/khan/miniconda3/envs/qiskit/lib/python3.12/site-packages/scipy/optimize/_minimize.py:708\u001b[0m, in \u001b[0;36mminimize\u001b[0;34m(fun, x0, args, method, jac, hess, hessp, bounds, constraints, tol, callback, options)\u001b[0m\n\u001b[1;32m    706\u001b[0m     res \u001b[38;5;241m=\u001b[39m _minimize_cg(fun, x0, args, jac, callback, \u001b[38;5;241m*\u001b[39m\u001b[38;5;241m*\u001b[39moptions)\n\u001b[1;32m    707\u001b[0m \u001b[38;5;28;01melif\u001b[39;00m meth \u001b[38;5;241m==\u001b[39m \u001b[38;5;124m'\u001b[39m\u001b[38;5;124mbfgs\u001b[39m\u001b[38;5;124m'\u001b[39m:\n\u001b[0;32m--> 708\u001b[0m     res \u001b[38;5;241m=\u001b[39m _minimize_bfgs(fun, x0, args, jac, callback, \u001b[38;5;241m*\u001b[39m\u001b[38;5;241m*\u001b[39moptions)\n\u001b[1;32m    709\u001b[0m \u001b[38;5;28;01melif\u001b[39;00m meth \u001b[38;5;241m==\u001b[39m \u001b[38;5;124m'\u001b[39m\u001b[38;5;124mnewton-cg\u001b[39m\u001b[38;5;124m'\u001b[39m:\n\u001b[1;32m    710\u001b[0m     res \u001b[38;5;241m=\u001b[39m _minimize_newtoncg(fun, x0, args, jac, hess, hessp, callback,\n\u001b[1;32m    711\u001b[0m                              \u001b[38;5;241m*\u001b[39m\u001b[38;5;241m*\u001b[39moptions)\n",
      "File \u001b[0;32m/data/khan/miniconda3/envs/qiskit/lib/python3.12/site-packages/scipy/optimize/_optimize.py:1398\u001b[0m, in \u001b[0;36m_minimize_bfgs\u001b[0;34m(fun, x0, args, jac, callback, gtol, norm, eps, maxiter, disp, return_all, finite_diff_rel_step, xrtol, c1, c2, hess_inv0, **unknown_options)\u001b[0m\n\u001b[1;32m   1395\u001b[0m pk \u001b[38;5;241m=\u001b[39m \u001b[38;5;241m-\u001b[39mnp\u001b[38;5;241m.\u001b[39mdot(Hk, gfk)\n\u001b[1;32m   1396\u001b[0m \u001b[38;5;28;01mtry\u001b[39;00m:\n\u001b[1;32m   1397\u001b[0m     alpha_k, fc, gc, old_fval, old_old_fval, gfkp1 \u001b[38;5;241m=\u001b[39m \\\n\u001b[0;32m-> 1398\u001b[0m              _line_search_wolfe12(f, myfprime, xk, pk, gfk,\n\u001b[1;32m   1399\u001b[0m                                   old_fval, old_old_fval, amin\u001b[38;5;241m=\u001b[39m\u001b[38;5;241m1e-100\u001b[39m,\n\u001b[1;32m   1400\u001b[0m                                   amax\u001b[38;5;241m=\u001b[39m\u001b[38;5;241m1e100\u001b[39m, c1\u001b[38;5;241m=\u001b[39mc1, c2\u001b[38;5;241m=\u001b[39mc2)\n\u001b[1;32m   1401\u001b[0m \u001b[38;5;28;01mexcept\u001b[39;00m _LineSearchError:\n\u001b[1;32m   1402\u001b[0m     \u001b[38;5;66;03m# Line search failed to find a better solution.\u001b[39;00m\n\u001b[1;32m   1403\u001b[0m     warnflag \u001b[38;5;241m=\u001b[39m \u001b[38;5;241m2\u001b[39m\n",
      "File \u001b[0;32m/data/khan/miniconda3/envs/qiskit/lib/python3.12/site-packages/scipy/optimize/_optimize.py:1134\u001b[0m, in \u001b[0;36m_line_search_wolfe12\u001b[0;34m(f, fprime, xk, pk, gfk, old_fval, old_old_fval, **kwargs)\u001b[0m\n\u001b[1;32m   1120\u001b[0m \u001b[38;5;250m\u001b[39m\u001b[38;5;124;03m\"\"\"\u001b[39;00m\n\u001b[1;32m   1121\u001b[0m \u001b[38;5;124;03mSame as line_search_wolfe1, but fall back to line_search_wolfe2 if\u001b[39;00m\n\u001b[1;32m   1122\u001b[0m \u001b[38;5;124;03msuitable step length is not found, and raise an exception if a\u001b[39;00m\n\u001b[0;32m   (...)\u001b[0m\n\u001b[1;32m   1129\u001b[0m \n\u001b[1;32m   1130\u001b[0m \u001b[38;5;124;03m\"\"\"\u001b[39;00m\n\u001b[1;32m   1132\u001b[0m extra_condition \u001b[38;5;241m=\u001b[39m kwargs\u001b[38;5;241m.\u001b[39mpop(\u001b[38;5;124m'\u001b[39m\u001b[38;5;124mextra_condition\u001b[39m\u001b[38;5;124m'\u001b[39m, \u001b[38;5;28;01mNone\u001b[39;00m)\n\u001b[0;32m-> 1134\u001b[0m ret \u001b[38;5;241m=\u001b[39m line_search_wolfe1(f, fprime, xk, pk, gfk,\n\u001b[1;32m   1135\u001b[0m                          old_fval, old_old_fval,\n\u001b[1;32m   1136\u001b[0m                          \u001b[38;5;241m*\u001b[39m\u001b[38;5;241m*\u001b[39mkwargs)\n\u001b[1;32m   1138\u001b[0m \u001b[38;5;28;01mif\u001b[39;00m ret[\u001b[38;5;241m0\u001b[39m] \u001b[38;5;129;01mis\u001b[39;00m \u001b[38;5;129;01mnot\u001b[39;00m \u001b[38;5;28;01mNone\u001b[39;00m \u001b[38;5;129;01mand\u001b[39;00m extra_condition \u001b[38;5;129;01mis\u001b[39;00m \u001b[38;5;129;01mnot\u001b[39;00m \u001b[38;5;28;01mNone\u001b[39;00m:\n\u001b[1;32m   1139\u001b[0m     xp1 \u001b[38;5;241m=\u001b[39m xk \u001b[38;5;241m+\u001b[39m ret[\u001b[38;5;241m0\u001b[39m] \u001b[38;5;241m*\u001b[39m pk\n",
      "File \u001b[0;32m/data/khan/miniconda3/envs/qiskit/lib/python3.12/site-packages/scipy/optimize/_linesearch.py:94\u001b[0m, in \u001b[0;36mline_search_wolfe1\u001b[0;34m(f, fprime, xk, pk, gfk, old_fval, old_old_fval, args, c1, c2, amax, amin, xtol)\u001b[0m\n\u001b[1;32m     90\u001b[0m     \u001b[38;5;28;01mreturn\u001b[39;00m np\u001b[38;5;241m.\u001b[39mdot(gval[\u001b[38;5;241m0\u001b[39m], pk)\n\u001b[1;32m     92\u001b[0m derphi0 \u001b[38;5;241m=\u001b[39m np\u001b[38;5;241m.\u001b[39mdot(gfk, pk)\n\u001b[0;32m---> 94\u001b[0m stp, fval, old_fval \u001b[38;5;241m=\u001b[39m scalar_search_wolfe1(\n\u001b[1;32m     95\u001b[0m         phi, derphi, old_fval, old_old_fval, derphi0,\n\u001b[1;32m     96\u001b[0m         c1\u001b[38;5;241m=\u001b[39mc1, c2\u001b[38;5;241m=\u001b[39mc2, amax\u001b[38;5;241m=\u001b[39mamax, amin\u001b[38;5;241m=\u001b[39mamin, xtol\u001b[38;5;241m=\u001b[39mxtol)\n\u001b[1;32m     98\u001b[0m \u001b[38;5;28;01mreturn\u001b[39;00m stp, fc[\u001b[38;5;241m0\u001b[39m], gc[\u001b[38;5;241m0\u001b[39m], fval, old_fval, gval[\u001b[38;5;241m0\u001b[39m]\n",
      "File \u001b[0;32m/data/khan/miniconda3/envs/qiskit/lib/python3.12/site-packages/scipy/optimize/_linesearch.py:171\u001b[0m, in \u001b[0;36mscalar_search_wolfe1\u001b[0;34m(phi, derphi, phi0, old_phi0, derphi0, c1, c2, amax, amin, xtol)\u001b[0m\n\u001b[1;32m    168\u001b[0m maxiter \u001b[38;5;241m=\u001b[39m \u001b[38;5;241m100\u001b[39m\n\u001b[1;32m    170\u001b[0m dcsrch \u001b[38;5;241m=\u001b[39m DCSRCH(phi, derphi, c1, c2, xtol, amin, amax)\n\u001b[0;32m--> 171\u001b[0m stp, phi1, phi0, task \u001b[38;5;241m=\u001b[39m dcsrch(\n\u001b[1;32m    172\u001b[0m     alpha1, phi0\u001b[38;5;241m=\u001b[39mphi0, derphi0\u001b[38;5;241m=\u001b[39mderphi0, maxiter\u001b[38;5;241m=\u001b[39mmaxiter\n\u001b[1;32m    173\u001b[0m )\n\u001b[1;32m    175\u001b[0m \u001b[38;5;28;01mreturn\u001b[39;00m stp, phi1, phi0\n",
      "File \u001b[0;32m/data/khan/miniconda3/envs/qiskit/lib/python3.12/site-packages/scipy/optimize/_dcsrch.py:256\u001b[0m, in \u001b[0;36mDCSRCH.__call__\u001b[0;34m(self, alpha1, phi0, derphi0, maxiter)\u001b[0m\n\u001b[1;32m    254\u001b[0m     alpha1 \u001b[38;5;241m=\u001b[39m stp\n\u001b[1;32m    255\u001b[0m     phi1 \u001b[38;5;241m=\u001b[39m \u001b[38;5;28mself\u001b[39m\u001b[38;5;241m.\u001b[39mphi(stp)\n\u001b[0;32m--> 256\u001b[0m     derphi1 \u001b[38;5;241m=\u001b[39m \u001b[38;5;28mself\u001b[39m\u001b[38;5;241m.\u001b[39mderphi(stp)\n\u001b[1;32m    257\u001b[0m \u001b[38;5;28;01melse\u001b[39;00m:\n\u001b[1;32m    258\u001b[0m     \u001b[38;5;28;01mbreak\u001b[39;00m\n",
      "File \u001b[0;32m/data/khan/miniconda3/envs/qiskit/lib/python3.12/site-packages/scipy/optimize/_linesearch.py:88\u001b[0m, in \u001b[0;36mline_search_wolfe1.<locals>.derphi\u001b[0;34m(s)\u001b[0m\n\u001b[1;32m     87\u001b[0m \u001b[38;5;28;01mdef\u001b[39;00m \u001b[38;5;21mderphi\u001b[39m(s):\n\u001b[0;32m---> 88\u001b[0m     gval[\u001b[38;5;241m0\u001b[39m] \u001b[38;5;241m=\u001b[39m fprime(xk \u001b[38;5;241m+\u001b[39m s\u001b[38;5;241m*\u001b[39mpk, \u001b[38;5;241m*\u001b[39margs)\n\u001b[1;32m     89\u001b[0m     gc[\u001b[38;5;241m0\u001b[39m] \u001b[38;5;241m+\u001b[39m\u001b[38;5;241m=\u001b[39m \u001b[38;5;241m1\u001b[39m\n\u001b[1;32m     90\u001b[0m     \u001b[38;5;28;01mreturn\u001b[39;00m np\u001b[38;5;241m.\u001b[39mdot(gval[\u001b[38;5;241m0\u001b[39m], pk)\n",
      "File \u001b[0;32m/data/khan/miniconda3/envs/qiskit/lib/python3.12/site-packages/scipy/optimize/_differentiable_functions.py:284\u001b[0m, in \u001b[0;36mScalarFunction.grad\u001b[0;34m(self, x)\u001b[0m\n\u001b[1;32m    282\u001b[0m \u001b[38;5;28;01mif\u001b[39;00m \u001b[38;5;129;01mnot\u001b[39;00m np\u001b[38;5;241m.\u001b[39marray_equal(x, \u001b[38;5;28mself\u001b[39m\u001b[38;5;241m.\u001b[39mx):\n\u001b[1;32m    283\u001b[0m     \u001b[38;5;28mself\u001b[39m\u001b[38;5;241m.\u001b[39m_update_x_impl(x)\n\u001b[0;32m--> 284\u001b[0m \u001b[38;5;28mself\u001b[39m\u001b[38;5;241m.\u001b[39m_update_grad()\n\u001b[1;32m    285\u001b[0m \u001b[38;5;28;01mreturn\u001b[39;00m \u001b[38;5;28mself\u001b[39m\u001b[38;5;241m.\u001b[39mg\n",
      "File \u001b[0;32m/data/khan/miniconda3/envs/qiskit/lib/python3.12/site-packages/scipy/optimize/_differentiable_functions.py:267\u001b[0m, in \u001b[0;36mScalarFunction._update_grad\u001b[0;34m(self)\u001b[0m\n\u001b[1;32m    265\u001b[0m \u001b[38;5;28;01mdef\u001b[39;00m \u001b[38;5;21m_update_grad\u001b[39m(\u001b[38;5;28mself\u001b[39m):\n\u001b[1;32m    266\u001b[0m     \u001b[38;5;28;01mif\u001b[39;00m \u001b[38;5;129;01mnot\u001b[39;00m \u001b[38;5;28mself\u001b[39m\u001b[38;5;241m.\u001b[39mg_updated:\n\u001b[0;32m--> 267\u001b[0m         \u001b[38;5;28mself\u001b[39m\u001b[38;5;241m.\u001b[39m_update_grad_impl()\n\u001b[1;32m    268\u001b[0m         \u001b[38;5;28mself\u001b[39m\u001b[38;5;241m.\u001b[39mg_updated \u001b[38;5;241m=\u001b[39m \u001b[38;5;28;01mTrue\u001b[39;00m\n",
      "File \u001b[0;32m/data/khan/miniconda3/envs/qiskit/lib/python3.12/site-packages/scipy/optimize/_differentiable_functions.py:181\u001b[0m, in \u001b[0;36mScalarFunction.__init__.<locals>.update_grad\u001b[0;34m()\u001b[0m\n\u001b[1;32m    179\u001b[0m \u001b[38;5;28mself\u001b[39m\u001b[38;5;241m.\u001b[39m_update_fun()\n\u001b[1;32m    180\u001b[0m \u001b[38;5;28mself\u001b[39m\u001b[38;5;241m.\u001b[39mngev \u001b[38;5;241m+\u001b[39m\u001b[38;5;241m=\u001b[39m \u001b[38;5;241m1\u001b[39m\n\u001b[0;32m--> 181\u001b[0m \u001b[38;5;28mself\u001b[39m\u001b[38;5;241m.\u001b[39mg \u001b[38;5;241m=\u001b[39m approx_derivative(fun_wrapped, \u001b[38;5;28mself\u001b[39m\u001b[38;5;241m.\u001b[39mx, f0\u001b[38;5;241m=\u001b[39m\u001b[38;5;28mself\u001b[39m\u001b[38;5;241m.\u001b[39mf,\n\u001b[1;32m    182\u001b[0m                            \u001b[38;5;241m*\u001b[39m\u001b[38;5;241m*\u001b[39mfinite_diff_options)\n",
      "File \u001b[0;32m/data/khan/miniconda3/envs/qiskit/lib/python3.12/site-packages/scipy/optimize/_numdiff.py:519\u001b[0m, in \u001b[0;36mapprox_derivative\u001b[0;34m(fun, x0, method, rel_step, abs_step, f0, bounds, sparsity, as_linear_operator, args, kwargs)\u001b[0m\n\u001b[1;32m    516\u001b[0m     use_one_sided \u001b[38;5;241m=\u001b[39m \u001b[38;5;28;01mFalse\u001b[39;00m\n\u001b[1;32m    518\u001b[0m \u001b[38;5;28;01mif\u001b[39;00m sparsity \u001b[38;5;129;01mis\u001b[39;00m \u001b[38;5;28;01mNone\u001b[39;00m:\n\u001b[0;32m--> 519\u001b[0m     \u001b[38;5;28;01mreturn\u001b[39;00m _dense_difference(fun_wrapped, x0, f0, h,\n\u001b[1;32m    520\u001b[0m                              use_one_sided, method)\n\u001b[1;32m    521\u001b[0m \u001b[38;5;28;01melse\u001b[39;00m:\n\u001b[1;32m    522\u001b[0m     \u001b[38;5;28;01mif\u001b[39;00m \u001b[38;5;129;01mnot\u001b[39;00m issparse(sparsity) \u001b[38;5;129;01mand\u001b[39;00m \u001b[38;5;28mlen\u001b[39m(sparsity) \u001b[38;5;241m==\u001b[39m \u001b[38;5;241m2\u001b[39m:\n",
      "File \u001b[0;32m/data/khan/miniconda3/envs/qiskit/lib/python3.12/site-packages/scipy/optimize/_numdiff.py:590\u001b[0m, in \u001b[0;36m_dense_difference\u001b[0;34m(fun, x0, f0, h, use_one_sided, method)\u001b[0m\n\u001b[1;32m    588\u001b[0m     x \u001b[38;5;241m=\u001b[39m x0 \u001b[38;5;241m+\u001b[39m h_vecs[i]\n\u001b[1;32m    589\u001b[0m     dx \u001b[38;5;241m=\u001b[39m x[i] \u001b[38;5;241m-\u001b[39m x0[i]  \u001b[38;5;66;03m# Recompute dx as exactly representable number.\u001b[39;00m\n\u001b[0;32m--> 590\u001b[0m     df \u001b[38;5;241m=\u001b[39m fun(x) \u001b[38;5;241m-\u001b[39m f0\n\u001b[1;32m    591\u001b[0m \u001b[38;5;28;01melif\u001b[39;00m method \u001b[38;5;241m==\u001b[39m \u001b[38;5;124m'\u001b[39m\u001b[38;5;124m3-point\u001b[39m\u001b[38;5;124m'\u001b[39m \u001b[38;5;129;01mand\u001b[39;00m use_one_sided[i]:\n\u001b[1;32m    592\u001b[0m     x1 \u001b[38;5;241m=\u001b[39m x0 \u001b[38;5;241m+\u001b[39m h_vecs[i]\n",
      "File \u001b[0;32m/data/khan/miniconda3/envs/qiskit/lib/python3.12/site-packages/scipy/optimize/_numdiff.py:470\u001b[0m, in \u001b[0;36mapprox_derivative.<locals>.fun_wrapped\u001b[0;34m(x)\u001b[0m\n\u001b[1;32m    467\u001b[0m \u001b[38;5;28;01mif\u001b[39;00m xp\u001b[38;5;241m.\u001b[39misdtype(x\u001b[38;5;241m.\u001b[39mdtype, \u001b[38;5;124m\"\u001b[39m\u001b[38;5;124mreal floating\u001b[39m\u001b[38;5;124m\"\u001b[39m):\n\u001b[1;32m    468\u001b[0m     x \u001b[38;5;241m=\u001b[39m xp\u001b[38;5;241m.\u001b[39mastype(x, x0\u001b[38;5;241m.\u001b[39mdtype)\n\u001b[0;32m--> 470\u001b[0m f \u001b[38;5;241m=\u001b[39m np\u001b[38;5;241m.\u001b[39matleast_1d(fun(x, \u001b[38;5;241m*\u001b[39margs, \u001b[38;5;241m*\u001b[39m\u001b[38;5;241m*\u001b[39mkwargs))\n\u001b[1;32m    471\u001b[0m \u001b[38;5;28;01mif\u001b[39;00m f\u001b[38;5;241m.\u001b[39mndim \u001b[38;5;241m>\u001b[39m \u001b[38;5;241m1\u001b[39m:\n\u001b[1;32m    472\u001b[0m     \u001b[38;5;28;01mraise\u001b[39;00m \u001b[38;5;167;01mRuntimeError\u001b[39;00m(\u001b[38;5;124m\"\u001b[39m\u001b[38;5;124m`fun` return value has \u001b[39m\u001b[38;5;124m\"\u001b[39m\n\u001b[1;32m    473\u001b[0m                        \u001b[38;5;124m\"\u001b[39m\u001b[38;5;124mmore than 1 dimension.\u001b[39m\u001b[38;5;124m\"\u001b[39m)\n",
      "File \u001b[0;32m/data/khan/miniconda3/envs/qiskit/lib/python3.12/site-packages/scipy/optimize/_differentiable_functions.py:145\u001b[0m, in \u001b[0;36mScalarFunction.__init__.<locals>.fun_wrapped\u001b[0;34m(x)\u001b[0m\n\u001b[1;32m    141\u001b[0m \u001b[38;5;28mself\u001b[39m\u001b[38;5;241m.\u001b[39mnfev \u001b[38;5;241m+\u001b[39m\u001b[38;5;241m=\u001b[39m \u001b[38;5;241m1\u001b[39m\n\u001b[1;32m    142\u001b[0m \u001b[38;5;66;03m# Send a copy because the user may overwrite it.\u001b[39;00m\n\u001b[1;32m    143\u001b[0m \u001b[38;5;66;03m# Overwriting results in undefined behaviour because\u001b[39;00m\n\u001b[1;32m    144\u001b[0m \u001b[38;5;66;03m# fun(self.x) will change self.x, with the two no longer linked.\u001b[39;00m\n\u001b[0;32m--> 145\u001b[0m fx \u001b[38;5;241m=\u001b[39m fun(np\u001b[38;5;241m.\u001b[39mcopy(x), \u001b[38;5;241m*\u001b[39margs)\n\u001b[1;32m    146\u001b[0m \u001b[38;5;66;03m# Make sure the function returns a true scalar\u001b[39;00m\n\u001b[1;32m    147\u001b[0m \u001b[38;5;28;01mif\u001b[39;00m \u001b[38;5;129;01mnot\u001b[39;00m np\u001b[38;5;241m.\u001b[39misscalar(fx):\n",
      "Cell \u001b[0;32mIn[10], line 15\u001b[0m, in \u001b[0;36mcost_func_vqd\u001b[0;34m(parameters, U_T, ansatz, prev_states, step, betas, estimator, hamiltonian, sign)\u001b[0m\n\u001b[1;32m     13\u001b[0m circuit \u001b[38;5;241m=\u001b[39m ansatz\u001b[38;5;241m.\u001b[39mcompose(U_T)\n\u001b[1;32m     14\u001b[0m circuit\u001b[38;5;241m.\u001b[39mcompose(ansatz\u001b[38;5;241m.\u001b[39minverse(),inplace\u001b[38;5;241m=\u001b[39m\u001b[38;5;28;01mTrue\u001b[39;00m)\n\u001b[0;32m---> 15\u001b[0m estimator_job \u001b[38;5;241m=\u001b[39m estimator\u001b[38;5;241m.\u001b[39mrun([(circuit, hamiltonian, [parameters])])\n\u001b[1;32m     17\u001b[0m total_cost \u001b[38;5;241m=\u001b[39m \u001b[38;5;241m0\u001b[39m\n\u001b[1;32m     19\u001b[0m \u001b[38;5;28;01mif\u001b[39;00m step \u001b[38;5;241m>\u001b[39m \u001b[38;5;241m1\u001b[39m:\n",
      "File \u001b[0;32m/data/khan/miniconda3/envs/qiskit/lib/python3.12/site-packages/qiskit/primitives/statevector_estimator.py:135\u001b[0m, in \u001b[0;36mStatevectorEstimator.run\u001b[0;34m(self, pubs, precision)\u001b[0m\n\u001b[1;32m    132\u001b[0m coerced_pubs \u001b[38;5;241m=\u001b[39m [EstimatorPub\u001b[38;5;241m.\u001b[39mcoerce(pub, precision) \u001b[38;5;28;01mfor\u001b[39;00m pub \u001b[38;5;129;01min\u001b[39;00m pubs]\n\u001b[1;32m    134\u001b[0m job \u001b[38;5;241m=\u001b[39m PrimitiveJob(\u001b[38;5;28mself\u001b[39m\u001b[38;5;241m.\u001b[39m_run, coerced_pubs)\n\u001b[0;32m--> 135\u001b[0m job\u001b[38;5;241m.\u001b[39m_submit()\n\u001b[1;32m    136\u001b[0m \u001b[38;5;28;01mreturn\u001b[39;00m job\n",
      "File \u001b[0;32m/data/khan/miniconda3/envs/qiskit/lib/python3.12/site-packages/qiskit/primitives/primitive_job.py:46\u001b[0m, in \u001b[0;36mPrimitiveJob._submit\u001b[0;34m(self)\u001b[0m\n\u001b[1;32m     43\u001b[0m     \u001b[38;5;28;01mraise\u001b[39;00m JobError(\u001b[38;5;124m\"\u001b[39m\u001b[38;5;124mPrimitive job has been submitted already.\u001b[39m\u001b[38;5;124m\"\u001b[39m)\n\u001b[1;32m     45\u001b[0m executor \u001b[38;5;241m=\u001b[39m ThreadPoolExecutor(max_workers\u001b[38;5;241m=\u001b[39m\u001b[38;5;241m1\u001b[39m)  \u001b[38;5;66;03m# pylint: disable=consider-using-with\u001b[39;00m\n\u001b[0;32m---> 46\u001b[0m \u001b[38;5;28mself\u001b[39m\u001b[38;5;241m.\u001b[39m_future \u001b[38;5;241m=\u001b[39m executor\u001b[38;5;241m.\u001b[39msubmit(\u001b[38;5;28mself\u001b[39m\u001b[38;5;241m.\u001b[39m_function, \u001b[38;5;241m*\u001b[39m\u001b[38;5;28mself\u001b[39m\u001b[38;5;241m.\u001b[39m_args, \u001b[38;5;241m*\u001b[39m\u001b[38;5;241m*\u001b[39m\u001b[38;5;28mself\u001b[39m\u001b[38;5;241m.\u001b[39m_kwargs)\n\u001b[1;32m     47\u001b[0m executor\u001b[38;5;241m.\u001b[39mshutdown(wait\u001b[38;5;241m=\u001b[39m\u001b[38;5;28;01mFalse\u001b[39;00m)\n",
      "File \u001b[0;32m/data/khan/miniconda3/envs/qiskit/lib/python3.12/concurrent/futures/thread.py:179\u001b[0m, in \u001b[0;36mThreadPoolExecutor.submit\u001b[0;34m(self, fn, *args, **kwargs)\u001b[0m\n\u001b[1;32m    176\u001b[0m w \u001b[38;5;241m=\u001b[39m _WorkItem(f, fn, args, kwargs)\n\u001b[1;32m    178\u001b[0m \u001b[38;5;28mself\u001b[39m\u001b[38;5;241m.\u001b[39m_work_queue\u001b[38;5;241m.\u001b[39mput(w)\n\u001b[0;32m--> 179\u001b[0m \u001b[38;5;28mself\u001b[39m\u001b[38;5;241m.\u001b[39m_adjust_thread_count()\n\u001b[1;32m    180\u001b[0m \u001b[38;5;28;01mreturn\u001b[39;00m f\n",
      "File \u001b[0;32m/data/khan/miniconda3/envs/qiskit/lib/python3.12/concurrent/futures/thread.py:202\u001b[0m, in \u001b[0;36mThreadPoolExecutor._adjust_thread_count\u001b[0;34m(self)\u001b[0m\n\u001b[1;32m    195\u001b[0m thread_name \u001b[38;5;241m=\u001b[39m \u001b[38;5;124m'\u001b[39m\u001b[38;5;132;01m%s\u001b[39;00m\u001b[38;5;124m_\u001b[39m\u001b[38;5;132;01m%d\u001b[39;00m\u001b[38;5;124m'\u001b[39m \u001b[38;5;241m%\u001b[39m (\u001b[38;5;28mself\u001b[39m\u001b[38;5;241m.\u001b[39m_thread_name_prefix \u001b[38;5;129;01mor\u001b[39;00m \u001b[38;5;28mself\u001b[39m,\n\u001b[1;32m    196\u001b[0m                          num_threads)\n\u001b[1;32m    197\u001b[0m t \u001b[38;5;241m=\u001b[39m threading\u001b[38;5;241m.\u001b[39mThread(name\u001b[38;5;241m=\u001b[39mthread_name, target\u001b[38;5;241m=\u001b[39m_worker,\n\u001b[1;32m    198\u001b[0m                      args\u001b[38;5;241m=\u001b[39m(weakref\u001b[38;5;241m.\u001b[39mref(\u001b[38;5;28mself\u001b[39m, weakref_cb),\n\u001b[1;32m    199\u001b[0m                            \u001b[38;5;28mself\u001b[39m\u001b[38;5;241m.\u001b[39m_work_queue,\n\u001b[1;32m    200\u001b[0m                            \u001b[38;5;28mself\u001b[39m\u001b[38;5;241m.\u001b[39m_initializer,\n\u001b[1;32m    201\u001b[0m                            \u001b[38;5;28mself\u001b[39m\u001b[38;5;241m.\u001b[39m_initargs))\n\u001b[0;32m--> 202\u001b[0m t\u001b[38;5;241m.\u001b[39mstart()\n\u001b[1;32m    203\u001b[0m \u001b[38;5;28mself\u001b[39m\u001b[38;5;241m.\u001b[39m_threads\u001b[38;5;241m.\u001b[39madd(t)\n\u001b[1;32m    204\u001b[0m _threads_queues[t] \u001b[38;5;241m=\u001b[39m \u001b[38;5;28mself\u001b[39m\u001b[38;5;241m.\u001b[39m_work_queue\n",
      "File \u001b[0;32m/data/khan/miniconda3/envs/qiskit/lib/python3.12/threading.py:997\u001b[0m, in \u001b[0;36mThread.start\u001b[0;34m(self)\u001b[0m\n\u001b[1;32m    995\u001b[0m         \u001b[38;5;28;01mdel\u001b[39;00m _limbo[\u001b[38;5;28mself\u001b[39m]\n\u001b[1;32m    996\u001b[0m     \u001b[38;5;28;01mraise\u001b[39;00m\n\u001b[0;32m--> 997\u001b[0m \u001b[38;5;28mself\u001b[39m\u001b[38;5;241m.\u001b[39m_started\u001b[38;5;241m.\u001b[39mwait()\n",
      "File \u001b[0;32m/data/khan/miniconda3/envs/qiskit/lib/python3.12/threading.py:655\u001b[0m, in \u001b[0;36mEvent.wait\u001b[0;34m(self, timeout)\u001b[0m\n\u001b[1;32m    653\u001b[0m signaled \u001b[38;5;241m=\u001b[39m \u001b[38;5;28mself\u001b[39m\u001b[38;5;241m.\u001b[39m_flag\n\u001b[1;32m    654\u001b[0m \u001b[38;5;28;01mif\u001b[39;00m \u001b[38;5;129;01mnot\u001b[39;00m signaled:\n\u001b[0;32m--> 655\u001b[0m     signaled \u001b[38;5;241m=\u001b[39m \u001b[38;5;28mself\u001b[39m\u001b[38;5;241m.\u001b[39m_cond\u001b[38;5;241m.\u001b[39mwait(timeout)\n\u001b[1;32m    656\u001b[0m \u001b[38;5;28;01mreturn\u001b[39;00m signaled\n",
      "File \u001b[0;32m/data/khan/miniconda3/envs/qiskit/lib/python3.12/threading.py:355\u001b[0m, in \u001b[0;36mCondition.wait\u001b[0;34m(self, timeout)\u001b[0m\n\u001b[1;32m    353\u001b[0m \u001b[38;5;28;01mtry\u001b[39;00m:    \u001b[38;5;66;03m# restore state no matter what (e.g., KeyboardInterrupt)\u001b[39;00m\n\u001b[1;32m    354\u001b[0m     \u001b[38;5;28;01mif\u001b[39;00m timeout \u001b[38;5;129;01mis\u001b[39;00m \u001b[38;5;28;01mNone\u001b[39;00m:\n\u001b[0;32m--> 355\u001b[0m         waiter\u001b[38;5;241m.\u001b[39macquire()\n\u001b[1;32m    356\u001b[0m         gotit \u001b[38;5;241m=\u001b[39m \u001b[38;5;28;01mTrue\u001b[39;00m\n\u001b[1;32m    357\u001b[0m     \u001b[38;5;28;01melse\u001b[39;00m:\n",
      "\u001b[0;31mKeyboardInterrupt\u001b[0m: "
     ]
    }
   ],
   "source": [
    "from qiskit.quantum_info import SparsePauliOp, Statevector, Operator, Pauli\n",
    "from qiskit import QuantumCircuit\n",
    "from qiskit.circuit.library import HamiltonianGate, UGate\n",
    "from scipy.optimize import minimize\n",
    "import time\n",
    "\n",
    "# j = 1\n",
    "\n",
    "\n",
    "\n",
    "A_Array = np.linspace(0,4,8)\n",
    "\n",
    "U_T = unitary_time_evolver(hamiltonian_circular)\n",
    "\n",
    "matrix = np.zeros((2**chain_length, 2**chain_length))\n",
    "matrix[0,0] = 1\n",
    "observable = SparsePauliOp.from_operator(matrix)\n",
    "ground_states = []\n",
    "excited_states = [] \n",
    "costs = []\n",
    "\n",
    "layers = range(1,4)\n",
    "\n",
    "t0 = time.perf_counter()\n",
    "for num_layers in layers:\n",
    "\n",
    "    parameter_space_size = 2 * chain_length + 3 * chain_length * num_layers\n",
    "    param_space = ParameterVector('θ', parameter_space_size)\n",
    "\n",
    "    k = 2**chain_length\n",
    "    betas = [5]*k\n",
    "    x0 = np.random.uniform(-np.pi, np.pi, size=parameter_space_size)\n",
    "    \n",
    "    \n",
    "\n",
    "    ansatz = QuantumCircuit(chain_length)\n",
    "    create_ansatz_circuit(ansatz, num_layers, param_space)\n",
    "    \n",
    "    \n",
    "    \n",
    "    prev_states = []\n",
    "    prev_opt_parameters = []\n",
    "    eigenvalues = []\n",
    "    ϵ2 = 0\n",
    "\n",
    "\n",
    "# try:\n",
    "    for step in range(1, k + 1):\n",
    "        \n",
    "        result = minimize(cost_func_vqd, x0, args=(U_T, ansatz, prev_states, step, betas, estimator, observable), method=\"bfgs\")\n",
    "        \n",
    "        \n",
    "        prev_opt_parameters = result.x\n",
    "        \n",
    "\n",
    "        # floquet_mode = Statevector.from_instruction(ansatz.assign_parameters(prev_opt_parameters))\n",
    "        \n",
    "        # eigenvalues.append(-np.angle(floquet_mode.expectation_value(U_T))/T)\n",
    "        \n",
    "        # prev_states.append(ansatz.assign_parameters(prev_opt_parameters))\n",
    "\n",
    "        # costs.append(-result.fun)\n",
    "        ϵ2 += convergence_parameter(ansatz, prev_opt_parameters, U_T, observable, estimator)\n",
    "    \n",
    "    costs.append(ϵ2**.5)\n",
    "\n",
    "# except Exception as e:\n",
    "#     print(e)\n",
    "# costs = np.array(costs).reshape(8,2)\n",
    "\n",
    "t1 = time.perf_counter()"
   ]
  },
  {
   "cell_type": "markdown",
   "id": "e8127f99-5ea9-41be-925f-66ae92b8d63f",
   "metadata": {},
   "source": [
    "#### Plotter"
   ]
  },
  {
   "cell_type": "code",
   "execution_count": null,
   "id": "8e9e1735-55c6-40f3-b385-461f070261d8",
   "metadata": {},
   "outputs": [],
   "source": [
    "import matplotlib.pyplot as plt\n",
    "plt.plot(layers, costs)\n",
    "plt.show()"
   ]
  },
  {
   "cell_type": "code",
   "execution_count": null,
   "id": "471248d9-190f-4500-94f0-4c84abc2e709",
   "metadata": {},
   "outputs": [],
   "source": []
  }
 ],
 "metadata": {
  "kernelspec": {
   "display_name": "Python 3 (ipykernel)",
   "language": "python",
   "name": "python3"
  },
  "language_info": {
   "codemirror_mode": {
    "name": "ipython",
    "version": 3
   },
   "file_extension": ".py",
   "mimetype": "text/x-python",
   "name": "python",
   "nbconvert_exporter": "python",
   "pygments_lexer": "ipython3",
   "version": "3.12.3"
  }
 },
 "nbformat": 4,
 "nbformat_minor": 5
}
