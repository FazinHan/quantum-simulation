{
 "cells": [
  {
   "cell_type": "markdown",
   "id": "cc1de3d6-4a62-46c2-a940-f002a9bc3aa6",
   "metadata": {},
   "source": [
    "### Parameters"
   ]
  },
  {
   "cell_type": "code",
   "execution_count": 1,
   "id": "8953167e-4e0e-4629-84f9-94fbf605b7ac",
   "metadata": {},
   "outputs": [],
   "source": [
    "Ω = 2.5\n",
    "\n",
    "h_cut = 1"
   ]
  },
  {
   "cell_type": "code",
   "execution_count": 2,
   "id": "633fc5f3-a597-4646-92c2-e4d0c3e9f441",
   "metadata": {},
   "outputs": [],
   "source": [
    "import numpy as np\n",
    "\n",
    "num_layers = 2\n",
    "num_periods = 1\n",
    "num_time_steps = 100\n",
    "T = num_periods * 2*np.pi/Ω\n",
    "dt = T / num_time_steps"
   ]
  },
  {
   "cell_type": "code",
   "execution_count": 3,
   "id": "915acddf-4e18-41de-a6a4-6b31e03e878f",
   "metadata": {},
   "outputs": [],
   "source": [
    "from qiskit.circuit import ParameterVector, Parameter\n",
    "\n",
    "cost_threshold = 1e-3"
   ]
  },
  {
   "cell_type": "markdown",
   "id": "d056b113-fda4-4e3c-be55-39311cca20db",
   "metadata": {},
   "source": [
    "### Functions"
   ]
  },
  {
   "cell_type": "markdown",
   "id": "5cbf1ef4-5f96-489a-8c2b-6750dada1aee",
   "metadata": {
    "jp-MarkdownHeadingCollapsed": true
   },
   "source": [
    "#### QFT and QFT$^\\dagger$"
   ]
  },
  {
   "cell_type": "code",
   "execution_count": 4,
   "id": "08620553-2ab5-4218-9a7a-bef7d4ed5fe6",
   "metadata": {
    "tags": []
   },
   "outputs": [],
   "source": [
    "#QFT Circuit\n",
    "def qft(n):\n",
    "    \"\"\"Creates an n-qubit QFT circuit\"\"\"\n",
    "    circuit = QuantumCircuit(n)\n",
    "    def swap_registers(circuit, n):\n",
    "        for qubit in range(n//2):\n",
    "            circuit.swap(qubit, n-qubit-1)\n",
    "        return circuit\n",
    "    def qft_rotations(circuit, n):\n",
    "        \"\"\"Performs qft on the first n qubits in circuit (without swaps)\"\"\"\n",
    "        if n == 0:\n",
    "            return circuit\n",
    "        n -= 1\n",
    "        circuit.h(n)\n",
    "        for qubit in range(n):\n",
    "            circuit.cp(np.pi/2**(n-qubit), qubit, n)\n",
    "        qft_rotations(circuit, n)\n",
    "    \n",
    "    qft_rotations(circuit, n)\n",
    "    swap_registers(circuit, n)\n",
    "    return circuit\n",
    "\n",
    "#Inverse Quantum Fourier Transform\n",
    "def qft_dagger(qc, n):\n",
    "    \"\"\"n-qubit QFTdagger the first n qubits in circ\"\"\"\n",
    "    # Don't forget the Swaps!\n",
    "    for qubit in range(n//2):\n",
    "        qc.swap(qubit, n-qubit-1)\n",
    "    for j in range(n):\n",
    "        for m in range(j):\n",
    "            qc.cp(-np.pi/float(2**(j-m)), m, j)\n",
    "        qc.h(j)\n",
    "    return qc"
   ]
  },
  {
   "cell_type": "markdown",
   "id": "ad56633d-d588-4b8d-a830-781b9d9c0094",
   "metadata": {},
   "source": [
    "#### Ansatz creator for spin chain"
   ]
  },
  {
   "cell_type": "code",
   "execution_count": 5,
   "id": "f8a95b43-7c2d-4533-9136-1100e25a9b62",
   "metadata": {},
   "outputs": [],
   "source": [
    "def create_ansatz_circuit(qc, num_layers, param_space):\n",
    "    param_counter = -1\n",
    "    def ansatz_circuit_0(qc, param_space, param_counter=0):\n",
    "        print('Number of params:',parameter_space_size)\n",
    "        # layer 0\n",
    "        # param_counter=0\n",
    "        for i in range(qc.num_qubits):\n",
    "            qc.rx(param_space[param_counter:=param_counter+1],i)\n",
    "            qc.rz(param_space[param_counter:=param_counter+1],i)\n",
    "        return param_counter\n",
    "    def ansatz_circuit_1(qc, param_space, param_counter=0):\n",
    "        # param_counter = 2 * chain_length\n",
    "        for i in range(qc.num_qubits-1):\n",
    "            qc.cx(i,i+1)\n",
    "        qc.cx(-1,0)\n",
    "        for i in range(qc.num_qubits):\n",
    "            qc.rz(param_space[param_counter:=param_counter+1],i)\n",
    "            qc.rx(param_space[param_counter:=param_counter+1],i)\n",
    "            qc.rz(param_space[param_counter:=param_counter+1],i)\n",
    "        return param_counter\n",
    "    param_counter = ansatz_circuit_0(qc, param_space, param_counter)\n",
    "    for i in range(num_layers):\n",
    "        param_counter = ansatz_circuit_1(qc, param_space, param_counter)\n",
    "    # display(qc.draw('mpl'))"
   ]
  },
  {
   "cell_type": "markdown",
   "id": "d9411e77-6e25-41a0-92d5-d5a85eb82c91",
   "metadata": {},
   "source": [
    "#### Ansatz creator for spin ladder"
   ]
  },
  {
   "cell_type": "code",
   "execution_count": 6,
   "id": "6107a459-9336-40a2-8bfb-4c30ed2a8389",
   "metadata": {},
   "outputs": [],
   "source": [
    "def ansatz_circuit_ladder(qc, param_space, layers, omit_ratio):\n",
    "    counter = 0\n",
    "    def layer(qc, params, param_counter):\n",
    "        for i in range(qc.num_qubits):\n",
    "            qc.rx(params[param_counter],i)\n",
    "            param_counter += 1\n",
    "            qc.rz(params[param_counter],i)\n",
    "            param_counter += 1\n",
    "        return param_counter\n",
    "    def entangle(qc, params, param_counter, double_entangle):\n",
    "        for i in range(qc.num_qubits//2):\n",
    "            qc.rzz(params[param_counter], 2*i, 2*i+1)\n",
    "            param_counter += 1\n",
    "        if double_entangle:\n",
    "            for i in range((qc.num_qubits-1)//2):\n",
    "                qc.rzz(params[param_counter], 2*i+1, 2*i+2)\n",
    "                param_counter += 1\n",
    "        return param_counter\n",
    "    fra = Fraction(omit_ratio).limit_denominator()\n",
    "    # print(fra)\n",
    "    for layer_count in range(layers):\n",
    "        counter = layer(qc, param_space, counter)\n",
    "        counter = entangle(qc, param_space, counter, double_entangle=(layer_count%fra.denominator<fra.numerator))\n",
    "        qc.barrier()\n",
    "    # display(qc.draw('mpl'))\n",
    "    # return counter"
   ]
  },
  {
   "cell_type": "markdown",
   "id": "12a6a7e9-ea14-4b64-a237-7bb793801ce6",
   "metadata": {},
   "source": [
    "#### Hamiltonians"
   ]
  },
  {
   "cell_type": "code",
   "execution_count": 7,
   "id": "86d009ab-fb10-462b-acae-24434c34ee8d",
   "metadata": {},
   "outputs": [],
   "source": [
    "def hamiltonian_circular(t, A=2, J=1, omega=Ω):\n",
    "    creator = ['I']*chain_length\n",
    "    paulis = ['I','X','Y','Z']\n",
    "    ham = [] # [('X',1.0)]\n",
    "    for i in range(chain_length-1):\n",
    "        for j in range(1,4):\n",
    "            op = creator[:]\n",
    "            op[i] = paulis[j]\n",
    "            op[i+1] = paulis[j]\n",
    "            ham.append([''.join(op), -J/4])\n",
    "    for i in range(chain_length):\n",
    "        op1, op2 = creator[:], creator[:]\n",
    "        op1[i] = 'X'\n",
    "        op2[i] = 'Y'\n",
    "        ham.append([''.join(op1), A * np.cos(omega*t)])\n",
    "        ham.append([''.join(op2), A * np.sin(omega*t)])\n",
    "    ham = np.array(ham)\n",
    "    # print(A * np.cos(Ω*t))\n",
    "    return SparsePauliOp(ham[:,0], ham[:,1])\n",
    "\n",
    "def hamiltonian_linear(t, A, Δ=1, omega=Ω):\n",
    "    ham = SparsePauliOp(['Z','X'] , [-Δ/2, A/2*np.cos(omega*t)])\n",
    "    # plt.plot(t, A*np.cos(Ω*t)/2,'.')\n",
    "    return ham\n",
    "\n",
    "def hamiltonian():\n",
    "    pass"
   ]
  },
  {
   "cell_type": "markdown",
   "id": "343c38dd-1d8a-4047-b5f3-9593a73e61f1",
   "metadata": {},
   "source": [
    "#### Unitary time evolution"
   ]
  },
  {
   "cell_type": "code",
   "execution_count": 8,
   "id": "735eb1fa-5606-49e5-b628-70288b39f3bf",
   "metadata": {},
   "outputs": [],
   "source": [
    "def unitary_time_evolver(ham, *args, num_qbits, time=T, dt=dt):#num_steps=num_time_steps):\n",
    "\n",
    "    circuit = QuantumCircuit(num_qbits)\n",
    "    \n",
    "    for i in range(1, int(time/dt)+1):\n",
    "        circuit.compose(HamiltonianGate(ham(i*dt, *args), time=dt), inplace=True)\n",
    "        # print(Operator(HamiltonianGate(ham(i*dt, *args), time=dt)).is_unitary())\n",
    "    \n",
    "    return circuit"
   ]
  },
  {
   "cell_type": "markdown",
   "id": "54b177b9-dba0-4160-becb-1a9794c19fbd",
   "metadata": {},
   "source": [
    "### From qiskit docs"
   ]
  },
  {
   "cell_type": "markdown",
   "id": "23505198-0b83-474b-ae7f-5b7ddaf23ee0",
   "metadata": {},
   "source": [
    "First, we'll setup a function that calculates the state fidelity -- a percentage of overlap between two states that we'll use as a penalty for VQD:\n",
    "\n",
    "wtf is this"
   ]
  },
  {
   "cell_type": "code",
   "execution_count": 9,
   "id": "fbea4eaf-ec36-44f5-b086-eceee666853b",
   "metadata": {},
   "outputs": [],
   "source": [
    "import numpy as np\n",
    "\n",
    "def calculate_overlaps(ansatz, prev_circuits, parameters, estimator):\n",
    "\n",
    "    def create_fidelity_circuit(circuit_1, circuit_2):\n",
    "\n",
    "        \"\"\"\n",
    "        Constructs the list of fidelity circuits to be evaluated.\n",
    "        These circuits represent the state overlap between pairs of input circuits,\n",
    "        and their construction depends on the fidelity method implementations.\n",
    "        \"\"\"\n",
    "                \n",
    "        if len(circuit_1.clbits) > 0:\n",
    "            circuit_1.remove_final_measurements()\n",
    "        if len(circuit_2.clbits) > 0:\n",
    "            circuit_2.remove_final_measurements()\n",
    "\n",
    "        circuit = circuit_1.compose(circuit_2.inverse())\n",
    "        # circuit.measure_all()\n",
    "        return circuit\n",
    "    overlaps = []\n",
    "\n",
    "    matrix = np.zeros((2**ansatz.num_qubits,2**ansatz.num_qubits))\n",
    "    matrix[0,0] = 1\n",
    "    observable = SparsePauliOp.from_operator(matrix)\n",
    "\n",
    "    for prev_circuit in prev_circuits:\n",
    "        fidelity_circuit = create_fidelity_circuit(ansatz, prev_circuit)\n",
    "        estimator_job = estimator.run([(fidelity_circuit, observable, [parameters])])\n",
    "        estimator_result = estimator_job.result()[0]\n",
    "        value = estimator_result.data.evs[0]\n",
    "        \n",
    "        overlaps.append(value)\n",
    "    \n",
    "    return np.array(overlaps)"
   ]
  },
  {
   "cell_type": "markdown",
   "id": "456b9e0e-3d70-4e77-ab64-d1d9b484a37a",
   "metadata": {},
   "source": [
    "It's time to write VQD's cost function:"
   ]
  },
  {
   "cell_type": "markdown",
   "id": "0a2c7a1c-815f-45b4-b137-e400ba9e4579",
   "metadata": {},
   "source": [
    "#### Cost function"
   ]
  },
  {
   "cell_type": "code",
   "execution_count": 10,
   "id": "87a5a6aa-a37d-4d07-9dd9-1eaac67a3ae5",
   "metadata": {},
   "outputs": [],
   "source": [
    "import numpy as np\n",
    "\n",
    "def cost_func_vqd(parameters, U_T, ansatz, prev_states, step, betas, estimator, hamiltonian, sign=-1):\n",
    "\n",
    "    '''\n",
    "    Estimates <ψ|H|ψ> - λ Σ |<0|(U_θβ†)(U_θ)|0>|²\n",
    "\n",
    "    Where:\n",
    "    H = observable\n",
    "    |ψ> = (U_θ†)(U_T)(U_θ)|0>\n",
    "    '''\n",
    "\n",
    "    circuit = ansatz.compose(U_T)\n",
    "    circuit.compose(ansatz.inverse(),inplace=True)\n",
    "    estimator_job = estimator.run([(circuit, hamiltonian, [parameters])])\n",
    "\n",
    "    total_cost = 0\n",
    "\n",
    "    if step > 1:\n",
    "        overlaps = calculate_overlaps(ansatz, prev_states, parameters, estimator)\n",
    "        total_cost = np.sum([np.real(betas[state] * overlap**2) for state, overlap in enumerate(overlaps)])\n",
    "\n",
    "    estimator_result = estimator_job.result()[0]\n",
    "\n",
    "    value = estimator_result.data.evs[0] - total_cost\n",
    "\n",
    "    return value*sign"
   ]
  },
  {
   "cell_type": "markdown",
   "id": "9b66e9ab-38c4-4667-a085-57b63d11f5ce",
   "metadata": {},
   "source": [
    "### Linear Driver code (suppressed)"
   ]
  },
  {
   "cell_type": "code",
   "execution_count": 11,
   "id": "8f963b71-9b98-4ea7-b2e3-66c82b891f30",
   "metadata": {},
   "outputs": [],
   "source": [
    "from qiskit.primitives import StatevectorSampler as Sampler\n",
    "from qiskit.primitives import StatevectorEstimator as Estimator\n",
    "estimator = Estimator()"
   ]
  },
  {
   "cell_type": "code",
   "execution_count": 12,
   "id": "f3cf34fa-9cf2-445e-a129-bb0c18af3f05",
   "metadata": {},
   "outputs": [],
   "source": [
    "# from qiskit.quantum_info import SparsePauliOp, Statevector, Operator, Pauli\n",
    "# from qiskit import QuantumCircuit\n",
    "# from qiskit.circuit.library import HamiltonianGate, UGate\n",
    "# from scipy.optimize import minimize\n",
    "# from optimparallel import minimize_parallel\n",
    "# import time\n",
    "\n",
    "# # j = 1\n",
    "\n",
    "# k = 2**1\n",
    "# betas = [5]*k\n",
    "# x0 = np.random.uniform(-np.pi, np.pi, size=3)\n",
    "\n",
    "# A_Array = np.linspace(0,4,8)\n",
    "\n",
    "# def evolver_gen():\n",
    "#     for A in A_Array:\n",
    "#         yield unitary_time_evolver(hamiltonian_linear, A*Ω, num_qbits=1)\n",
    "\n",
    "# matrix = np.array([[1,0],[0,0]])\n",
    "# observable = SparsePauliOp.from_operator(matrix)\n",
    "# ground_states = []\n",
    "# excited_states = [] \n",
    "# costs = []\n",
    "\n",
    "# t0p = time.perf_counter()\n",
    "# for U_T in evolver_gen():\n",
    "\n",
    "#     ansatz = QuantumCircuit(1)\n",
    "#     theta = ParameterVector('θ',3)\n",
    "#     ansatz.u(*theta,0)\n",
    "    \n",
    "    \n",
    "#     prev_states = []\n",
    "#     prev_opt_parameters = []\n",
    "#     eigenvalues = []\n",
    "\n",
    "\n",
    "# # try:\n",
    "#     for step in range(1, k + 1):\n",
    "        \n",
    "#         result = minimize_parallel(cost_func_vqd, x0, args=(U_T, ansatz, prev_states, step, betas, estimator, observable))#, method=\"bfgs\")\n",
    "        \n",
    "#         prev_opt_parameters = result.x\n",
    "        \n",
    "#         ### Computes expectation value of optimised circuit\n",
    "\n",
    "#         floquet_mode = Statevector.from_instruction(ansatz.assign_parameters(prev_opt_parameters))\n",
    "        \n",
    "#         eigenvalues.append(-np.angle(floquet_mode.expectation_value(U_T))/T)\n",
    "        \n",
    "#         prev_states.append(ansatz.assign_parameters(prev_opt_parameters))\n",
    "\n",
    "#         costs.append(-result.fun)\n",
    "    \n",
    "#     eigenvalues = np.array(eigenvalues)/Ω\n",
    "#     eigenvalues.sort()\n",
    "#     # print(eigenvalues.shape)\n",
    "#     ground_states.append(eigenvalues[0])\n",
    "#     excited_states.append(eigenvalues[1])\n",
    "\n",
    "# # except Exception as e:\n",
    "# #     print(e)\n",
    "# costs = np.array(costs).reshape(8,2)\n",
    "\n",
    "# t1p = time.perf_counter()"
   ]
  },
  {
   "cell_type": "code",
   "execution_count": 13,
   "id": "0f832472-5acd-4385-9cb8-2106fd2823a8",
   "metadata": {},
   "outputs": [],
   "source": [
    "# from qiskit.quantum_info import SparsePauliOp, Statevector, Operator, Pauli\n",
    "# from qiskit import QuantumCircuit\n",
    "# from qiskit.circuit.library import HamiltonianGate, UGate\n",
    "# from scipy.optimize import minimize\n",
    "# from optimparallel import minimize_parallel\n",
    "# import time\n",
    "\n",
    "# # j = 1\n",
    "\n",
    "# k = 2**1\n",
    "# betas = [5]*k\n",
    "# x0 = np.random.uniform(-np.pi, np.pi, size=3)\n",
    "\n",
    "# A_Array = np.linspace(0,4,8)\n",
    "\n",
    "# def evolver_gen():\n",
    "#     for A in A_Array:\n",
    "#         yield unitary_time_evolver(hamiltonian_linear, A*Ω, num_qbits=1)\n",
    "\n",
    "# matrix = np.array([[1,0],[0,0]])\n",
    "# observable = SparsePauliOp.from_operator(matrix)\n",
    "# ground_states = []\n",
    "# excited_states = [] \n",
    "# costs = []\n",
    "\n",
    "# t0s = time.perf_counter()\n",
    "# for U_T in evolver_gen():\n",
    "\n",
    "#     ansatz = QuantumCircuit(1)\n",
    "#     theta = ParameterVector('θ',3)\n",
    "#     ansatz.u(*theta,0)\n",
    "    \n",
    "    \n",
    "#     prev_states = []\n",
    "#     prev_opt_parameters = []\n",
    "#     eigenvalues = []\n",
    "\n",
    "\n",
    "# # try:\n",
    "#     for step in range(1, k + 1):\n",
    "        \n",
    "#         result = minimize(cost_func_vqd, x0, args=(U_T, ansatz, prev_states, step, betas, estimator, observable), method=\"l-bfgs-b\")\n",
    "        \n",
    "#         prev_opt_parameters = result.x\n",
    "        \n",
    "#         ### Computes expectation value of optimised circuit\n",
    "\n",
    "#         floquet_mode = Statevector.from_instruction(ansatz.assign_parameters(prev_opt_parameters))\n",
    "        \n",
    "#         eigenvalues.append(-np.angle(floquet_mode.expectation_value(U_T))/T)\n",
    "        \n",
    "#         prev_states.append(ansatz.assign_parameters(prev_opt_parameters))\n",
    "\n",
    "#         costs.append(-result.fun)\n",
    "    \n",
    "#     eigenvalues = np.array(eigenvalues)/Ω\n",
    "#     eigenvalues.sort()\n",
    "#     # print(eigenvalues.shape)\n",
    "#     ground_states.append(eigenvalues[0])\n",
    "#     excited_states.append(eigenvalues[1])\n",
    "\n",
    "# # except Exception as e:\n",
    "# #     print(e)\n",
    "# costs = np.array(costs).reshape(8,2)\n",
    "\n",
    "# t1s = time.perf_counter()"
   ]
  },
  {
   "cell_type": "code",
   "execution_count": 14,
   "id": "8c303848-0997-47f3-b4e4-835290ed7b7a",
   "metadata": {},
   "outputs": [],
   "source": [
    "# # print(eigenvalues)\n",
    "\n",
    "# print('time taken serial: %.2f s'%(t1s-t0s))\n",
    "# ground_states=np.array(ground_states)\n",
    "# excited_states=np.array(excited_states)\n",
    "# print('time taken parallel: %.2f s'%(t1p-t0p))\n",
    "# # print(excited_states[0])"
   ]
  },
  {
   "cell_type": "markdown",
   "id": "4dccbead-bfd1-4144-9f0b-38c2aaf837b8",
   "metadata": {},
   "source": [
    "time taken serial: 20.67 s\n",
    "\n",
    "time taken parallel: 13.71 s"
   ]
  },
  {
   "cell_type": "markdown",
   "id": "384cc08b-1778-4c9d-8c36-d1d4cac1be47",
   "metadata": {},
   "source": [
    "#### Plotter"
   ]
  },
  {
   "cell_type": "code",
   "execution_count": 15,
   "id": "0d5f59d8-7711-4c4c-b9b3-ba7923f3a09a",
   "metadata": {},
   "outputs": [],
   "source": [
    "# import matplotlib.pyplot as plt\n",
    "# import os\n",
    "# num = 1\n",
    "# while os.path.isfile(f'.//outputs//figure{num}.png'):\n",
    "#     num += 1\n",
    "\n",
    "# plt.plot(A_Array, ground_states.real,'b.')\n",
    "# plt.plot(A_Array, excited_states.real,'r.')\n",
    "# plt.grid()\n",
    "# plt.xlabel('$A/\\\\Omega$')\n",
    "# plt.ylabel('$\\\\epsilon/\\\\Omega$')\n",
    "# plt.title('Initial guess: {}'.format(x0))\n",
    "# # plt.savefig(f'.//outputs//figure{num}.png')"
   ]
  },
  {
   "cell_type": "markdown",
   "id": "2784be1f-3a53-4be4-ab04-97828bde3265",
   "metadata": {},
   "source": [
    "#### Plotting the cost function"
   ]
  },
  {
   "cell_type": "code",
   "execution_count": 16,
   "id": "afab895a-149b-4b25-b9b7-4e5a9959d3d5",
   "metadata": {},
   "outputs": [],
   "source": [
    "# plt.plot(A_Array, costs[:,0],'x',label='ground states')\n",
    "# plt.plot(A_Array, costs[:,1],'.',label='excited states')\n",
    "# plt.legend()\n",
    "# plt.ylim(0,1.3)\n",
    "# plt.ylabel('$\\\\mathcal{L}(\\\\theta)$')\n",
    "# plt.xlabel('$A/\\\\Omega$')\n",
    "# plt.grid()\n",
    "# num = 1\n",
    "# while os.path.isfile(f'.//outputs//figure{num}.png'):\n",
    "#     num += 1\n",
    "# # plt.savefig(f'.//outputs//figure{num}.png')"
   ]
  },
  {
   "cell_type": "markdown",
   "id": "54485940-9dcc-4de9-a965-21a6b8e1d86b",
   "metadata": {},
   "source": [
    "### Circular Driving"
   ]
  },
  {
   "cell_type": "markdown",
   "id": "bbad957a-7c16-40d1-8692-441ccd17bd61",
   "metadata": {},
   "source": [
    "#### Convergence function"
   ]
  },
  {
   "cell_type": "code",
   "execution_count": 17,
   "id": "62071bd0-bcb1-4f71-b52a-53b854492189",
   "metadata": {},
   "outputs": [],
   "source": [
    "def convergence_parameter(ansatz, parameters, U_T):\n",
    "    circuit = ansatz.assign_parameters(parameters)\n",
    "    floquet_mode = Statevector.from_instruction(circuit)\n",
    "    value = floquet_mode.expectation_value(U_T)\n",
    "    return (1 - np.abs(value))**2"
   ]
  },
  {
   "cell_type": "markdown",
   "id": "565b06dc-77f5-46d2-a268-d311a792f978",
   "metadata": {},
   "source": [
    "#### Driver code"
   ]
  },
  {
   "cell_type": "code",
   "execution_count": 18,
   "id": "5898a7ef-c118-447a-a7e1-a54470819592",
   "metadata": {},
   "outputs": [],
   "source": [
    "# from qiskit.quantum_info import SparsePauliOp, Statevector, Operator, Pauli\n",
    "# from qiskit import QuantumCircuit\n",
    "# from qiskit.circuit.library import HamiltonianGate, UGate\n",
    "# from scipy.optimize import minimize\n",
    "# from optimparallel import minimize_parallel\n",
    "# import time\n",
    "\n",
    "# # j = 1\n",
    "\n",
    "# chain_length = 4\n",
    "\n",
    "# U_T = unitary_time_evolver(hamiltonian_circular)\n",
    "\n",
    "# matrix = np.zeros((2**chain_length, 2**chain_length))\n",
    "# matrix[0,0] = 1\n",
    "# observable = SparsePauliOp.from_operator(matrix)\n",
    "# ground_states = []\n",
    "# excited_states = [] \n",
    "# costs = []\n",
    "\n",
    "# layers = range(1,4)\n",
    "\n",
    "# t0 = time.perf_counter()\n",
    "# for num_layers in layers:\n",
    "\n",
    "#     parameter_space_size = 2 * chain_length + 3 * chain_length * num_layers\n",
    "#     param_space = ParameterVector('θ', parameter_space_size)\n",
    "\n",
    "#     k = 2**chain_length\n",
    "#     betas = [5]*k\n",
    "#     x0 = np.random.uniform(-np.pi, np.pi, size=parameter_space_size)\n",
    "    \n",
    "    \n",
    "\n",
    "#     ansatz = QuantumCircuit(chain_length)\n",
    "#     create_ansatz_circuit(ansatz, num_layers, param_space)\n",
    "    \n",
    "    \n",
    "    \n",
    "#     prev_states = []\n",
    "#     prev_opt_parameters = []\n",
    "#     eigenvalues = []\n",
    "#     ϵ2 = 0\n",
    "\n",
    "\n",
    "# # try:\n",
    "#     for step in range(1, k + 1):\n",
    "        \n",
    "#         result = minimize(cost_func_vqd, x0, args=(U_T, ansatz, prev_states, step, betas, estimator, observable), method=\"bfgs\")\n",
    "        \n",
    "        \n",
    "#         prev_opt_parameters = result.x\n",
    "        \n",
    "\n",
    "#         # floquet_mode = Statevector.from_instruction(ansatz.assign_parameters(prev_opt_parameters))\n",
    "        \n",
    "#         # eigenvalues.append(-np.angle(floquet_mode.expectation_value(U_T))/T)\n",
    "        \n",
    "#         # prev_states.append(ansatz.assign_parameters(prev_opt_parameters))\n",
    "\n",
    "#         # costs.append(-result.fun)\n",
    "#         ϵ2 += convergence_parameter(ansatz, prev_opt_parameters, U_T)\n",
    "    \n",
    "#     costs.append(ϵ2**.5)\n",
    "\n",
    "# # except Exception as e:\n",
    "# #     print(e)\n",
    "# # costs = np.array(costs).reshape(8,2)\n",
    "\n",
    "# t1 = time.perf_counter()"
   ]
  },
  {
   "cell_type": "markdown",
   "id": "e8127f99-5ea9-41be-925f-66ae92b8d63f",
   "metadata": {},
   "source": [
    "#### Plotter"
   ]
  },
  {
   "cell_type": "code",
   "execution_count": 19,
   "id": "8e9e1735-55c6-40f3-b385-461f070261d8",
   "metadata": {},
   "outputs": [
    {
     "data": {
      "image/png": "[encoded data removed]",
      "text/plain": [
       "<Figure size 640x480 with 1 Axes>"
      ]
     },
     "metadata": {},
     "output_type": "display_data"
    }
   ],
   "source": [
    "import numpy as np\n",
    "import matplotlib.pyplot as plt\n",
    "\n",
    "filepath = './outputs/data2.npz'\n",
    "\n",
    "with open(filepath,'rb') as file:\n",
    "    data = np.load(file)\n",
    "\n",
    "    layers = data['layers']\n",
    "    costs = data['costs']\n",
    "\n",
    "plt.plot(layers,costs)\n",
    "# plt.xlim(2,3)\n",
    "plt.show()"
   ]
  },
  {
   "cell_type": "markdown",
   "id": "3f9729b2-466f-4bed-b385-d0ff068f6ed3",
   "metadata": {},
   "source": [
    "### My work"
   ]
  },
  {
   "cell_type": "code",
   "execution_count": null,
   "id": "0324dad2-20c5-4062-a1fd-8f8f94832bee",
   "metadata": {},
   "outputs": [],
   "source": [
    "from qiskit.quantum_info import SparsePauliOp, Statevector, Operator, Pauli\n",
    "from qiskit import QuantumCircuit\n",
    "from qiskit.circuit.library import HamiltonianGate, UGate\n",
    "from scipy.optimize import minimize\n",
    "from optimparallel import minimize_parallel\n",
    "import time\n",
    "from fractions import Fraction\n",
    "\n",
    "# j = 1\n",
    "\n",
    "chain_length = 4\n",
    "entangle_ratio = .5\n",
    "\n",
    "U_T = unitary_time_evolver(hamiltonian_circular, num_qbits=chain_length)\n",
    "\n",
    "matrix = np.zeros((2**chain_length, 2**chain_length))\n",
    "matrix[0,0] = 1\n",
    "observable = SparsePauliOp.from_operator(matrix)\n",
    "ground_states = []\n",
    "excited_states = [] \n",
    "costs = []\n",
    "\n",
    "layers = range(7,8)\n",
    "\n",
    "t0 = time.perf_counter()\n",
    "for num_layers in layers:\n",
    "\n",
    "    # print(parameter_space_size2)\n",
    "    # param_space2 = ParameterVector('test', 100)\n",
    "    \n",
    "    # parameter_space_size2 = ansatz_circuit_ladder(QuantumCircuit(chain_length), param_space2, num_layers, entangle_ratio)\n",
    "    \n",
    "    param_space2 = ParameterVector('test', 200)\n",
    "    \n",
    "    ansatz = QuantumCircuit(chain_length)\n",
    "    # print(num_layers)\n",
    "    ansatz_circuit_ladder(ansatz, param_space2, num_layers, entangle_ratio)\n",
    "    parameter_space_size2 = len(ansatz.parameters)\n",
    "    \n",
    "    param_space2 = ParameterVector('θ', parameter_space_size2)\n",
    "    \n",
    "    k = 2**chain_length\n",
    "    betas = [5]*k\n",
    "    x0 = np.zeros(parameter_space_size2)\n",
    "\n",
    "    ansatz.assign_parameters(param_space2)\n",
    "    # print(parameter_space_size2)\n",
    "    # break\n",
    "    \n",
    "    \n",
    "    \n",
    "    prev_states = []\n",
    "    prev_opt_parameters = []\n",
    "    eigenvalues = []\n",
    "    ϵ2 = 0\n",
    "\n",
    "\n",
    "# try:\n",
    "    for step in range(1, k + 1):\n",
    "        \n",
    "        result = minimize_parallel(cost_func_vqd, x0, args=(U_T, ansatz, prev_states, step, betas, estimator, observable))#, method=\"bfgs\")\n",
    "        \n",
    "        \n",
    "        prev_opt_parameters = result.x\n",
    "        \n",
    "\n",
    "        # floquet_mode = Statevector.from_instruction(ansatz.assign_parameters(prev_opt_parameters))\n",
    "        \n",
    "        # eigenvalues.append(-np.angle(floquet_mode.expectation_value(U_T))/T)\n",
    "        \n",
    "        # prev_states.append(ansatz.assign_parameters(prev_opt_parameters))\n",
    "\n",
    "        # costs.append(-result.fun)\n",
    "        ϵ2 += convergence_parameter(ansatz, prev_opt_parameters, U_T)\n",
    "    \n",
    "    costs.append(ϵ2**.5)\n",
    "\n",
    "# except Exception as e:\n",
    "#     print(e)\n",
    "# costs = np.array(costs).reshape(8,2)\n",
    "\n",
    "t1 = time.perf_counter()"
   ]
  },
  {
   "cell_type": "code",
   "execution_count": null,
   "id": "f4e7dbe0-eeaa-4c13-84b3-defa6951934c",
   "metadata": {},
   "outputs": [],
   "source": [
    "plt.plot(layers, costs)\n",
    "plt.grid()\n",
    "plt.xlabel('layers')\n",
    "plt.ylabel('$\\\\epsilon$')\n",
    "plt.show()"
   ]
  },
  {
   "cell_type": "code",
   "execution_count": null,
   "id": "a08defa9-4908-495b-ad58-eeafddf19586",
   "metadata": {},
   "outputs": [],
   "source": [
    "    try:\n",
    "        name = sys.argv[1]\n",
    "    except:\n",
    "        name = 'data'\n",
    "    \n",
    "    with open(f'./outputs/{name}.npz','wb') as file:\n",
    "        np.savez(file, layers=layers, costs=costs)\n",
    "    \n",
    "    print('time taken: {:.3f}'.format(t1-t0))"
   ]
  }
 ],
 "metadata": {
  "kernelspec": {
   "display_name": "Python 3 (ipykernel)",
   "language": "python",
   "name": "python3"
  },
  "language_info": {
   "codemirror_mode": {
    "name": "ipython",
    "version": 3
   },
   "file_extension": ".py",
   "mimetype": "text/x-python",
   "name": "python",
   "nbconvert_exporter": "python",
   "pygments_lexer": "ipython3",
   "version": "3.12.3"
  }
 },
 "nbformat": 4,
 "nbformat_minor": 5
}
