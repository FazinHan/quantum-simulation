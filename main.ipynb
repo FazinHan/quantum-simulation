{
 "cells": [
  {
   "cell_type": "markdown",
   "id": "cc1de3d6-4a62-46c2-a940-f002a9bc3aa6",
   "metadata": {},
   "source": [
    "### Parameters"
   ]
  },
  {
   "cell_type": "code",
   "execution_count": 1,
   "id": "8953167e-4e0e-4629-84f9-94fbf605b7ac",
   "metadata": {},
   "outputs": [],
   "source": [
    "chain_length = 4\n",
    "\n",
    "Ω = 2.5\n",
    "\n",
    "omit_ratio = 0"
   ]
  },
  {
   "cell_type": "code",
   "execution_count": 2,
   "id": "633fc5f3-a597-4646-92c2-e4d0c3e9f441",
   "metadata": {},
   "outputs": [],
   "source": [
    "import numpy as np\n",
    "\n",
    "num_layers = 2\n",
    "periods = 1\n",
    "num_time_steps = 150\n",
    "dt = periods / num_time_steps * 2*np.pi/Ω\n",
    "A = 0"
   ]
  },
  {
   "cell_type": "code",
   "execution_count": 3,
   "id": "915acddf-4e18-41de-a6a4-6b31e03e878f",
   "metadata": {},
   "outputs": [],
   "source": [
    "from qiskit.circuit import ParameterVector\n",
    "\n",
    "cost_threshold = 1e-3\n",
    "\n",
    "parameter_space_size = 2 * chain_length + 3 * chain_length * num_layers\n",
    "param_space = ParameterVector('θ', parameter_space_size)\n",
    "\n",
    "parameter_space_size2 = 2 * chain_length * num_layers + (omit_ratio*chain_length)//2 + (((chain_length*(1-omit_ratio)))//2-1)\n",
    "param_space2 = ParameterVector('θ', parameter_space_size2)"
   ]
  },
  {
   "cell_type": "markdown",
   "id": "d056b113-fda4-4e3c-be55-39311cca20db",
   "metadata": {},
   "source": [
    "### Functions"
   ]
  },
  {
   "cell_type": "markdown",
   "id": "ad56633d-d588-4b8d-a830-781b9d9c0094",
   "metadata": {},
   "source": [
    "#### Ansatz creator for spin chain"
   ]
  },
  {
   "cell_type": "code",
   "execution_count": 4,
   "id": "f8a95b43-7c2d-4533-9136-1100e25a9b62",
   "metadata": {},
   "outputs": [],
   "source": [
    "def create_ansatz_circuit(qc, num_layers=num_layers, param_space=param_space):\n",
    "    param_counter = -1\n",
    "    def ansatz_circuit_0(qc, param_space, param_counter=0):\n",
    "        print('Number of params:',parameter_space_size)\n",
    "        # layer 0\n",
    "        # param_counter=0\n",
    "        for i in range(qc.num_qubits):\n",
    "            qc.rx(param_space[param_counter:=param_counter+1],i)\n",
    "            qc.rz(param_space[param_counter:=param_counter+1],i)\n",
    "        return param_counter\n",
    "    def ansatz_circuit_1(qc, param_space, param_counter=0):\n",
    "        # param_counter = 2 * chain_length\n",
    "        for i in range(qc.num_qubits-1):\n",
    "            qc.cx(i,i+1)\n",
    "        qc.cx(-1,0)\n",
    "        for i in range(qc.num_qubits):\n",
    "            qc.rz(param_space[param_counter:=param_counter+1],i)\n",
    "            qc.rx(param_space[param_counter:=param_counter+1],i)\n",
    "            qc.rz(param_space[param_counter:=param_counter+1],i)\n",
    "        return param_counter\n",
    "    param_counter = ansatz_circuit_0(qc, param_space, param_counter)\n",
    "    for i in range(num_layers):\n",
    "        param_counter = ansatz_circuit_1(qc, param_space, param_counter)\n",
    "    display(qc.draw('mpl'))"
   ]
  },
  {
   "cell_type": "markdown",
   "id": "d9411e77-6e25-41a0-92d5-d5a85eb82c91",
   "metadata": {},
   "source": [
    "#### Ansatz creator for spin ladder"
   ]
  },
  {
   "cell_type": "code",
   "execution_count": 5,
   "id": "6107a459-9336-40a2-8bfb-4c30ed2a8389",
   "metadata": {},
   "outputs": [],
   "source": [
    "def ansatz_circuit_ladder(qc, param_space=param_space2, omit_ratio=omit_ratio):\n",
    "    counter = -1\n",
    "    def layer(qc, params, param_counter):\n",
    "        for i in range(qc.num_qubits):\n",
    "            qc.rx(params[param_counter:=param_counter+1],i)\n",
    "            qc.rz(params[param_counter:=param_counter+1],i)\n",
    "        return param_counter\n",
    "    def entangle(qc, params, param_counter, double_entangle):\n",
    "        for i in range(qc.num_qubits//2):\n",
    "            qc.rzz(params[param_counter:=param_counter+1], 2*i, 2*i+1)\n",
    "        if double_entangle:\n",
    "            for i in range((qc.num_qubits-1)//2):\n",
    "                qc.rzz(params[param_counter:=param_counter+1], 2*i+1, 2*i+2)\n",
    "        return param_counter\n",
    "    fra = Fraction(omit_ratio).limit_denominator()\n",
    "    # print(fra)\n",
    "    for layer_count in range(num_layers):\n",
    "        counter = layer(qc, param_space, counter)\n",
    "        counter = entangle(qc, param_space, counter, double_entangle=(layer_count%fra.denominator<fra.numerator))\n",
    "        qc.barrier()\n",
    "    display(qc.draw('mpl'))"
   ]
  },
  {
   "cell_type": "markdown",
   "id": "12a6a7e9-ea14-4b64-a237-7bb793801ce6",
   "metadata": {},
   "source": [
    "#### Hamiltonians"
   ]
  },
  {
   "cell_type": "code",
   "execution_count": 6,
   "id": "86d009ab-fb10-462b-acae-24434c34ee8d",
   "metadata": {},
   "outputs": [],
   "source": [
    "def hamiltonian(t, A=2, J=1, Ω=Ω):\n",
    "    creator = ['I']*chain_length\n",
    "    paulis = ['I','X','Y','Z']\n",
    "    ham = [] # [('X',1.0)]\n",
    "    for i in range(chain_length-1):\n",
    "        for j in range(1,4):\n",
    "            op = creator[:]\n",
    "            op[i] = paulis[j]\n",
    "            op[i+1] = paulis[j]\n",
    "            ham.append([''.join(op), -J/4])\n",
    "    for i in range(chain_length):\n",
    "        op1, op2 = creator[:], creator[:]\n",
    "        op1[i] = 'X'\n",
    "        op2[i] = 'Y'\n",
    "        ham.append([''.join(op1), A * np.cos(Ω*t)])\n",
    "        ham.append([''.join(op2), A * np.sin(Ω*t)])\n",
    "    ham = np.array(ham)\n",
    "    # print(A * np.cos(Ω*t))\n",
    "    return SparsePauliOp(ham[:,0], ham[:,1])\n",
    "\n",
    "def hamiltonian_linear(t, A, Δ=1, Ω=Ω):\n",
    "    ham = SparsePauliOp(['Z','X'] , [-Δ/2, A/2/Ω*np.cos(Ω*t)])\n",
    "    # plt.plot(t, A*np.cos(Ω*t)/2,'.')\n",
    "    return ham"
   ]
  },
  {
   "cell_type": "markdown",
   "id": "343c38dd-1d8a-4047-b5f3-9593a73e61f1",
   "metadata": {},
   "source": [
    "#### Unitary time evolution"
   ]
  },
  {
   "cell_type": "code",
   "execution_count": 7,
   "id": "735eb1fa-5606-49e5-b628-70288b39f3bf",
   "metadata": {},
   "outputs": [],
   "source": [
    "def unitary_time_evolver(ham, *args, num_qbits=chain_length, time=num_time_steps*dt, dt=dt):#num_steps=num_time_steps):\n",
    "\n",
    "    circuit = QuantumCircuit(num_qbits)\n",
    "    \n",
    "    for i in range(1, num_time_steps+1):\n",
    "        circuit.append(PauliEvolutionGate(ham(i*dt, *args), time=dt), range(num_qbits))\n",
    "\n",
    "    # print('Unitary Evolution Circuit')\n",
    "    # display(circuit.draw('mpl'))\n",
    "    \n",
    "    return circuit"
   ]
  },
  {
   "cell_type": "markdown",
   "id": "54b177b9-dba0-4160-becb-1a9794c19fbd",
   "metadata": {},
   "source": [
    "### From qiskit docs"
   ]
  },
  {
   "cell_type": "markdown",
   "id": "23505198-0b83-474b-ae7f-5b7ddaf23ee0",
   "metadata": {},
   "source": [
    "First, we'll setup a function that calculates the state fidelity -- a percentage of overlap between two states that we'll use as a penalty for VQD:\n",
    "\n",
    "wtf is this"
   ]
  },
  {
   "cell_type": "code",
   "execution_count": 8,
   "id": "fbea4eaf-ec36-44f5-b086-eceee666853b",
   "metadata": {},
   "outputs": [],
   "source": [
    "def calculate_overlap(circuits_1, circuits_2, parameters, backend):\n",
    "\n",
    "    def get_global_fidelity(probability_distribution):\n",
    "        \"\"\"Process the probability distribution of a measurement to determine the\n",
    "        global fidelity.\n",
    "        \"\"\"\n",
    "        return probability_distribution.get(0, 0)\n",
    "    \n",
    "    def create_fidelity_circuit(circuit_1, circuit_2):\n",
    "        if len(circuit_1.clbits) > 0:\n",
    "            circuit_1.remove_final_measurements()\n",
    "        if len(circuit_2.clbits) > 0:\n",
    "            circuit_2.remove_final_measurements()\n",
    "\n",
    "        circuit = circuit_1.compose(circuit_2.inverse())\n",
    "        circuit.measure_all()\n",
    "        return circuit\n",
    "    \n",
    "    def construct_fidelity_circuits(circuits_1, circuits_2):\n",
    "        \"\"\"\n",
    "        Constructs the list of fidelity circuits to be evaluated.\n",
    "        These circuits represent the state overlap between pairs of input circuits,\n",
    "        and their construction depends on the fidelity method implementations.\n",
    "        \"\"\"\n",
    "        circuits = []\n",
    "        for (circuit_1, circuit_2) in zip(circuits_1, circuits_2):\n",
    "            # re-parametrize input circuits\n",
    "            parameters_1 = ParameterVector(\"x\", circuit_1.num_parameters)\n",
    "            parametrized_circuit_1 = circuit_1.assign_parameters(parameters_1)\n",
    "            parameters_2 = ParameterVector(\"y\", circuit_2.num_parameters)\n",
    "            parametrized_circuit_2 = circuit_2.assign_parameters(parameters_2)\n",
    "\n",
    "            circuit = create_fidelity_circuit(\n",
    "                parametrized_circuit_1, parametrized_circuit_2\n",
    "            )\n",
    "            circuits.append(circuit)\n",
    "\n",
    "        return circuits\n",
    "\n",
    "    circuits = construct_fidelity_circuits(circuits_1, circuits_2)\n",
    "\n",
    "    job = backend.run(circuits=circuits, parameter_values=parameters)\n",
    "    result = job.result()\n",
    "\n",
    "    raw_fidelities = [\n",
    "        get_global_fidelity(prob_dist) for prob_dist in result.quasi_dists\n",
    "    ]\n",
    "\n",
    "    return np.clip(raw_fidelities, 0, 1).tolist()"
   ]
  },
  {
   "cell_type": "markdown",
   "id": "f38daa54-c58a-4518-8c79-1c3d5d17508d",
   "metadata": {},
   "source": [
    "Next, we'll setup our runtime primitives"
   ]
  },
  {
   "cell_type": "code",
   "execution_count": 24,
   "id": "8f963b71-9b98-4ea7-b2e3-66c82b891f30",
   "metadata": {},
   "outputs": [],
   "source": [
    "from qiskit.primitives import StatevectorEstimator as Estimator\n",
    "from qiskit.primitives import StatevectorSampler as Sampler\n",
    "\n",
    "sampler = Sampler()\n",
    "estimator = Estimator()"
   ]
  },
  {
   "cell_type": "markdown",
   "id": "456b9e0e-3d70-4e77-ab64-d1d9b484a37a",
   "metadata": {},
   "source": [
    "It's time to write VQD's cost function:"
   ]
  },
  {
   "cell_type": "markdown",
   "id": "0a2c7a1c-815f-45b4-b137-e400ba9e4579",
   "metadata": {},
   "source": [
    "#### Cost function"
   ]
  },
  {
   "cell_type": "code",
   "execution_count": 28,
   "id": "87a5a6aa-a37d-4d07-9dd9-1eaac67a3ae5",
   "metadata": {},
   "outputs": [],
   "source": [
    "import numpy as np\n",
    "\n",
    "def cost_func_vqd(parameters, ansatz, prev_states, step, betas, estimator, sampler, hamiltonian):\n",
    "    \n",
    "    if len(parameters.shape) == 1:\n",
    "        parameters = np.reshape(parameters, (-1, ansatz.num_parameters))\n",
    "\n",
    "    batch_size = len(parameters)\n",
    "\n",
    "    estimator_job = estimator.run(\n",
    "        (batch_size * [ansatz], batch_size * [hamiltonian], parameters)\n",
    "    )\n",
    "\n",
    "    total_cost = np.zeros(batch_size)\n",
    "\n",
    "    if step > 1:\n",
    "        # compute overlap cost\n",
    "        batched_prev_states = [state for state in prev_states for _ in range(batch_size)]\n",
    "        costs = calculate_overlap(\n",
    "            batch_size * [ansatz] * (step - 1),\n",
    "            batched_prev_states,\n",
    "            np.tile(parameters, (step - 1, 1)),\n",
    "            sampler\n",
    "        )\n",
    "\n",
    "        costs = np.reshape(costs, (step - 1, -1))\n",
    "        for state, cost in enumerate(costs):\n",
    "            total_cost += np.real(betas[state] * cost)\n",
    "\n",
    "    estimator_result = estimator_job.result()\n",
    "\n",
    "    values = estimator_result.values + total_cost\n",
    "\n",
    "    return values if len(values) > 1 else values[0]"
   ]
  },
  {
   "cell_type": "markdown",
   "id": "9b66e9ab-38c4-4667-a085-57b63d11f5ce",
   "metadata": {},
   "source": [
    "#### Linear Driver code"
   ]
  },
  {
   "cell_type": "code",
   "execution_count": 29,
   "id": "6cb98d88-3650-480d-8c8e-5a7404cf2f0d",
   "metadata": {},
   "outputs": [],
   "source": [
    "from qiskit.quantum_info import SparsePauliOp\n",
    "from qiskit import QuantumCircuit\n",
    "from qiskit.circuit.library import PauliEvolutionGate\n",
    "\n",
    "k = 3\n",
    "betas = [5, 5, 5]\n",
    "x0 = np.zeros(3)\n",
    "observable = unitary_time_evolver(hamiltonian_linear, 1/Ω, num_qbits=1)\n",
    "ansatz = QuantumCircuit(1)\n",
    "ansatz.u(*ParameterVector('θ',3),0)\n",
    "\n",
    "prev_states = []\n",
    "prev_opt_parameters = []\n",
    "eigenvalues = []"
   ]
  },
  {
   "cell_type": "code",
   "execution_count": 30,
   "id": "0d5f59d8-7711-4c4c-b9b3-ba7923f3a09a",
   "metadata": {},
   "outputs": [
    {
     "ename": "TypeError",
     "evalue": "StatevectorEstimator.run() takes 2 positional arguments but 4 were given",
     "output_type": "error",
     "traceback": [
      "\u001b[0;31m---------------------------------------------------------------------------\u001b[0m",
      "\u001b[0;31mTypeError\u001b[0m                                 Traceback (most recent call last)",
      "Cell \u001b[0;32mIn[30], line 8\u001b[0m\n\u001b[1;32m      5\u001b[0m \u001b[38;5;28;01mif\u001b[39;00m step \u001b[38;5;241m>\u001b[39m \u001b[38;5;241m1\u001b[39m:\n\u001b[1;32m      6\u001b[0m     prev_states\u001b[38;5;241m.\u001b[39mappend(ansatz\u001b[38;5;241m.\u001b[39mbind_parameters(prev_opt_parameters))\n\u001b[0;32m----> 8\u001b[0m result \u001b[38;5;241m=\u001b[39m minimize(cost_func_vqd, x0, args\u001b[38;5;241m=\u001b[39m(ansatz, prev_states, step, betas, estimator, sampler, observable), method\u001b[38;5;241m=\u001b[39m\u001b[38;5;124m\"\u001b[39m\u001b[38;5;124mBFGS\u001b[39m\u001b[38;5;124m\"\u001b[39m)\n\u001b[1;32m      9\u001b[0m \u001b[38;5;28mprint\u001b[39m(result)\n\u001b[1;32m     11\u001b[0m prev_opt_parameters \u001b[38;5;241m=\u001b[39m result\u001b[38;5;241m.\u001b[39mx\n",
      "File \u001b[0;32m/data/khan/miniconda3/envs/qiskit/lib/python3.12/site-packages/scipy/optimize/_minimize.py:708\u001b[0m, in \u001b[0;36mminimize\u001b[0;34m(fun, x0, args, method, jac, hess, hessp, bounds, constraints, tol, callback, options)\u001b[0m\n\u001b[1;32m    706\u001b[0m     res \u001b[38;5;241m=\u001b[39m _minimize_cg(fun, x0, args, jac, callback, \u001b[38;5;241m*\u001b[39m\u001b[38;5;241m*\u001b[39moptions)\n\u001b[1;32m    707\u001b[0m \u001b[38;5;28;01melif\u001b[39;00m meth \u001b[38;5;241m==\u001b[39m \u001b[38;5;124m'\u001b[39m\u001b[38;5;124mbfgs\u001b[39m\u001b[38;5;124m'\u001b[39m:\n\u001b[0;32m--> 708\u001b[0m     res \u001b[38;5;241m=\u001b[39m _minimize_bfgs(fun, x0, args, jac, callback, \u001b[38;5;241m*\u001b[39m\u001b[38;5;241m*\u001b[39moptions)\n\u001b[1;32m    709\u001b[0m \u001b[38;5;28;01melif\u001b[39;00m meth \u001b[38;5;241m==\u001b[39m \u001b[38;5;124m'\u001b[39m\u001b[38;5;124mnewton-cg\u001b[39m\u001b[38;5;124m'\u001b[39m:\n\u001b[1;32m    710\u001b[0m     res \u001b[38;5;241m=\u001b[39m _minimize_newtoncg(fun, x0, args, jac, hess, hessp, callback,\n\u001b[1;32m    711\u001b[0m                              \u001b[38;5;241m*\u001b[39m\u001b[38;5;241m*\u001b[39moptions)\n",
      "File \u001b[0;32m/data/khan/miniconda3/envs/qiskit/lib/python3.12/site-packages/scipy/optimize/_optimize.py:1372\u001b[0m, in \u001b[0;36m_minimize_bfgs\u001b[0;34m(fun, x0, args, jac, callback, gtol, norm, eps, maxiter, disp, return_all, finite_diff_rel_step, xrtol, c1, c2, hess_inv0, **unknown_options)\u001b[0m\n\u001b[1;32m   1369\u001b[0m \u001b[38;5;28;01mif\u001b[39;00m maxiter \u001b[38;5;129;01mis\u001b[39;00m \u001b[38;5;28;01mNone\u001b[39;00m:\n\u001b[1;32m   1370\u001b[0m     maxiter \u001b[38;5;241m=\u001b[39m \u001b[38;5;28mlen\u001b[39m(x0) \u001b[38;5;241m*\u001b[39m \u001b[38;5;241m200\u001b[39m\n\u001b[0;32m-> 1372\u001b[0m sf \u001b[38;5;241m=\u001b[39m _prepare_scalar_function(fun, x0, jac, args\u001b[38;5;241m=\u001b[39margs, epsilon\u001b[38;5;241m=\u001b[39meps,\n\u001b[1;32m   1373\u001b[0m                               finite_diff_rel_step\u001b[38;5;241m=\u001b[39mfinite_diff_rel_step)\n\u001b[1;32m   1375\u001b[0m f \u001b[38;5;241m=\u001b[39m sf\u001b[38;5;241m.\u001b[39mfun\n\u001b[1;32m   1376\u001b[0m myfprime \u001b[38;5;241m=\u001b[39m sf\u001b[38;5;241m.\u001b[39mgrad\n",
      "File \u001b[0;32m/data/khan/miniconda3/envs/qiskit/lib/python3.12/site-packages/scipy/optimize/_optimize.py:288\u001b[0m, in \u001b[0;36m_prepare_scalar_function\u001b[0;34m(fun, x0, jac, args, bounds, epsilon, finite_diff_rel_step, hess)\u001b[0m\n\u001b[1;32m    284\u001b[0m     bounds \u001b[38;5;241m=\u001b[39m (\u001b[38;5;241m-\u001b[39mnp\u001b[38;5;241m.\u001b[39minf, np\u001b[38;5;241m.\u001b[39minf)\n\u001b[1;32m    286\u001b[0m \u001b[38;5;66;03m# ScalarFunction caches. Reuse of fun(x) during grad\u001b[39;00m\n\u001b[1;32m    287\u001b[0m \u001b[38;5;66;03m# calculation reduces overall function evaluations.\u001b[39;00m\n\u001b[0;32m--> 288\u001b[0m sf \u001b[38;5;241m=\u001b[39m ScalarFunction(fun, x0, args, grad, hess,\n\u001b[1;32m    289\u001b[0m                     finite_diff_rel_step, bounds, epsilon\u001b[38;5;241m=\u001b[39mepsilon)\n\u001b[1;32m    291\u001b[0m \u001b[38;5;28;01mreturn\u001b[39;00m sf\n",
      "File \u001b[0;32m/data/khan/miniconda3/envs/qiskit/lib/python3.12/site-packages/scipy/optimize/_differentiable_functions.py:166\u001b[0m, in \u001b[0;36mScalarFunction.__init__\u001b[0;34m(self, fun, x0, args, grad, hess, finite_diff_rel_step, finite_diff_bounds, epsilon)\u001b[0m\n\u001b[1;32m    163\u001b[0m     \u001b[38;5;28mself\u001b[39m\u001b[38;5;241m.\u001b[39mf \u001b[38;5;241m=\u001b[39m fun_wrapped(\u001b[38;5;28mself\u001b[39m\u001b[38;5;241m.\u001b[39mx)\n\u001b[1;32m    165\u001b[0m \u001b[38;5;28mself\u001b[39m\u001b[38;5;241m.\u001b[39m_update_fun_impl \u001b[38;5;241m=\u001b[39m update_fun\n\u001b[0;32m--> 166\u001b[0m \u001b[38;5;28mself\u001b[39m\u001b[38;5;241m.\u001b[39m_update_fun()\n\u001b[1;32m    168\u001b[0m \u001b[38;5;66;03m# Gradient evaluation\u001b[39;00m\n\u001b[1;32m    169\u001b[0m \u001b[38;5;28;01mif\u001b[39;00m \u001b[38;5;28mcallable\u001b[39m(grad):\n",
      "File \u001b[0;32m/data/khan/miniconda3/envs/qiskit/lib/python3.12/site-packages/scipy/optimize/_differentiable_functions.py:262\u001b[0m, in \u001b[0;36mScalarFunction._update_fun\u001b[0;34m(self)\u001b[0m\n\u001b[1;32m    260\u001b[0m \u001b[38;5;28;01mdef\u001b[39;00m \u001b[38;5;21m_update_fun\u001b[39m(\u001b[38;5;28mself\u001b[39m):\n\u001b[1;32m    261\u001b[0m     \u001b[38;5;28;01mif\u001b[39;00m \u001b[38;5;129;01mnot\u001b[39;00m \u001b[38;5;28mself\u001b[39m\u001b[38;5;241m.\u001b[39mf_updated:\n\u001b[0;32m--> 262\u001b[0m         \u001b[38;5;28mself\u001b[39m\u001b[38;5;241m.\u001b[39m_update_fun_impl()\n\u001b[1;32m    263\u001b[0m         \u001b[38;5;28mself\u001b[39m\u001b[38;5;241m.\u001b[39mf_updated \u001b[38;5;241m=\u001b[39m \u001b[38;5;28;01mTrue\u001b[39;00m\n",
      "File \u001b[0;32m/data/khan/miniconda3/envs/qiskit/lib/python3.12/site-packages/scipy/optimize/_differentiable_functions.py:163\u001b[0m, in \u001b[0;36mScalarFunction.__init__.<locals>.update_fun\u001b[0;34m()\u001b[0m\n\u001b[1;32m    162\u001b[0m \u001b[38;5;28;01mdef\u001b[39;00m \u001b[38;5;21mupdate_fun\u001b[39m():\n\u001b[0;32m--> 163\u001b[0m     \u001b[38;5;28mself\u001b[39m\u001b[38;5;241m.\u001b[39mf \u001b[38;5;241m=\u001b[39m fun_wrapped(\u001b[38;5;28mself\u001b[39m\u001b[38;5;241m.\u001b[39mx)\n",
      "File \u001b[0;32m/data/khan/miniconda3/envs/qiskit/lib/python3.12/site-packages/scipy/optimize/_differentiable_functions.py:145\u001b[0m, in \u001b[0;36mScalarFunction.__init__.<locals>.fun_wrapped\u001b[0;34m(x)\u001b[0m\n\u001b[1;32m    141\u001b[0m \u001b[38;5;28mself\u001b[39m\u001b[38;5;241m.\u001b[39mnfev \u001b[38;5;241m+\u001b[39m\u001b[38;5;241m=\u001b[39m \u001b[38;5;241m1\u001b[39m\n\u001b[1;32m    142\u001b[0m \u001b[38;5;66;03m# Send a copy because the user may overwrite it.\u001b[39;00m\n\u001b[1;32m    143\u001b[0m \u001b[38;5;66;03m# Overwriting results in undefined behaviour because\u001b[39;00m\n\u001b[1;32m    144\u001b[0m \u001b[38;5;66;03m# fun(self.x) will change self.x, with the two no longer linked.\u001b[39;00m\n\u001b[0;32m--> 145\u001b[0m fx \u001b[38;5;241m=\u001b[39m fun(np\u001b[38;5;241m.\u001b[39mcopy(x), \u001b[38;5;241m*\u001b[39margs)\n\u001b[1;32m    146\u001b[0m \u001b[38;5;66;03m# Make sure the function returns a true scalar\u001b[39;00m\n\u001b[1;32m    147\u001b[0m \u001b[38;5;28;01mif\u001b[39;00m \u001b[38;5;129;01mnot\u001b[39;00m np\u001b[38;5;241m.\u001b[39misscalar(fx):\n",
      "Cell \u001b[0;32mIn[28], line 10\u001b[0m, in \u001b[0;36mcost_func_vqd\u001b[0;34m(parameters, ansatz, prev_states, step, betas, estimator, sampler, hamiltonian)\u001b[0m\n\u001b[1;32m      6\u001b[0m     parameters \u001b[38;5;241m=\u001b[39m np\u001b[38;5;241m.\u001b[39mreshape(parameters, (\u001b[38;5;241m-\u001b[39m\u001b[38;5;241m1\u001b[39m, ansatz\u001b[38;5;241m.\u001b[39mnum_parameters))\n\u001b[1;32m      8\u001b[0m batch_size \u001b[38;5;241m=\u001b[39m \u001b[38;5;28mlen\u001b[39m(parameters)\n\u001b[0;32m---> 10\u001b[0m estimator_job \u001b[38;5;241m=\u001b[39m estimator\u001b[38;5;241m.\u001b[39mrun(\n\u001b[1;32m     11\u001b[0m     batch_size \u001b[38;5;241m*\u001b[39m [ansatz], batch_size \u001b[38;5;241m*\u001b[39m [hamiltonian], parameters\n\u001b[1;32m     12\u001b[0m )\n\u001b[1;32m     14\u001b[0m total_cost \u001b[38;5;241m=\u001b[39m np\u001b[38;5;241m.\u001b[39mzeros(batch_size)\n\u001b[1;32m     16\u001b[0m \u001b[38;5;28;01mif\u001b[39;00m step \u001b[38;5;241m>\u001b[39m \u001b[38;5;241m1\u001b[39m:\n\u001b[1;32m     17\u001b[0m     \u001b[38;5;66;03m# compute overlap cost\u001b[39;00m\n",
      "\u001b[0;31mTypeError\u001b[0m: StatevectorEstimator.run() takes 2 positional arguments but 4 were given"
     ]
    }
   ],
   "source": [
    "from scipy.optimize import minimize\n",
    "\n",
    "for step in range(1, k + 1):\n",
    "    \n",
    "    if step > 1:\n",
    "        prev_states.append(ansatz.bind_parameters(prev_opt_parameters))\n",
    "    \n",
    "    result = minimize(cost_func_vqd, x0, args=(ansatz, prev_states, step, betas, estimator, sampler, observable), method=\"BFGS\")\n",
    "    print(result)\n",
    "\n",
    "    prev_opt_parameters = result.x\n",
    "    eigenvalues.append(result.fun)"
   ]
  },
  {
   "cell_type": "code",
   "execution_count": 31,
   "id": "fe75c2e0-8512-4c87-8cc5-aa20357b3a68",
   "metadata": {},
   "outputs": [
    {
     "data": {
      "text/plain": [
       "[]"
      ]
     },
     "execution_count": 31,
     "metadata": {},
     "output_type": "execute_result"
    }
   ],
   "source": [
    "eigenvalues"
   ]
  },
  {
   "cell_type": "code",
   "execution_count": null,
   "id": "8595d70e-93e7-4a60-a77e-6738724457ef",
   "metadata": {},
   "outputs": [],
   "source": [
    "session.close()"
   ]
  }
 ],
 "metadata": {
  "kernelspec": {
   "display_name": "Python 3 (ipykernel)",
   "language": "python",
   "name": "python3"
  },
  "language_info": {
   "codemirror_mode": {
    "name": "ipython",
    "version": 3
   },
   "file_extension": ".py",
   "mimetype": "text/x-python",
   "name": "python",
   "nbconvert_exporter": "python",
   "pygments_lexer": "ipython3",
   "version": "3.12.3"
  }
 },
 "nbformat": 4,
 "nbformat_minor": 5
}
