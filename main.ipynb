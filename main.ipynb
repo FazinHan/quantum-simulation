{
 "cells": [
  {
   "cell_type": "markdown",
   "id": "cc1de3d6-4a62-46c2-a940-f002a9bc3aa6",
   "metadata": {},
   "source": [
    "### Parameters"
   ]
  },
  {
   "cell_type": "code",
   "execution_count": 1,
   "id": "8953167e-4e0e-4629-84f9-94fbf605b7ac",
   "metadata": {},
   "outputs": [],
   "source": [
    "chain_length = 4\n",
    "\n",
    "Ω = 2.5\n",
    "\n",
    "omit_ratio = 0"
   ]
  },
  {
   "cell_type": "code",
   "execution_count": 2,
   "id": "633fc5f3-a597-4646-92c2-e4d0c3e9f441",
   "metadata": {},
   "outputs": [],
   "source": [
    "import numpy as np\n",
    "\n",
    "num_layers = 2\n",
    "periods = 1\n",
    "num_time_steps = 150\n",
    "dt = periods / num_time_steps * 2*np.pi/Ω\n",
    "A = 0"
   ]
  },
  {
   "cell_type": "code",
   "execution_count": 3,
   "id": "915acddf-4e18-41de-a6a4-6b31e03e878f",
   "metadata": {},
   "outputs": [],
   "source": [
    "from qiskit.circuit import ParameterVector\n",
    "\n",
    "cost_threshold = 1e-3\n",
    "\n",
    "parameter_space_size = 2 * chain_length + 3 * chain_length * num_layers\n",
    "param_space = ParameterVector('θ', parameter_space_size)\n",
    "\n",
    "parameter_space_size2 = 2 * chain_length * num_layers + (omit_ratio*chain_length)//2 + (((chain_length*(1-omit_ratio)))//2-1)\n",
    "param_space2 = ParameterVector('θ', parameter_space_size2)"
   ]
  },
  {
   "cell_type": "markdown",
   "id": "d056b113-fda4-4e3c-be55-39311cca20db",
   "metadata": {},
   "source": [
    "### Functions"
   ]
  },
  {
   "cell_type": "markdown",
   "id": "5cbf1ef4-5f96-489a-8c2b-6750dada1aee",
   "metadata": {},
   "source": [
    "#### QFT and QFT$^\\dagger$"
   ]
  },
  {
   "cell_type": "code",
   "execution_count": 4,
   "id": "08620553-2ab5-4218-9a7a-bef7d4ed5fe6",
   "metadata": {
    "tags": []
   },
   "outputs": [],
   "source": [
    "#QFT Circuit\n",
    "def qft(n):\n",
    "    \"\"\"Creates an n-qubit QFT circuit\"\"\"\n",
    "    circuit = QuantumCircuit(n)\n",
    "    def swap_registers(circuit, n):\n",
    "        for qubit in range(n//2):\n",
    "            circuit.swap(qubit, n-qubit-1)\n",
    "        return circuit\n",
    "    def qft_rotations(circuit, n):\n",
    "        \"\"\"Performs qft on the first n qubits in circuit (without swaps)\"\"\"\n",
    "        if n == 0:\n",
    "            return circuit\n",
    "        n -= 1\n",
    "        circuit.h(n)\n",
    "        for qubit in range(n):\n",
    "            circuit.cp(np.pi/2**(n-qubit), qubit, n)\n",
    "        qft_rotations(circuit, n)\n",
    "    \n",
    "    qft_rotations(circuit, n)\n",
    "    swap_registers(circuit, n)\n",
    "    return circuit\n",
    "\n",
    "#Inverse Quantum Fourier Transform\n",
    "def qft_dagger(qc, n):\n",
    "    \"\"\"n-qubit QFTdagger the first n qubits in circ\"\"\"\n",
    "    # Don't forget the Swaps!\n",
    "    for qubit in range(n//2):\n",
    "        qc.swap(qubit, n-qubit-1)\n",
    "    for j in range(n):\n",
    "        for m in range(j):\n",
    "            qc.cp(-np.pi/float(2**(j-m)), m, j)\n",
    "        qc.h(j)\n",
    "    return qc"
   ]
  },
  {
   "cell_type": "markdown",
   "id": "ad56633d-d588-4b8d-a830-781b9d9c0094",
   "metadata": {},
   "source": [
    "#### Ansatz creator for spin chain"
   ]
  },
  {
   "cell_type": "code",
   "execution_count": 5,
   "id": "f8a95b43-7c2d-4533-9136-1100e25a9b62",
   "metadata": {},
   "outputs": [],
   "source": [
    "def create_ansatz_circuit(qc, num_layers=num_layers, param_space=param_space):\n",
    "    param_counter = -1\n",
    "    def ansatz_circuit_0(qc, param_space, param_counter=0):\n",
    "        print('Number of params:',parameter_space_size)\n",
    "        # layer 0\n",
    "        # param_counter=0\n",
    "        for i in range(qc.num_qubits):\n",
    "            qc.rx(param_space[param_counter:=param_counter+1],i)\n",
    "            qc.rz(param_space[param_counter:=param_counter+1],i)\n",
    "        return param_counter\n",
    "    def ansatz_circuit_1(qc, param_space, param_counter=0):\n",
    "        # param_counter = 2 * chain_length\n",
    "        for i in range(qc.num_qubits-1):\n",
    "            qc.cx(i,i+1)\n",
    "        qc.cx(-1,0)\n",
    "        for i in range(qc.num_qubits):\n",
    "            qc.rz(param_space[param_counter:=param_counter+1],i)\n",
    "            qc.rx(param_space[param_counter:=param_counter+1],i)\n",
    "            qc.rz(param_space[param_counter:=param_counter+1],i)\n",
    "        return param_counter\n",
    "    param_counter = ansatz_circuit_0(qc, param_space, param_counter)\n",
    "    for i in range(num_layers):\n",
    "        param_counter = ansatz_circuit_1(qc, param_space, param_counter)\n",
    "    display(qc.draw('mpl'))"
   ]
  },
  {
   "cell_type": "markdown",
   "id": "d9411e77-6e25-41a0-92d5-d5a85eb82c91",
   "metadata": {},
   "source": [
    "#### Ansatz creator for spin ladder"
   ]
  },
  {
   "cell_type": "code",
   "execution_count": 6,
   "id": "6107a459-9336-40a2-8bfb-4c30ed2a8389",
   "metadata": {},
   "outputs": [],
   "source": [
    "def ansatz_circuit_ladder(qc, param_space=param_space2, omit_ratio=omit_ratio):\n",
    "    counter = -1\n",
    "    def layer(qc, params, param_counter):\n",
    "        for i in range(qc.num_qubits):\n",
    "            qc.rx(params[param_counter:=param_counter+1],i)\n",
    "            qc.rz(params[param_counter:=param_counter+1],i)\n",
    "        return param_counter\n",
    "    def entangle(qc, params, param_counter, double_entangle):\n",
    "        for i in range(qc.num_qubits//2):\n",
    "            qc.rzz(params[param_counter:=param_counter+1], 2*i, 2*i+1)\n",
    "        if double_entangle:\n",
    "            for i in range((qc.num_qubits-1)//2):\n",
    "                qc.rzz(params[param_counter:=param_counter+1], 2*i+1, 2*i+2)\n",
    "        return param_counter\n",
    "    fra = Fraction(omit_ratio).limit_denominator()\n",
    "    # print(fra)\n",
    "    for layer_count in range(num_layers):\n",
    "        counter = layer(qc, param_space, counter)\n",
    "        counter = entangle(qc, param_space, counter, double_entangle=(layer_count%fra.denominator<fra.numerator))\n",
    "        qc.barrier()\n",
    "    display(qc.draw('mpl'))"
   ]
  },
  {
   "cell_type": "markdown",
   "id": "12a6a7e9-ea14-4b64-a237-7bb793801ce6",
   "metadata": {},
   "source": [
    "#### Hamiltonians"
   ]
  },
  {
   "cell_type": "code",
   "execution_count": 7,
   "id": "86d009ab-fb10-462b-acae-24434c34ee8d",
   "metadata": {},
   "outputs": [],
   "source": [
    "def hamiltonian(t, A=2, J=1, Ω=Ω):\n",
    "    creator = ['I']*chain_length\n",
    "    paulis = ['I','X','Y','Z']\n",
    "    ham = [] # [('X',1.0)]\n",
    "    for i in range(chain_length-1):\n",
    "        for j in range(1,4):\n",
    "            op = creator[:]\n",
    "            op[i] = paulis[j]\n",
    "            op[i+1] = paulis[j]\n",
    "            ham.append([''.join(op), -J/4])\n",
    "    for i in range(chain_length):\n",
    "        op1, op2 = creator[:], creator[:]\n",
    "        op1[i] = 'X'\n",
    "        op2[i] = 'Y'\n",
    "        ham.append([''.join(op1), A * np.cos(Ω*t)])\n",
    "        ham.append([''.join(op2), A * np.sin(Ω*t)])\n",
    "    ham = np.array(ham)\n",
    "    # print(A * np.cos(Ω*t))\n",
    "    return SparsePauliOp(ham[:,0], ham[:,1])\n",
    "\n",
    "def hamiltonian_linear(t, A, Δ=1, Ω=Ω):\n",
    "    ham = SparsePauliOp(['Z','X'] , [-Δ/2, A/2/Ω*np.cos(Ω*t)])\n",
    "    # plt.plot(t, A*np.cos(Ω*t)/2,'.')\n",
    "    return ham"
   ]
  },
  {
   "cell_type": "markdown",
   "id": "343c38dd-1d8a-4047-b5f3-9593a73e61f1",
   "metadata": {},
   "source": [
    "#### Unitary time evolution"
   ]
  },
  {
   "cell_type": "code",
   "execution_count": 8,
   "id": "735eb1fa-5606-49e5-b628-70288b39f3bf",
   "metadata": {},
   "outputs": [],
   "source": [
    "def unitary_time_evolver(ham, *args, num_qbits=chain_length, time=num_time_steps*dt, dt=dt):#num_steps=num_time_steps):\n",
    "\n",
    "    circuit = QuantumCircuit(num_qbits)\n",
    "    \n",
    "    for i in range(1, num_time_steps+1):\n",
    "        circuit.append(HamiltonianGate(ham(i*dt, *args), time=dt), range(num_qbits))\n",
    "\n",
    "    # print('Unitary Evolution Circuit')\n",
    "    # display(circuit.draw('mpl'))\n",
    "    \n",
    "    return circuit"
   ]
  },
  {
   "cell_type": "markdown",
   "id": "54b177b9-dba0-4160-becb-1a9794c19fbd",
   "metadata": {},
   "source": [
    "### From qiskit docs"
   ]
  },
  {
   "cell_type": "markdown",
   "id": "23505198-0b83-474b-ae7f-5b7ddaf23ee0",
   "metadata": {},
   "source": [
    "First, we'll setup a function that calculates the state fidelity -- a percentage of overlap between two states that we'll use as a penalty for VQD:\n",
    "\n",
    "wtf is this"
   ]
  },
  {
   "cell_type": "code",
   "execution_count": 9,
   "id": "fbea4eaf-ec36-44f5-b086-eceee666853b",
   "metadata": {},
   "outputs": [],
   "source": [
    "def calculate_overlap(circuits_1, circuits_2, parameters, backend):\n",
    "\n",
    "    def get_global_fidelity(probability_distribution):\n",
    "        \"\"\"Process the probability distribution of a measurement to determine the\n",
    "        global fidelity.\n",
    "        \"\"\"\n",
    "        return probability_distribution.get(0, 0)\n",
    "    \n",
    "    def create_fidelity_circuit(circuit_1, circuit_2):\n",
    "        if len(circuit_1.clbits) > 0:\n",
    "            circuit_1.remove_final_measurements()\n",
    "        if len(circuit_2.clbits) > 0:\n",
    "            circuit_2.remove_final_measurements()\n",
    "\n",
    "        circuit = circuit_1.compose(circuit_2.inverse())\n",
    "        circuit.measure_all()\n",
    "        return circuit\n",
    "    \n",
    "    def construct_fidelity_circuits(circuits_1, circuits_2):\n",
    "        \"\"\"\n",
    "        Constructs the list of fidelity circuits to be evaluated.\n",
    "        These circuits represent the state overlap between pairs of input circuits,\n",
    "        and their construction depends on the fidelity method implementations.\n",
    "        \"\"\"\n",
    "        circuits = []\n",
    "        for (circuit_1, circuit_2) in zip(circuits_1, circuits_2):\n",
    "            # re-parametrize input circuits\n",
    "            parameters_1 = ParameterVector(\"x\", circuit_1.num_parameters)\n",
    "            parametrized_circuit_1 = circuit_1.assign_parameters(parameters_1)\n",
    "            parameters_2 = ParameterVector(\"y\", circuit_2.num_parameters)\n",
    "            parametrized_circuit_2 = circuit_2.assign_parameters(parameters_2)\n",
    "\n",
    "            circuit = create_fidelity_circuit(\n",
    "                parametrized_circuit_1, parametrized_circuit_2\n",
    "            )\n",
    "            circuits.append(circuit)\n",
    "\n",
    "        return circuits\n",
    "\n",
    "    circuits = construct_fidelity_circuits(circuits_1, circuits_2)\n",
    "\n",
    "    job = backend.run(circuits=circuits, parameter_values=parameters)\n",
    "    result = job.result()\n",
    "\n",
    "    raw_fidelities = [\n",
    "        get_global_fidelity(prob_dist) for prob_dist in result.quasi_dists\n",
    "    ]\n",
    "\n",
    "    return np.clip(raw_fidelities, 0, 1).tolist()"
   ]
  },
  {
   "cell_type": "markdown",
   "id": "f38daa54-c58a-4518-8c79-1c3d5d17508d",
   "metadata": {},
   "source": [
    "Next, we'll setup our runtime primitives"
   ]
  },
  {
   "cell_type": "code",
   "execution_count": 10,
   "id": "8f963b71-9b98-4ea7-b2e3-66c82b891f30",
   "metadata": {},
   "outputs": [],
   "source": [
    "from qiskit.primitives import Estimator\n",
    "from qiskit.primitives import Sampler\n",
    "\n",
    "sampler = Sampler()\n",
    "estimator = Estimator()"
   ]
  },
  {
   "cell_type": "markdown",
   "id": "456b9e0e-3d70-4e77-ab64-d1d9b484a37a",
   "metadata": {},
   "source": [
    "It's time to write VQD's cost function:"
   ]
  },
  {
   "cell_type": "markdown",
   "id": "0a2c7a1c-815f-45b4-b137-e400ba9e4579",
   "metadata": {},
   "source": [
    "#### Cost function"
   ]
  },
  {
   "cell_type": "code",
   "execution_count": 11,
   "id": "87a5a6aa-a37d-4d07-9dd9-1eaac67a3ae5",
   "metadata": {},
   "outputs": [],
   "source": [
    "import numpy as np\n",
    "\n",
    "def cost_func_vqd(parameters, ansatz, prev_states, step, betas, estimator, sampler, hamiltonian):\n",
    "    \n",
    "    if len(parameters.shape) == 1:\n",
    "        parameters = np.reshape(parameters, (-1, ansatz.num_parameters))\n",
    "\n",
    "    batch_size = len(parameters)\n",
    "\n",
    "    estimator_job = estimator.run(\n",
    "        batch_size * [ansatz], batch_size * [hamiltonian], parameters\n",
    "    )\n",
    "\n",
    "    total_cost = np.zeros(batch_size)\n",
    "\n",
    "    if step > 1:\n",
    "        # compute overlap cost\n",
    "        batched_prev_states = [state for state in prev_states for _ in range(batch_size)]\n",
    "        costs = calculate_overlap(\n",
    "            batch_size * [ansatz] * (step - 1),\n",
    "            batched_prev_states,\n",
    "            np.tile(parameters, (step - 1, 1)),\n",
    "            sampler\n",
    "        )\n",
    "\n",
    "        costs = np.reshape(costs, (step - 1, -1))\n",
    "        for state, cost in enumerate(costs):\n",
    "            total_cost -= np.real(betas[state] * cost)\n",
    "\n",
    "    estimator_result = estimator_job.result()\n",
    "\n",
    "    values = estimator_result.values**2 + total_cost\n",
    "\n",
    "    return values if len(values) > 1 else values[0]"
   ]
  },
  {
   "cell_type": "markdown",
   "id": "9b66e9ab-38c4-4667-a085-57b63d11f5ce",
   "metadata": {},
   "source": [
    "#### Linear Driver code"
   ]
  },
  {
   "cell_type": "code",
   "execution_count": 28,
   "id": "6cb98d88-3650-480d-8c8e-5a7404cf2f0d",
   "metadata": {},
   "outputs": [],
   "source": [
    "from qiskit.quantum_info import SparsePauliOp\n",
    "from qiskit import QuantumCircuit\n",
    "from qiskit.circuit.library import HamiltonianGate\n",
    "\n",
    "k = 2**1\n",
    "betas = [5]*k\n",
    "x0 = np.zeros(3)\n",
    "time_evo_circuit = unitary_time_evolver(hamiltonian_linear, 1/Ω, num_qbits=1)\n",
    "observable = hamiltonian_linear(0, 1/Ω)\n",
    "ansatz = QuantumCircuit(1)\n",
    "theta = ParameterVector('θ',3)\n",
    "ansatz.u(*theta,0)\n",
    "ansatz.compose(time_evo_circuit, inplace=True)\n",
    "ansatz.u(*[-i for i in theta], 0)\n",
    "# ansatz.assign_parameters(np.array([0,1,0]))\n",
    "# display(ansatz.draw())\n",
    "prev_states = []\n",
    "prev_opt_parameters = []\n",
    "eigenvalues = []"
   ]
  },
  {
   "cell_type": "code",
   "execution_count": 29,
   "id": "0d5f59d8-7711-4c4c-b9b3-ba7923f3a09a",
   "metadata": {},
   "outputs": [
    {
     "name": "stdout",
     "output_type": "stream",
     "text": [
      "  message: Optimization terminated successfully.\n",
      "  success: True\n",
      "   status: 0\n",
      "      fun: 1.2516549099322296e-13\n",
      "        x: [-7.274e-01  2.325e-03  6.837e-03]\n",
      "      nit: 4\n",
      "      jac: [ 6.574e-07  8.894e-08 -1.108e-07]\n",
      " hess_inv: [[ 6.262e-01 -1.002e-01  1.212e-01]\n",
      "            [-1.002e-01  9.895e-01  1.351e-02]\n",
      "            [ 1.212e-01  1.351e-02  9.827e-01]]\n",
      "     nfev: 32\n",
      "     njev: 8\n",
      "  message: Optimization terminated successfully.\n",
      "  success: True\n",
      "   status: 0\n",
      "      fun: -4.9999999999983356\n",
      "        x: [-7.900e-01  2.187e-01 -8.614e-02]\n",
      "      nit: 7\n",
      "      jac: [ 1.013e-06  2.980e-07  1.073e-06]\n",
      " hess_inv: [[ 1.360e-01 -1.505e-01  6.945e-02]\n",
      "            [-1.505e-01  8.410e-01 -2.928e-02]\n",
      "            [ 6.945e-02 -2.928e-02  6.640e-01]]\n",
      "     nfev: 32\n",
      "     njev: 8\n"
     ]
    }
   ],
   "source": [
    "from scipy.optimize import minimize\n",
    "# from qiskit.visualization import plot_histogram\n",
    "\n",
    "for step in range(1, k + 1):\n",
    "    \n",
    "    if step > 1:\n",
    "        prev_states.append(ansatz.assign_parameters(prev_opt_parameters))\n",
    "    \n",
    "    result = minimize(cost_func_vqd, x0, args=(ansatz, prev_states, step, betas, estimator, sampler, observable), method=\"BFGS\")\n",
    "    print(result)\n",
    "\n",
    "    prev_opt_parameters = result.x\n",
    "    eigenvalues.append(result.fun)\n",
    "\n",
    "eigenvalues = np.array(eigenvalues)"
   ]
  },
  {
   "cell_type": "markdown",
   "id": "6c140a24-9e96-47f3-bf92-6e663aa284d1",
   "metadata": {},
   "source": [
    "### IQPE"
   ]
  },
  {
   "cell_type": "code",
   "execution_count": 14,
   "id": "733209f0-3623-49ef-a1a0-389f5a8f2e50",
   "metadata": {},
   "outputs": [
    {
     "ename": "AttributeError",
     "evalue": "'QuantumCircuit' object has no attribute 'assign_paramters'",
     "output_type": "error",
     "traceback": [
      "\u001b[1;31m---------------------------------------------------------------------------\u001b[0m",
      "\u001b[1;31mAttributeError\u001b[0m                            Traceback (most recent call last)",
      "Cell \u001b[1;32mIn[14], line 1\u001b[0m\n\u001b[1;32m----> 1\u001b[0m optim_circuit \u001b[38;5;241m=\u001b[39m ansatz\u001b[38;5;241m.\u001b[39massign_paramters(prev_opt_parameters)\n\u001b[0;32m      2\u001b[0m optim_circuit\u001b[38;5;241m.\u001b[39mcompose(time_evo_circuit, inplace\u001b[38;5;241m=\u001b[39m\u001b[38;5;28;01mTrue\u001b[39;00m)\n",
      "\u001b[1;31mAttributeError\u001b[0m: 'QuantumCircuit' object has no attribute 'assign_paramters'"
     ]
    }
   ],
   "source": [
    "optim_circuit = ansatz.assign_paramters(prev_opt_parameters)\n",
    "optim_circuit.compose(time_evo_circuit, inplace=True)\n"
   ]
  }
 ],
 "metadata": {
  "kernelspec": {
   "display_name": "qiskit",
   "language": "python",
   "name": "qiskit"
  },
  "language_info": {
   "codemirror_mode": {
    "name": "ipython",
    "version": 3
   },
   "file_extension": ".py",
   "mimetype": "text/x-python",
   "name": "python",
   "nbconvert_exporter": "python",
   "pygments_lexer": "ipython3",
   "version": "3.12.3"
  }
 },
 "nbformat": 4,
 "nbformat_minor": 5
}
